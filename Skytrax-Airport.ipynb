{
 "cells": [
  {
   "cell_type": "markdown",
   "metadata": {},
   "source": [
    "# Airport Dataset\n",
    "### Exploratory analysis and cleaning\n"
   ]
  },
  {
   "cell_type": "code",
   "execution_count": 1,
   "metadata": {
    "collapsed": true
   },
   "outputs": [],
   "source": [
    "# import your packages you need\n",
    "import pandas as pd\n",
    "import numpy as np\n",
    "import matplotlib.pyplot as plt\n",
    "import math as math\n",
    "import seaborn as sns\n",
    "%matplotlib inline\n",
    "from textblob import TextBlob\n",
    "import warnings\n",
    "warnings.filterwarnings('ignore')\n",
    "np.random.seed(21)"
   ]
  },
  {
   "cell_type": "code",
   "execution_count": 2,
   "metadata": {
    "collapsed": true
   },
   "outputs": [],
   "source": [
    "# use pandas to import the airport skytrax data\n",
    "airport=pd.read_csv(r'data\\airport.csv', sep=',')"
   ]
  },
  {
   "cell_type": "code",
   "execution_count": 3,
   "metadata": {},
   "outputs": [
    {
     "data": {
      "text/html": [
       "<div>\n",
       "<style scoped>\n",
       "    .dataframe tbody tr th:only-of-type {\n",
       "        vertical-align: middle;\n",
       "    }\n",
       "\n",
       "    .dataframe tbody tr th {\n",
       "        vertical-align: top;\n",
       "    }\n",
       "\n",
       "    .dataframe thead th {\n",
       "        text-align: right;\n",
       "    }\n",
       "</style>\n",
       "<table border=\"1\" class=\"dataframe\">\n",
       "  <thead>\n",
       "    <tr style=\"text-align: right;\">\n",
       "      <th></th>\n",
       "      <th>airport_name</th>\n",
       "      <th>link</th>\n",
       "      <th>title</th>\n",
       "      <th>author</th>\n",
       "      <th>author_country</th>\n",
       "      <th>date</th>\n",
       "      <th>content</th>\n",
       "      <th>experience_airport</th>\n",
       "      <th>date_visit</th>\n",
       "      <th>type_traveller</th>\n",
       "      <th>overall_rating</th>\n",
       "      <th>queuing_rating</th>\n",
       "      <th>terminal_cleanliness_rating</th>\n",
       "      <th>terminal_seating_rating</th>\n",
       "      <th>terminal_signs_rating</th>\n",
       "      <th>food_beverages_rating</th>\n",
       "      <th>airport_shopping_rating</th>\n",
       "      <th>wifi_connectivity_rating</th>\n",
       "      <th>airport_staff_rating</th>\n",
       "      <th>recommended</th>\n",
       "    </tr>\n",
       "  </thead>\n",
       "  <tbody>\n",
       "    <tr>\n",
       "      <th>0</th>\n",
       "      <td>aalborg-airport</td>\n",
       "      <td>/airport-reviews/aalborg-airport</td>\n",
       "      <td>Aalborg Airport customer review</td>\n",
       "      <td>Klaus Malling</td>\n",
       "      <td>Denmark</td>\n",
       "      <td>2014-02-11</td>\n",
       "      <td>A small very effective airport with few flight...</td>\n",
       "      <td>NaN</td>\n",
       "      <td>NaN</td>\n",
       "      <td>NaN</td>\n",
       "      <td>9.0</td>\n",
       "      <td>5.0</td>\n",
       "      <td>5.0</td>\n",
       "      <td>NaN</td>\n",
       "      <td>NaN</td>\n",
       "      <td>NaN</td>\n",
       "      <td>4.0</td>\n",
       "      <td>NaN</td>\n",
       "      <td>NaN</td>\n",
       "      <td>1</td>\n",
       "    </tr>\n",
       "    <tr>\n",
       "      <th>1</th>\n",
       "      <td>aalborg-airport</td>\n",
       "      <td>/airport-reviews/aalborg-airport</td>\n",
       "      <td>Aalborg Airport customer review</td>\n",
       "      <td>S Kroes</td>\n",
       "      <td>Netherlands</td>\n",
       "      <td>2013-02-13</td>\n",
       "      <td>This is a nice and modern airport at the momen...</td>\n",
       "      <td>NaN</td>\n",
       "      <td>NaN</td>\n",
       "      <td>NaN</td>\n",
       "      <td>9.0</td>\n",
       "      <td>5.0</td>\n",
       "      <td>4.0</td>\n",
       "      <td>NaN</td>\n",
       "      <td>NaN</td>\n",
       "      <td>NaN</td>\n",
       "      <td>4.0</td>\n",
       "      <td>NaN</td>\n",
       "      <td>NaN</td>\n",
       "      <td>1</td>\n",
       "    </tr>\n",
       "    <tr>\n",
       "      <th>2</th>\n",
       "      <td>aalborg-airport</td>\n",
       "      <td>/airport-reviews/aalborg-airport</td>\n",
       "      <td>Aalborg Airport customer review</td>\n",
       "      <td>M Andersen</td>\n",
       "      <td>Denmark</td>\n",
       "      <td>2012-08-07</td>\n",
       "      <td>A very nice airy terminal - that seems modern ...</td>\n",
       "      <td>NaN</td>\n",
       "      <td>NaN</td>\n",
       "      <td>NaN</td>\n",
       "      <td>9.0</td>\n",
       "      <td>5.0</td>\n",
       "      <td>5.0</td>\n",
       "      <td>NaN</td>\n",
       "      <td>NaN</td>\n",
       "      <td>NaN</td>\n",
       "      <td>4.0</td>\n",
       "      <td>NaN</td>\n",
       "      <td>NaN</td>\n",
       "      <td>1</td>\n",
       "    </tr>\n",
       "    <tr>\n",
       "      <th>3</th>\n",
       "      <td>aalborg-airport</td>\n",
       "      <td>/airport-reviews/aalborg-airport</td>\n",
       "      <td>Aalborg Airport customer review</td>\n",
       "      <td>Paul Van Alsten</td>\n",
       "      <td>France</td>\n",
       "      <td>2011-05-22</td>\n",
       "      <td>AMS-AAL and quite satisfied with this regional...</td>\n",
       "      <td>NaN</td>\n",
       "      <td>NaN</td>\n",
       "      <td>NaN</td>\n",
       "      <td>5.0</td>\n",
       "      <td>5.0</td>\n",
       "      <td>5.0</td>\n",
       "      <td>NaN</td>\n",
       "      <td>NaN</td>\n",
       "      <td>NaN</td>\n",
       "      <td>3.0</td>\n",
       "      <td>NaN</td>\n",
       "      <td>NaN</td>\n",
       "      <td>0</td>\n",
       "    </tr>\n",
       "    <tr>\n",
       "      <th>4</th>\n",
       "      <td>aalborg-airport</td>\n",
       "      <td>/airport-reviews/aalborg-airport</td>\n",
       "      <td>Aalborg Airport customer review</td>\n",
       "      <td>K Fischer</td>\n",
       "      <td>NaN</td>\n",
       "      <td>2010-08-04</td>\n",
       "      <td>Very quick check-inn and security screening. N...</td>\n",
       "      <td>NaN</td>\n",
       "      <td>NaN</td>\n",
       "      <td>NaN</td>\n",
       "      <td>4.0</td>\n",
       "      <td>NaN</td>\n",
       "      <td>NaN</td>\n",
       "      <td>NaN</td>\n",
       "      <td>NaN</td>\n",
       "      <td>NaN</td>\n",
       "      <td>NaN</td>\n",
       "      <td>NaN</td>\n",
       "      <td>NaN</td>\n",
       "      <td>0</td>\n",
       "    </tr>\n",
       "  </tbody>\n",
       "</table>\n",
       "</div>"
      ],
      "text/plain": [
       "      airport_name                              link  \\\n",
       "0  aalborg-airport  /airport-reviews/aalborg-airport   \n",
       "1  aalborg-airport  /airport-reviews/aalborg-airport   \n",
       "2  aalborg-airport  /airport-reviews/aalborg-airport   \n",
       "3  aalborg-airport  /airport-reviews/aalborg-airport   \n",
       "4  aalborg-airport  /airport-reviews/aalborg-airport   \n",
       "\n",
       "                             title           author author_country  \\\n",
       "0  Aalborg Airport customer review    Klaus Malling        Denmark   \n",
       "1  Aalborg Airport customer review          S Kroes    Netherlands   \n",
       "2  Aalborg Airport customer review       M Andersen        Denmark   \n",
       "3  Aalborg Airport customer review  Paul Van Alsten         France   \n",
       "4  Aalborg Airport customer review        K Fischer            NaN   \n",
       "\n",
       "         date                                            content  \\\n",
       "0  2014-02-11  A small very effective airport with few flight...   \n",
       "1  2013-02-13  This is a nice and modern airport at the momen...   \n",
       "2  2012-08-07  A very nice airy terminal - that seems modern ...   \n",
       "3  2011-05-22  AMS-AAL and quite satisfied with this regional...   \n",
       "4  2010-08-04  Very quick check-inn and security screening. N...   \n",
       "\n",
       "  experience_airport date_visit type_traveller  overall_rating  \\\n",
       "0                NaN        NaN            NaN             9.0   \n",
       "1                NaN        NaN            NaN             9.0   \n",
       "2                NaN        NaN            NaN             9.0   \n",
       "3                NaN        NaN            NaN             5.0   \n",
       "4                NaN        NaN            NaN             4.0   \n",
       "\n",
       "   queuing_rating  terminal_cleanliness_rating  terminal_seating_rating  \\\n",
       "0             5.0                          5.0                      NaN   \n",
       "1             5.0                          4.0                      NaN   \n",
       "2             5.0                          5.0                      NaN   \n",
       "3             5.0                          5.0                      NaN   \n",
       "4             NaN                          NaN                      NaN   \n",
       "\n",
       "   terminal_signs_rating  food_beverages_rating  airport_shopping_rating  \\\n",
       "0                    NaN                    NaN                      4.0   \n",
       "1                    NaN                    NaN                      4.0   \n",
       "2                    NaN                    NaN                      4.0   \n",
       "3                    NaN                    NaN                      3.0   \n",
       "4                    NaN                    NaN                      NaN   \n",
       "\n",
       "   wifi_connectivity_rating  airport_staff_rating  recommended  \n",
       "0                       NaN                   NaN            1  \n",
       "1                       NaN                   NaN            1  \n",
       "2                       NaN                   NaN            1  \n",
       "3                       NaN                   NaN            0  \n",
       "4                       NaN                   NaN            0  "
      ]
     },
     "execution_count": 3,
     "metadata": {},
     "output_type": "execute_result"
    }
   ],
   "source": [
    "#check out the data to see what it looks like\n",
    "airport.head()"
   ]
  },
  {
   "cell_type": "code",
   "execution_count": 4,
   "metadata": {},
   "outputs": [
    {
     "data": {
      "text/html": [
       "<div>\n",
       "<style scoped>\n",
       "    .dataframe tbody tr th:only-of-type {\n",
       "        vertical-align: middle;\n",
       "    }\n",
       "\n",
       "    .dataframe tbody tr th {\n",
       "        vertical-align: top;\n",
       "    }\n",
       "\n",
       "    .dataframe thead th {\n",
       "        text-align: right;\n",
       "    }\n",
       "</style>\n",
       "<table border=\"1\" class=\"dataframe\">\n",
       "  <thead>\n",
       "    <tr style=\"text-align: right;\">\n",
       "      <th></th>\n",
       "      <th>overall_rating</th>\n",
       "      <th>queuing_rating</th>\n",
       "      <th>terminal_cleanliness_rating</th>\n",
       "      <th>terminal_seating_rating</th>\n",
       "      <th>terminal_signs_rating</th>\n",
       "      <th>food_beverages_rating</th>\n",
       "      <th>airport_shopping_rating</th>\n",
       "      <th>wifi_connectivity_rating</th>\n",
       "      <th>airport_staff_rating</th>\n",
       "      <th>recommended</th>\n",
       "    </tr>\n",
       "  </thead>\n",
       "  <tbody>\n",
       "    <tr>\n",
       "      <th>count</th>\n",
       "      <td>13796.000000</td>\n",
       "      <td>12813.000000</td>\n",
       "      <td>12815.000000</td>\n",
       "      <td>587.000000</td>\n",
       "      <td>27.000000</td>\n",
       "      <td>630.000000</td>\n",
       "      <td>12676.000000</td>\n",
       "      <td>412.000000</td>\n",
       "      <td>26.000000</td>\n",
       "      <td>17721.000000</td>\n",
       "    </tr>\n",
       "    <tr>\n",
       "      <th>mean</th>\n",
       "      <td>4.274355</td>\n",
       "      <td>2.747912</td>\n",
       "      <td>3.442450</td>\n",
       "      <td>2.580920</td>\n",
       "      <td>2.592593</td>\n",
       "      <td>2.169841</td>\n",
       "      <td>2.821631</td>\n",
       "      <td>2.405340</td>\n",
       "      <td>2.038462</td>\n",
       "      <td>0.221206</td>\n",
       "    </tr>\n",
       "    <tr>\n",
       "      <th>std</th>\n",
       "      <td>2.722765</td>\n",
       "      <td>1.572520</td>\n",
       "      <td>1.337508</td>\n",
       "      <td>1.403862</td>\n",
       "      <td>1.393923</td>\n",
       "      <td>1.534358</td>\n",
       "      <td>1.410575</td>\n",
       "      <td>1.579452</td>\n",
       "      <td>1.248384</td>\n",
       "      <td>0.415071</td>\n",
       "    </tr>\n",
       "    <tr>\n",
       "      <th>min</th>\n",
       "      <td>1.000000</td>\n",
       "      <td>0.000000</td>\n",
       "      <td>0.000000</td>\n",
       "      <td>0.000000</td>\n",
       "      <td>1.000000</td>\n",
       "      <td>0.000000</td>\n",
       "      <td>0.000000</td>\n",
       "      <td>0.000000</td>\n",
       "      <td>1.000000</td>\n",
       "      <td>0.000000</td>\n",
       "    </tr>\n",
       "    <tr>\n",
       "      <th>25%</th>\n",
       "      <td>2.000000</td>\n",
       "      <td>1.000000</td>\n",
       "      <td>3.000000</td>\n",
       "      <td>1.000000</td>\n",
       "      <td>1.000000</td>\n",
       "      <td>1.000000</td>\n",
       "      <td>2.000000</td>\n",
       "      <td>1.000000</td>\n",
       "      <td>1.000000</td>\n",
       "      <td>0.000000</td>\n",
       "    </tr>\n",
       "    <tr>\n",
       "      <th>50%</th>\n",
       "      <td>4.000000</td>\n",
       "      <td>3.000000</td>\n",
       "      <td>3.000000</td>\n",
       "      <td>2.000000</td>\n",
       "      <td>3.000000</td>\n",
       "      <td>2.000000</td>\n",
       "      <td>3.000000</td>\n",
       "      <td>2.000000</td>\n",
       "      <td>1.500000</td>\n",
       "      <td>0.000000</td>\n",
       "    </tr>\n",
       "    <tr>\n",
       "      <th>75%</th>\n",
       "      <td>6.000000</td>\n",
       "      <td>4.000000</td>\n",
       "      <td>5.000000</td>\n",
       "      <td>4.000000</td>\n",
       "      <td>4.000000</td>\n",
       "      <td>3.000000</td>\n",
       "      <td>4.000000</td>\n",
       "      <td>4.000000</td>\n",
       "      <td>3.000000</td>\n",
       "      <td>0.000000</td>\n",
       "    </tr>\n",
       "    <tr>\n",
       "      <th>max</th>\n",
       "      <td>10.000000</td>\n",
       "      <td>5.000000</td>\n",
       "      <td>5.000000</td>\n",
       "      <td>5.000000</td>\n",
       "      <td>5.000000</td>\n",
       "      <td>5.000000</td>\n",
       "      <td>5.000000</td>\n",
       "      <td>5.000000</td>\n",
       "      <td>4.000000</td>\n",
       "      <td>1.000000</td>\n",
       "    </tr>\n",
       "  </tbody>\n",
       "</table>\n",
       "</div>"
      ],
      "text/plain": [
       "       overall_rating  queuing_rating  terminal_cleanliness_rating  \\\n",
       "count    13796.000000    12813.000000                 12815.000000   \n",
       "mean         4.274355        2.747912                     3.442450   \n",
       "std          2.722765        1.572520                     1.337508   \n",
       "min          1.000000        0.000000                     0.000000   \n",
       "25%          2.000000        1.000000                     3.000000   \n",
       "50%          4.000000        3.000000                     3.000000   \n",
       "75%          6.000000        4.000000                     5.000000   \n",
       "max         10.000000        5.000000                     5.000000   \n",
       "\n",
       "       terminal_seating_rating  terminal_signs_rating  food_beverages_rating  \\\n",
       "count               587.000000              27.000000             630.000000   \n",
       "mean                  2.580920               2.592593               2.169841   \n",
       "std                   1.403862               1.393923               1.534358   \n",
       "min                   0.000000               1.000000               0.000000   \n",
       "25%                   1.000000               1.000000               1.000000   \n",
       "50%                   2.000000               3.000000               2.000000   \n",
       "75%                   4.000000               4.000000               3.000000   \n",
       "max                   5.000000               5.000000               5.000000   \n",
       "\n",
       "       airport_shopping_rating  wifi_connectivity_rating  \\\n",
       "count             12676.000000                412.000000   \n",
       "mean                  2.821631                  2.405340   \n",
       "std                   1.410575                  1.579452   \n",
       "min                   0.000000                  0.000000   \n",
       "25%                   2.000000                  1.000000   \n",
       "50%                   3.000000                  2.000000   \n",
       "75%                   4.000000                  4.000000   \n",
       "max                   5.000000                  5.000000   \n",
       "\n",
       "       airport_staff_rating   recommended  \n",
       "count             26.000000  17721.000000  \n",
       "mean               2.038462      0.221206  \n",
       "std                1.248384      0.415071  \n",
       "min                1.000000      0.000000  \n",
       "25%                1.000000      0.000000  \n",
       "50%                1.500000      0.000000  \n",
       "75%                3.000000      0.000000  \n",
       "max                4.000000      1.000000  "
      ]
     },
     "execution_count": 4,
     "metadata": {},
     "output_type": "execute_result"
    }
   ],
   "source": [
    "#see some statistics about the dataset, mean, standard deviation, min, max ... ect\n",
    "airport.describe()"
   ]
  },
  {
   "cell_type": "code",
   "execution_count": 5,
   "metadata": {},
   "outputs": [
    {
     "name": "stdout",
     "output_type": "stream",
     "text": [
      "<class 'pandas.core.frame.DataFrame'>\n",
      "RangeIndex: 17721 entries, 0 to 17720\n",
      "Data columns (total 20 columns):\n",
      "airport_name                   17721 non-null object\n",
      "link                           17721 non-null object\n",
      "title                          17721 non-null object\n",
      "author                         17721 non-null object\n",
      "author_country                 12777 non-null object\n",
      "date                           17721 non-null object\n",
      "content                        17721 non-null object\n",
      "experience_airport             647 non-null object\n",
      "date_visit                     593 non-null object\n",
      "type_traveller                 646 non-null object\n",
      "overall_rating                 13796 non-null float64\n",
      "queuing_rating                 12813 non-null float64\n",
      "terminal_cleanliness_rating    12815 non-null float64\n",
      "terminal_seating_rating        587 non-null float64\n",
      "terminal_signs_rating          27 non-null float64\n",
      "food_beverages_rating          630 non-null float64\n",
      "airport_shopping_rating        12676 non-null float64\n",
      "wifi_connectivity_rating       412 non-null float64\n",
      "airport_staff_rating           26 non-null float64\n",
      "recommended                    17721 non-null int64\n",
      "dtypes: float64(9), int64(1), object(10)\n",
      "memory usage: 2.7+ MB\n"
     ]
    }
   ],
   "source": [
    "#take a look at the columns, their data type and number of values in each column\n",
    "airport.info()\n",
    "\n",
    "# later when we start cleaning, we can remove the columns that have few rows, like \"terminal_seating_rating\",\n",
    "# \"terminal_signs_rating\", \"food_beverages_rating\", \"wifi_connectivity_rating\""
   ]
  },
  {
   "cell_type": "code",
   "execution_count": 6,
   "metadata": {},
   "outputs": [
    {
     "data": {
      "text/plain": [
       "Index(['airport_name', 'link', 'title', 'author', 'author_country', 'date',\n",
       "       'content', 'experience_airport', 'date_visit', 'type_traveller',\n",
       "       'overall_rating', 'queuing_rating', 'terminal_cleanliness_rating',\n",
       "       'terminal_seating_rating', 'terminal_signs_rating',\n",
       "       'food_beverages_rating', 'airport_shopping_rating',\n",
       "       'wifi_connectivity_rating', 'airport_staff_rating', 'recommended'],\n",
       "      dtype='object')"
      ]
     },
     "execution_count": 6,
     "metadata": {},
     "output_type": "execute_result"
    }
   ],
   "source": [
    "# names of columns\n",
    "airport.columns"
   ]
  },
  {
   "cell_type": "code",
   "execution_count": 7,
   "metadata": {},
   "outputs": [
    {
     "name": "stdout",
     "output_type": "stream",
     "text": [
      "0    13801\n",
      "1     3920\n",
      "Name: recommended, dtype: int64\n"
     ]
    },
    {
     "data": {
      "text/plain": [
       "<matplotlib.text.Text at 0xbb36b70>"
      ]
     },
     "execution_count": 7,
     "metadata": {},
     "output_type": "execute_result"
    },
    {
     "data": {
      "image/png": "[encoded data removed]",
      "text/plain": [
       "<matplotlib.figure.Figure at 0xb4556d8>"
      ]
     },
     "metadata": {},
     "output_type": "display_data"
    }
   ],
   "source": [
    "#countplot of recommended (0=no, 1=yes), the dataset is clearly unbalanced \n",
    "counts = airport.recommended.value_counts()\n",
    "print(counts)\n",
    "fig = plt.figure(figsize=(5,5))\n",
    "ax = fig.gca()\n",
    "counts.plot.bar(ax = ax)\n",
    "ax.set_title(\"number of recommended and not recommended\")\n",
    "ax.set_xlabel(\"recommended\")\n",
    "ax.set_ylabel(\"counts\")"
   ]
  },
  {
   "cell_type": "code",
   "execution_count": 8,
   "metadata": {},
   "outputs": [
    {
     "data": {
      "text/plain": [
       "<matplotlib.text.Text at 0xbc31f60>"
      ]
     },
     "execution_count": 8,
     "metadata": {},
     "output_type": "execute_result"
    },
    {
     "data": {
      "image/png": "[encoded data removed]",
      "text/plain": [
       "<matplotlib.figure.Figure at 0xbad1be0>"
      ]
     },
     "metadata": {},
     "output_type": "display_data"
    }
   ],
   "source": [
    "#same plot using seaborn\n",
    "sns.set(style=\"darkgrid\")\n",
    "ax=sns.countplot(x='recommended', data=airport)\n",
    "ax.set_title(\"Recommend airport?\")\n",
    "ax.set_xticklabels([\"No\",\"Yes\"])\n",
    "ax.set_xlabel(\" \")\n",
    "ax.set_ylabel(\"Number of Reviews\")"
   ]
  },
  {
   "cell_type": "markdown",
   "metadata": {},
   "source": [
    "\n",
    "# the airports that have the most reviews  ( more than 200)"
   ]
  },
  {
   "cell_type": "code",
   "execution_count": 9,
   "metadata": {
    "scrolled": false
   },
   "outputs": [
    {
     "data": {
      "text/plain": [
       "<matplotlib.axes._subplots.AxesSubplot at 0xbc31e10>"
      ]
     },
     "execution_count": 9,
     "metadata": {},
     "output_type": "execute_result"
    },
    {
     "data": {
      "image/png": "[encoded data removed]",
      "text/plain": [
       "<matplotlib.figure.Figure at 0xbb607b8>"
      ]
     },
     "metadata": {},
     "output_type": "display_data"
    }
   ],
   "source": [
    "fig, ax = plt.subplots(figsize=(15,7))\n",
    "group = airport.groupby(['airport_name'])['recommended'].count().reset_index(name='count')\n",
    "group.sort_values(by='count',inplace=True)\n",
    "group = group[group['count'] > 200]\n",
    "group.plot.bar(x='airport_name',y='count',ax=ax)\n"
   ]
  },
  {
   "cell_type": "code",
   "execution_count": 10,
   "metadata": {},
   "outputs": [
    {
     "data": {
      "text/html": [
       "<div>\n",
       "<style scoped>\n",
       "    .dataframe tbody tr th:only-of-type {\n",
       "        vertical-align: middle;\n",
       "    }\n",
       "\n",
       "    .dataframe tbody tr th {\n",
       "        vertical-align: top;\n",
       "    }\n",
       "\n",
       "    .dataframe thead th {\n",
       "        text-align: right;\n",
       "    }\n",
       "</style>\n",
       "<table border=\"1\" class=\"dataframe\">\n",
       "  <thead>\n",
       "    <tr style=\"text-align: right;\">\n",
       "      <th></th>\n",
       "      <th>airport_name</th>\n",
       "      <th>count</th>\n",
       "    </tr>\n",
       "  </thead>\n",
       "  <tbody>\n",
       "    <tr>\n",
       "      <th>242</th>\n",
       "      <td>frankfurt-main-airport</td>\n",
       "      <td>218</td>\n",
       "    </tr>\n",
       "    <tr>\n",
       "      <th>60</th>\n",
       "      <td>bangkok-suvarnabhumi-airport</td>\n",
       "      <td>220</td>\n",
       "    </tr>\n",
       "    <tr>\n",
       "      <th>409</th>\n",
       "      <td>london-gatwick-airport</td>\n",
       "      <td>252</td>\n",
       "    </tr>\n",
       "    <tr>\n",
       "      <th>420</th>\n",
       "      <td>luton-airport</td>\n",
       "      <td>275</td>\n",
       "    </tr>\n",
       "    <tr>\n",
       "      <th>210</th>\n",
       "      <td>dubai-airport</td>\n",
       "      <td>279</td>\n",
       "    </tr>\n",
       "    <tr>\n",
       "      <th>519</th>\n",
       "      <td>paris-cdg-airport</td>\n",
       "      <td>301</td>\n",
       "    </tr>\n",
       "    <tr>\n",
       "      <th>437</th>\n",
       "      <td>manchester-airport</td>\n",
       "      <td>303</td>\n",
       "    </tr>\n",
       "    <tr>\n",
       "      <th>411</th>\n",
       "      <td>london-stansted-airport</td>\n",
       "      <td>402</td>\n",
       "    </tr>\n",
       "    <tr>\n",
       "      <th>410</th>\n",
       "      <td>london-heathrow-airport</td>\n",
       "      <td>520</td>\n",
       "    </tr>\n",
       "  </tbody>\n",
       "</table>\n",
       "</div>"
      ],
      "text/plain": [
       "                     airport_name  count\n",
       "242        frankfurt-main-airport    218\n",
       "60   bangkok-suvarnabhumi-airport    220\n",
       "409        london-gatwick-airport    252\n",
       "420                 luton-airport    275\n",
       "210                 dubai-airport    279\n",
       "519             paris-cdg-airport    301\n",
       "437            manchester-airport    303\n",
       "411       london-stansted-airport    402\n",
       "410       london-heathrow-airport    520"
      ]
     },
     "execution_count": 10,
     "metadata": {},
     "output_type": "execute_result"
    }
   ],
   "source": [
    "group.sort_values(by='count',inplace=True)\n",
    "group = group[group['count'] >200]\n",
    "group"
   ]
  },
  {
   "cell_type": "markdown",
   "metadata": {},
   "source": [
    "# counts of each class for top airports "
   ]
  },
  {
   "cell_type": "code",
   "execution_count": 11,
   "metadata": {},
   "outputs": [
    {
     "data": {
      "text/plain": [
       "airport_name                  recommended\n",
       "bangkok-suvarnabhumi-airport  0              151\n",
       "                              1               69\n",
       "dubai-airport                 0              216\n",
       "                              1               63\n",
       "frankfurt-main-airport        0              175\n",
       "                              1               43\n",
       "london-gatwick-airport        0              163\n",
       "                              1               89\n",
       "london-heathrow-airport       0              360\n",
       "                              1              160\n",
       "london-stansted-airport       0              361\n",
       "                              1               41\n",
       "luton-airport                 0              247\n",
       "                              1               28\n",
       "manchester-airport            0              238\n",
       "                              1               65\n",
       "paris-cdg-airport             0              253\n",
       "                              1               48\n",
       "Name: recommended, dtype: int64"
      ]
     },
     "execution_count": 11,
     "metadata": {},
     "output_type": "execute_result"
    }
   ],
   "source": [
    "names = group.airport_name\n",
    "new = airport[airport['airport_name'].isin(names)]\n",
    "new.groupby('airport_name')['recommended'].value_counts()"
   ]
  },
  {
   "cell_type": "code",
   "execution_count": 12,
   "metadata": {},
   "outputs": [
    {
     "data": {
      "text/plain": [
       "<matplotlib.axes._subplots.AxesSubplot at 0xbb67828>"
      ]
     },
     "execution_count": 12,
     "metadata": {},
     "output_type": "execute_result"
    },
    {
     "data": {
      "image/png": "[encoded data removed]",
      "text/plain": [
       "<matplotlib.figure.Figure at 0xbd915f8>"
      ]
     },
     "metadata": {},
     "output_type": "display_data"
    }
   ],
   "source": [
    "fig, ax = plt.subplots(figsize=(15,7))\n",
    "new.groupby('airport_name').recommended.value_counts().unstack().plot.bar(ax=ax)\n",
    "\n",
    "# pd.crosstab(new['airport_name'],new['recommended']).plot.bar()\n",
    "\n"
   ]
  },
  {
   "cell_type": "markdown",
   "metadata": {},
   "source": [
    "\n",
    "# the airports that have the most positive reviews  ( more than 50)"
   ]
  },
  {
   "cell_type": "code",
   "execution_count": 13,
   "metadata": {},
   "outputs": [
    {
     "data": {
      "text/plain": [
       "<matplotlib.axes._subplots.AxesSubplot at 0xbdf6320>"
      ]
     },
     "execution_count": 13,
     "metadata": {},
     "output_type": "execute_result"
    },
    {
     "data": {
      "image/png": "[encoded data removed]",
      "text/plain": [
       "<matplotlib.figure.Figure at 0xbe349e8>"
      ]
     },
     "metadata": {},
     "output_type": "display_data"
    }
   ],
   "source": [
    "fig, ax = plt.subplots(figsize=(15,7))\n",
    "group_pos = airport.groupby(['airport_name'])['recommended'].sum().reset_index(name='count')\n",
    "group_pos.sort_values(by='count',inplace=True)\n",
    "group_pos = group_pos[group_pos['count'] > 50]\n",
    "ax.set_title('Top airports that have more than 300 positive reviews')\n",
    "group_pos.plot.bar(x='airport_name',y='count',ax=ax,color=\"g\")"
   ]
  },
  {
   "cell_type": "code",
   "execution_count": 14,
   "metadata": {},
   "outputs": [
    {
     "data": {
      "text/html": [
       "<div>\n",
       "<style scoped>\n",
       "    .dataframe tbody tr th:only-of-type {\n",
       "        vertical-align: middle;\n",
       "    }\n",
       "\n",
       "    .dataframe tbody tr th {\n",
       "        vertical-align: top;\n",
       "    }\n",
       "\n",
       "    .dataframe thead th {\n",
       "        text-align: right;\n",
       "    }\n",
       "</style>\n",
       "<table border=\"1\" class=\"dataframe\">\n",
       "  <thead>\n",
       "    <tr style=\"text-align: right;\">\n",
       "      <th></th>\n",
       "      <th>airport_name</th>\n",
       "      <th>count</th>\n",
       "    </tr>\n",
       "  </thead>\n",
       "  <tbody>\n",
       "    <tr>\n",
       "      <th>316</th>\n",
       "      <td>incheon-airport</td>\n",
       "      <td>60</td>\n",
       "    </tr>\n",
       "    <tr>\n",
       "      <th>210</th>\n",
       "      <td>dubai-airport</td>\n",
       "      <td>63</td>\n",
       "    </tr>\n",
       "    <tr>\n",
       "      <th>195</th>\n",
       "      <td>delhi-airport</td>\n",
       "      <td>63</td>\n",
       "    </tr>\n",
       "    <tr>\n",
       "      <th>366</th>\n",
       "      <td>klia-kuala-lumpur-airport</td>\n",
       "      <td>64</td>\n",
       "    </tr>\n",
       "    <tr>\n",
       "      <th>437</th>\n",
       "      <td>manchester-airport</td>\n",
       "      <td>65</td>\n",
       "    </tr>\n",
       "    <tr>\n",
       "      <th>60</th>\n",
       "      <td>bangkok-suvarnabhumi-airport</td>\n",
       "      <td>69</td>\n",
       "    </tr>\n",
       "    <tr>\n",
       "      <th>31</th>\n",
       "      <td>amsterdam-schiphol-airport</td>\n",
       "      <td>77</td>\n",
       "    </tr>\n",
       "    <tr>\n",
       "      <th>304</th>\n",
       "      <td>hong-kong-airport</td>\n",
       "      <td>78</td>\n",
       "    </tr>\n",
       "    <tr>\n",
       "      <th>409</th>\n",
       "      <td>london-gatwick-airport</td>\n",
       "      <td>89</td>\n",
       "    </tr>\n",
       "    <tr>\n",
       "      <th>624</th>\n",
       "      <td>singapore-changi-airport</td>\n",
       "      <td>101</td>\n",
       "    </tr>\n",
       "    <tr>\n",
       "      <th>410</th>\n",
       "      <td>london-heathrow-airport</td>\n",
       "      <td>160</td>\n",
       "    </tr>\n",
       "  </tbody>\n",
       "</table>\n",
       "</div>"
      ],
      "text/plain": [
       "                     airport_name  count\n",
       "316               incheon-airport     60\n",
       "210                 dubai-airport     63\n",
       "195                 delhi-airport     63\n",
       "366     klia-kuala-lumpur-airport     64\n",
       "437            manchester-airport     65\n",
       "60   bangkok-suvarnabhumi-airport     69\n",
       "31     amsterdam-schiphol-airport     77\n",
       "304             hong-kong-airport     78\n",
       "409        london-gatwick-airport     89\n",
       "624      singapore-changi-airport    101\n",
       "410       london-heathrow-airport    160"
      ]
     },
     "execution_count": 14,
     "metadata": {},
     "output_type": "execute_result"
    }
   ],
   "source": [
    "group_pos.sort_values(by='count',inplace=True)\n",
    "# group = group[group['count'] >500]\n",
    "group_pos"
   ]
  },
  {
   "cell_type": "code",
   "execution_count": 15,
   "metadata": {},
   "outputs": [
    {
     "name": "stdout",
     "output_type": "stream",
     "text": [
      "<class 'pandas.core.frame.DataFrame'>\n",
      "RangeIndex: 17721 entries, 0 to 17720\n",
      "Data columns (total 6 columns):\n",
      "content                        17721 non-null object\n",
      "queuing_rating                 12813 non-null float64\n",
      "terminal_cleanliness_rating    12815 non-null float64\n",
      "overall_rating                 13796 non-null float64\n",
      "airport_shopping_rating        12676 non-null float64\n",
      "recommended                    17721 non-null int64\n",
      "dtypes: float64(4), int64(1), object(1)\n",
      "memory usage: 830.8+ KB\n"
     ]
    }
   ],
   "source": [
    "# subset the data to just the variables we need, remove variables that have no correlation with the \"recommended\" column,\n",
    "# or columns that have few observations\n",
    "# and columns that has no effect on the rating, like 'link', 'title', 'author', 'author_country', 'date' .. ect\n",
    "\n",
    "airport=airport[['content','queuing_rating', 'terminal_cleanliness_rating','overall_rating','airport_shopping_rating','recommended']]\n",
    "airport.info()"
   ]
  },
  {
   "cell_type": "code",
   "execution_count": 16,
   "metadata": {},
   "outputs": [
    {
     "data": {
      "text/html": [
       "<style  type=\"text/css\" >\n",
       "    #T_69edf1dc_55c3_11e9_afc7_208984591db6row0_col0 {\n",
       "            background-color:  #023858;\n",
       "            color:  #f1f1f1;\n",
       "        }    #T_69edf1dc_55c3_11e9_afc7_208984591db6row0_col1 {\n",
       "            background-color:  #e7e3f0;\n",
       "            color:  #000000;\n",
       "        }    #T_69edf1dc_55c3_11e9_afc7_208984591db6row0_col2 {\n",
       "            background-color:  #d2d3e7;\n",
       "            color:  #000000;\n",
       "        }    #T_69edf1dc_55c3_11e9_afc7_208984591db6row0_col3 {\n",
       "            background-color:  #fdf5fa;\n",
       "            color:  #000000;\n",
       "        }    #T_69edf1dc_55c3_11e9_afc7_208984591db6row0_col4 {\n",
       "            background-color:  #e0deed;\n",
       "            color:  #000000;\n",
       "        }    #T_69edf1dc_55c3_11e9_afc7_208984591db6row1_col0 {\n",
       "            background-color:  #f8f1f8;\n",
       "            color:  #000000;\n",
       "        }    #T_69edf1dc_55c3_11e9_afc7_208984591db6row1_col1 {\n",
       "            background-color:  #023858;\n",
       "            color:  #f1f1f1;\n",
       "        }    #T_69edf1dc_55c3_11e9_afc7_208984591db6row1_col2 {\n",
       "            background-color:  #fff7fb;\n",
       "            color:  #000000;\n",
       "        }    #T_69edf1dc_55c3_11e9_afc7_208984591db6row1_col3 {\n",
       "            background-color:  #c4cbe3;\n",
       "            color:  #000000;\n",
       "        }    #T_69edf1dc_55c3_11e9_afc7_208984591db6row1_col4 {\n",
       "            background-color:  #fff7fb;\n",
       "            color:  #000000;\n",
       "        }    #T_69edf1dc_55c3_11e9_afc7_208984591db6row2_col0 {\n",
       "            background-color:  #acc0dd;\n",
       "            color:  #000000;\n",
       "        }    #T_69edf1dc_55c3_11e9_afc7_208984591db6row2_col1 {\n",
       "            background-color:  #d2d3e7;\n",
       "            color:  #000000;\n",
       "        }    #T_69edf1dc_55c3_11e9_afc7_208984591db6row2_col2 {\n",
       "            background-color:  #023858;\n",
       "            color:  #f1f1f1;\n",
       "        }    #T_69edf1dc_55c3_11e9_afc7_208984591db6row2_col3 {\n",
       "            background-color:  #c8cde4;\n",
       "            color:  #000000;\n",
       "        }    #T_69edf1dc_55c3_11e9_afc7_208984591db6row2_col4 {\n",
       "            background-color:  #1e80b8;\n",
       "            color:  #000000;\n",
       "        }    #T_69edf1dc_55c3_11e9_afc7_208984591db6row3_col0 {\n",
       "            background-color:  #fff7fb;\n",
       "            color:  #000000;\n",
       "        }    #T_69edf1dc_55c3_11e9_afc7_208984591db6row3_col1 {\n",
       "            background-color:  #afc1dd;\n",
       "            color:  #000000;\n",
       "        }    #T_69edf1dc_55c3_11e9_afc7_208984591db6row3_col2 {\n",
       "            background-color:  #ebe6f2;\n",
       "            color:  #000000;\n",
       "        }    #T_69edf1dc_55c3_11e9_afc7_208984591db6row3_col3 {\n",
       "            background-color:  #023858;\n",
       "            color:  #f1f1f1;\n",
       "        }    #T_69edf1dc_55c3_11e9_afc7_208984591db6row3_col4 {\n",
       "            background-color:  #f2ecf5;\n",
       "            color:  #000000;\n",
       "        }    #T_69edf1dc_55c3_11e9_afc7_208984591db6row4_col0 {\n",
       "            background-color:  #f2ecf5;\n",
       "            color:  #000000;\n",
       "        }    #T_69edf1dc_55c3_11e9_afc7_208984591db6row4_col1 {\n",
       "            background-color:  #fff7fb;\n",
       "            color:  #000000;\n",
       "        }    #T_69edf1dc_55c3_11e9_afc7_208984591db6row4_col2 {\n",
       "            background-color:  #4897c4;\n",
       "            color:  #000000;\n",
       "        }    #T_69edf1dc_55c3_11e9_afc7_208984591db6row4_col3 {\n",
       "            background-color:  #fff7fb;\n",
       "            color:  #000000;\n",
       "        }    #T_69edf1dc_55c3_11e9_afc7_208984591db6row4_col4 {\n",
       "            background-color:  #023858;\n",
       "            color:  #f1f1f1;\n",
       "        }</style><table id=\"T_69edf1dc_55c3_11e9_afc7_208984591db6\" ><thead>    <tr>        <th class=\"blank level0\" ></th>        <th class=\"col_heading level0 col0\" >queuing_rating</th>        <th class=\"col_heading level0 col1\" >terminal_cleanliness_rating</th>        <th class=\"col_heading level0 col2\" >overall_rating</th>        <th class=\"col_heading level0 col3\" >airport_shopping_rating</th>        <th class=\"col_heading level0 col4\" >recommended</th>    </tr></thead><tbody>\n",
       "                <tr>\n",
       "                        <th id=\"T_69edf1dc_55c3_11e9_afc7_208984591db6level0_row0\" class=\"row_heading level0 row0\" >queuing_rating</th>\n",
       "                        <td id=\"T_69edf1dc_55c3_11e9_afc7_208984591db6row0_col0\" class=\"data row0 col0\" >1</td>\n",
       "                        <td id=\"T_69edf1dc_55c3_11e9_afc7_208984591db6row0_col1\" class=\"data row0 col1\" >0.52433</td>\n",
       "                        <td id=\"T_69edf1dc_55c3_11e9_afc7_208984591db6row0_col2\" class=\"data row0 col2\" >0.678784</td>\n",
       "                        <td id=\"T_69edf1dc_55c3_11e9_afc7_208984591db6row0_col3\" class=\"data row0 col3\" >0.500906</td>\n",
       "                        <td id=\"T_69edf1dc_55c3_11e9_afc7_208984591db6row0_col4\" class=\"data row0 col4\" >0.542552</td>\n",
       "            </tr>\n",
       "            <tr>\n",
       "                        <th id=\"T_69edf1dc_55c3_11e9_afc7_208984591db6level0_row1\" class=\"row_heading level0 row1\" >terminal_cleanliness_rating</th>\n",
       "                        <td id=\"T_69edf1dc_55c3_11e9_afc7_208984591db6row1_col0\" class=\"data row1 col0\" >0.52433</td>\n",
       "                        <td id=\"T_69edf1dc_55c3_11e9_afc7_208984591db6row1_col1\" class=\"data row1 col1\" >1</td>\n",
       "                        <td id=\"T_69edf1dc_55c3_11e9_afc7_208984591db6row1_col2\" class=\"data row1 col2\" >0.576671</td>\n",
       "                        <td id=\"T_69edf1dc_55c3_11e9_afc7_208984591db6row1_col3\" class=\"data row1 col3\" >0.638852</td>\n",
       "                        <td id=\"T_69edf1dc_55c3_11e9_afc7_208984591db6row1_col4\" class=\"data row1 col4\" >0.443754</td>\n",
       "            </tr>\n",
       "            <tr>\n",
       "                        <th id=\"T_69edf1dc_55c3_11e9_afc7_208984591db6level0_row2\" class=\"row_heading level0 row2\" >overall_rating</th>\n",
       "                        <td id=\"T_69edf1dc_55c3_11e9_afc7_208984591db6row2_col0\" class=\"data row2 col0\" >0.678784</td>\n",
       "                        <td id=\"T_69edf1dc_55c3_11e9_afc7_208984591db6row2_col1\" class=\"data row2 col1\" >0.576671</td>\n",
       "                        <td id=\"T_69edf1dc_55c3_11e9_afc7_208984591db6row2_col2\" class=\"data row2 col2\" >1</td>\n",
       "                        <td id=\"T_69edf1dc_55c3_11e9_afc7_208984591db6row2_col3\" class=\"data row2 col3\" >0.632182</td>\n",
       "                        <td id=\"T_69edf1dc_55c3_11e9_afc7_208984591db6row2_col4\" class=\"data row2 col4\" >0.825783</td>\n",
       "            </tr>\n",
       "            <tr>\n",
       "                        <th id=\"T_69edf1dc_55c3_11e9_afc7_208984591db6level0_row3\" class=\"row_heading level0 row3\" >airport_shopping_rating</th>\n",
       "                        <td id=\"T_69edf1dc_55c3_11e9_afc7_208984591db6row3_col0\" class=\"data row3 col0\" >0.500906</td>\n",
       "                        <td id=\"T_69edf1dc_55c3_11e9_afc7_208984591db6row3_col1\" class=\"data row3 col1\" >0.638852</td>\n",
       "                        <td id=\"T_69edf1dc_55c3_11e9_afc7_208984591db6row3_col2\" class=\"data row3 col2\" >0.632182</td>\n",
       "                        <td id=\"T_69edf1dc_55c3_11e9_afc7_208984591db6row3_col3\" class=\"data row3 col3\" >1</td>\n",
       "                        <td id=\"T_69edf1dc_55c3_11e9_afc7_208984591db6row3_col4\" class=\"data row3 col4\" >0.493278</td>\n",
       "            </tr>\n",
       "            <tr>\n",
       "                        <th id=\"T_69edf1dc_55c3_11e9_afc7_208984591db6level0_row4\" class=\"row_heading level0 row4\" >recommended</th>\n",
       "                        <td id=\"T_69edf1dc_55c3_11e9_afc7_208984591db6row4_col0\" class=\"data row4 col0\" >0.542552</td>\n",
       "                        <td id=\"T_69edf1dc_55c3_11e9_afc7_208984591db6row4_col1\" class=\"data row4 col1\" >0.443754</td>\n",
       "                        <td id=\"T_69edf1dc_55c3_11e9_afc7_208984591db6row4_col2\" class=\"data row4 col2\" >0.825783</td>\n",
       "                        <td id=\"T_69edf1dc_55c3_11e9_afc7_208984591db6row4_col3\" class=\"data row4 col3\" >0.493278</td>\n",
       "                        <td id=\"T_69edf1dc_55c3_11e9_afc7_208984591db6row4_col4\" class=\"data row4 col4\" >1</td>\n",
       "            </tr>\n",
       "    </tbody></table>"
      ],
      "text/plain": [
       "<pandas.io.formats.style.Styler at 0xbcaeef0>"
      ]
     },
     "execution_count": 16,
     "metadata": {},
     "output_type": "execute_result"
    }
   ],
   "source": [
    "# see the correlation bewtween the new features\n",
    "airport.corr().style.background_gradient()"
   ]
  },
  {
   "cell_type": "code",
   "execution_count": 17,
   "metadata": {},
   "outputs": [
    {
     "data": {
      "text/plain": [
       "<matplotlib.axes._subplots.AxesSubplot at 0xc2f4cc0>"
      ]
     },
     "execution_count": 17,
     "metadata": {},
     "output_type": "execute_result"
    },
    {
     "data": {
      "image/png": "[encoded data removed]",
      "text/plain": [
       "<matplotlib.figure.Figure at 0xc2ddf98>"
      ]
     },
     "metadata": {},
     "output_type": "display_data"
    }
   ],
   "source": [
    "# correlation map using seaborn\n",
    "corr = airport.corr()\n",
    "sns.heatmap(corr, xticklabels=corr.columns, yticklabels=corr.columns, cmap=sns.diverging_palette(200, 10, as_cmap=True))"
   ]
  },
  {
   "cell_type": "code",
   "execution_count": 18,
   "metadata": {
    "collapsed": true
   },
   "outputs": [],
   "source": [
    "# we have missing data for several of these variables so we will need to drop them\n",
    "airport = airport.dropna()"
   ]
  },
  {
   "cell_type": "code",
   "execution_count": 19,
   "metadata": {},
   "outputs": [
    {
     "name": "stdout",
     "output_type": "stream",
     "text": [
      "<class 'pandas.core.frame.DataFrame'>\n",
      "Int64Index: 10849 entries, 0 to 17720\n",
      "Data columns (total 6 columns):\n",
      "content                        10849 non-null object\n",
      "queuing_rating                 10849 non-null float64\n",
      "terminal_cleanliness_rating    10849 non-null float64\n",
      "overall_rating                 10849 non-null float64\n",
      "airport_shopping_rating        10849 non-null float64\n",
      "recommended                    10849 non-null int64\n",
      "dtypes: float64(4), int64(1), object(1)\n",
      "memory usage: 593.3+ KB\n"
     ]
    }
   ],
   "source": [
    "# the new data after removing the missing data\n",
    "airport.info()"
   ]
  },
  {
   "cell_type": "code",
   "execution_count": 20,
   "metadata": {
    "scrolled": true
   },
   "outputs": [
    {
     "data": {
      "text/html": [
       "<div>\n",
       "<style scoped>\n",
       "    .dataframe tbody tr th:only-of-type {\n",
       "        vertical-align: middle;\n",
       "    }\n",
       "\n",
       "    .dataframe tbody tr th {\n",
       "        vertical-align: top;\n",
       "    }\n",
       "\n",
       "    .dataframe thead th {\n",
       "        text-align: right;\n",
       "    }\n",
       "</style>\n",
       "<table border=\"1\" class=\"dataframe\">\n",
       "  <thead>\n",
       "    <tr style=\"text-align: right;\">\n",
       "      <th></th>\n",
       "      <th>content</th>\n",
       "      <th>queuing_rating</th>\n",
       "      <th>terminal_cleanliness_rating</th>\n",
       "      <th>overall_rating</th>\n",
       "      <th>airport_shopping_rating</th>\n",
       "      <th>recommended</th>\n",
       "    </tr>\n",
       "  </thead>\n",
       "  <tbody>\n",
       "    <tr>\n",
       "      <th>0</th>\n",
       "      <td>A small very effective airport with few flight...</td>\n",
       "      <td>5.0</td>\n",
       "      <td>5.0</td>\n",
       "      <td>9.0</td>\n",
       "      <td>4.0</td>\n",
       "      <td>1</td>\n",
       "    </tr>\n",
       "    <tr>\n",
       "      <th>1</th>\n",
       "      <td>This is a nice and modern airport at the momen...</td>\n",
       "      <td>5.0</td>\n",
       "      <td>4.0</td>\n",
       "      <td>9.0</td>\n",
       "      <td>4.0</td>\n",
       "      <td>1</td>\n",
       "    </tr>\n",
       "    <tr>\n",
       "      <th>2</th>\n",
       "      <td>A very nice airy terminal - that seems modern ...</td>\n",
       "      <td>5.0</td>\n",
       "      <td>5.0</td>\n",
       "      <td>9.0</td>\n",
       "      <td>4.0</td>\n",
       "      <td>1</td>\n",
       "    </tr>\n",
       "    <tr>\n",
       "      <th>3</th>\n",
       "      <td>AMS-AAL and quite satisfied with this regional...</td>\n",
       "      <td>5.0</td>\n",
       "      <td>5.0</td>\n",
       "      <td>5.0</td>\n",
       "      <td>3.0</td>\n",
       "      <td>0</td>\n",
       "    </tr>\n",
       "    <tr>\n",
       "      <th>11</th>\n",
       "      <td>This airport gets worse on a monthly basis. Th...</td>\n",
       "      <td>1.0</td>\n",
       "      <td>3.0</td>\n",
       "      <td>2.0</td>\n",
       "      <td>1.0</td>\n",
       "      <td>0</td>\n",
       "    </tr>\n",
       "  </tbody>\n",
       "</table>\n",
       "</div>"
      ],
      "text/plain": [
       "                                              content  queuing_rating  \\\n",
       "0   A small very effective airport with few flight...             5.0   \n",
       "1   This is a nice and modern airport at the momen...             5.0   \n",
       "2   A very nice airy terminal - that seems modern ...             5.0   \n",
       "3   AMS-AAL and quite satisfied with this regional...             5.0   \n",
       "11  This airport gets worse on a monthly basis. Th...             1.0   \n",
       "\n",
       "    terminal_cleanliness_rating  overall_rating  airport_shopping_rating  \\\n",
       "0                           5.0             9.0                      4.0   \n",
       "1                           4.0             9.0                      4.0   \n",
       "2                           5.0             9.0                      4.0   \n",
       "3                           5.0             5.0                      3.0   \n",
       "11                          3.0             2.0                      1.0   \n",
       "\n",
       "    recommended  \n",
       "0             1  \n",
       "1             1  \n",
       "2             1  \n",
       "3             0  \n",
       "11            0  "
      ]
     },
     "execution_count": 20,
     "metadata": {},
     "output_type": "execute_result"
    }
   ],
   "source": [
    "#check out the new dataset after cleaning \n",
    "airport.head()"
   ]
  },
  {
   "cell_type": "code",
   "execution_count": 21,
   "metadata": {
    "collapsed": true
   },
   "outputs": [],
   "source": [
    "# function to get the sentiment of each text\n",
    "def sentiment(text):\n",
    "    blob = TextBlob(text)\n",
    "    polarity = blob.sentiment.polarity\n",
    "    return 1 if polarity > 0.1 else 0"
   ]
  },
  {
   "cell_type": "code",
   "execution_count": 22,
   "metadata": {
    "collapsed": true
   },
   "outputs": [],
   "source": [
    "#adding a new column to the dataset, it contains the sentiment of each review\n",
    "airport['sentiment'] = airport.content.apply(sentiment)"
   ]
  },
  {
   "cell_type": "code",
   "execution_count": 23,
   "metadata": {},
   "outputs": [
    {
     "data": {
      "text/plain": [
       "0    6019\n",
       "1    4830\n",
       "Name: sentiment, dtype: int64"
      ]
     },
     "execution_count": 23,
     "metadata": {},
     "output_type": "execute_result"
    }
   ],
   "source": [
    "# number of positive and negative sentiment in the dataset\n",
    "airport.sentiment.value_counts()"
   ]
  },
  {
   "cell_type": "code",
   "execution_count": 24,
   "metadata": {},
   "outputs": [
    {
     "data": {
      "text/html": [
       "<div>\n",
       "<style scoped>\n",
       "    .dataframe tbody tr th:only-of-type {\n",
       "        vertical-align: middle;\n",
       "    }\n",
       "\n",
       "    .dataframe tbody tr th {\n",
       "        vertical-align: top;\n",
       "    }\n",
       "\n",
       "    .dataframe thead th {\n",
       "        text-align: right;\n",
       "    }\n",
       "</style>\n",
       "<table border=\"1\" class=\"dataframe\">\n",
       "  <thead>\n",
       "    <tr style=\"text-align: right;\">\n",
       "      <th></th>\n",
       "      <th>content</th>\n",
       "      <th>queuing_rating</th>\n",
       "      <th>terminal_cleanliness_rating</th>\n",
       "      <th>overall_rating</th>\n",
       "      <th>airport_shopping_rating</th>\n",
       "      <th>recommended</th>\n",
       "      <th>sentiment</th>\n",
       "    </tr>\n",
       "  </thead>\n",
       "  <tbody>\n",
       "    <tr>\n",
       "      <th>0</th>\n",
       "      <td>A small very effective airport with few flight...</td>\n",
       "      <td>5.0</td>\n",
       "      <td>5.0</td>\n",
       "      <td>9.0</td>\n",
       "      <td>4.0</td>\n",
       "      <td>1</td>\n",
       "      <td>1</td>\n",
       "    </tr>\n",
       "    <tr>\n",
       "      <th>1</th>\n",
       "      <td>This is a nice and modern airport at the momen...</td>\n",
       "      <td>5.0</td>\n",
       "      <td>4.0</td>\n",
       "      <td>9.0</td>\n",
       "      <td>4.0</td>\n",
       "      <td>1</td>\n",
       "      <td>0</td>\n",
       "    </tr>\n",
       "    <tr>\n",
       "      <th>2</th>\n",
       "      <td>A very nice airy terminal - that seems modern ...</td>\n",
       "      <td>5.0</td>\n",
       "      <td>5.0</td>\n",
       "      <td>9.0</td>\n",
       "      <td>4.0</td>\n",
       "      <td>1</td>\n",
       "      <td>1</td>\n",
       "    </tr>\n",
       "    <tr>\n",
       "      <th>3</th>\n",
       "      <td>AMS-AAL and quite satisfied with this regional...</td>\n",
       "      <td>5.0</td>\n",
       "      <td>5.0</td>\n",
       "      <td>5.0</td>\n",
       "      <td>3.0</td>\n",
       "      <td>0</td>\n",
       "      <td>1</td>\n",
       "    </tr>\n",
       "    <tr>\n",
       "      <th>11</th>\n",
       "      <td>This airport gets worse on a monthly basis. Th...</td>\n",
       "      <td>1.0</td>\n",
       "      <td>3.0</td>\n",
       "      <td>2.0</td>\n",
       "      <td>1.0</td>\n",
       "      <td>0</td>\n",
       "      <td>0</td>\n",
       "    </tr>\n",
       "  </tbody>\n",
       "</table>\n",
       "</div>"
      ],
      "text/plain": [
       "                                              content  queuing_rating  \\\n",
       "0   A small very effective airport with few flight...             5.0   \n",
       "1   This is a nice and modern airport at the momen...             5.0   \n",
       "2   A very nice airy terminal - that seems modern ...             5.0   \n",
       "3   AMS-AAL and quite satisfied with this regional...             5.0   \n",
       "11  This airport gets worse on a monthly basis. Th...             1.0   \n",
       "\n",
       "    terminal_cleanliness_rating  overall_rating  airport_shopping_rating  \\\n",
       "0                           5.0             9.0                      4.0   \n",
       "1                           4.0             9.0                      4.0   \n",
       "2                           5.0             9.0                      4.0   \n",
       "3                           5.0             5.0                      3.0   \n",
       "11                          3.0             2.0                      1.0   \n",
       "\n",
       "    recommended  sentiment  \n",
       "0             1          1  \n",
       "1             1          0  \n",
       "2             1          1  \n",
       "3             0          1  \n",
       "11            0          0  "
      ]
     },
     "execution_count": 24,
     "metadata": {},
     "output_type": "execute_result"
    }
   ],
   "source": [
    "# taking a look at the dataset after adding the sentiment column\n",
    "airport.head()"
   ]
  },
  {
   "cell_type": "code",
   "execution_count": 25,
   "metadata": {},
   "outputs": [
    {
     "data": {
      "text/plain": [
       "0.38021676603553289"
      ]
     },
     "execution_count": 25,
     "metadata": {},
     "output_type": "execute_result"
    }
   ],
   "source": [
    "# check the correlation between \"sentiment\" and \"recommended\"\n",
    "\n",
    "airport.sentiment.corr(airport.recommended)"
   ]
  },
  {
   "cell_type": "code",
   "execution_count": 26,
   "metadata": {},
   "outputs": [
    {
     "data": {
      "text/plain": [
       "<matplotlib.text.Text at 0xcb10c88>"
      ]
     },
     "execution_count": 26,
     "metadata": {},
     "output_type": "execute_result"
    },
    {
     "data": {
      "image/png": "[encoded data removed]",
      "text/plain": [
       "<matplotlib.figure.Figure at 0xcaf8a90>"
      ]
     },
     "metadata": {},
     "output_type": "display_data"
    }
   ],
   "source": [
    "#plotting the count of recommended and sentiment to have an idea about them\n",
    "counts_recommended = airport.recommended.value_counts()\n",
    "counts_sentiment = airport.sentiment.value_counts()\n",
    "fig, (ax1, ax2)= plt.subplots(1,2)\n",
    "fig.set_size_inches(15,5)\n",
    "counts_recommended.plot.bar(ax = ax1)\n",
    "ax1.set_title(\"recommended count\")\n",
    "ax1.set_xlabel(\"recommended\")\n",
    "ax1.set_ylabel(\"counts\")\n",
    "counts_sentiment.plot.bar(ax = ax2)\n",
    "ax2.set_title(\"Sentiment count\")\n",
    "ax2.set_xlabel(\"sentiment\")\n",
    "ax2.set_ylabel(\"counts\")"
   ]
  },
  {
   "cell_type": "code",
   "execution_count": 27,
   "metadata": {},
   "outputs": [
    {
     "data": {
      "image/png": "[encoded data removed]",
      "text/plain": [
       "<matplotlib.figure.Figure at 0xca74d68>"
      ]
     },
     "metadata": {},
     "output_type": "display_data"
    }
   ],
   "source": [
    "#rating by recommend or not. This is obviously expected, the overall rating is correlated with the recommendation\n",
    "sns.set(style=\"darkgrid\")\n",
    "g = sns.FacetGrid(airport, col=\"recommended\", margin_titles=True)\n",
    "bins = np.linspace(0, 10, 10)\n",
    "g.map(plt.hist, \"overall_rating\", color=\"steelblue\", bins=bins)\n",
    "axes = g.axes.flatten()\n",
    "axes[0].set_title(\"Not Recommended\")\n",
    "axes[1].set_title(\"Recommended\")\n",
    "axes[0].set_ylabel(\"Count\")\n",
    "for ax in axes:\n",
    "    ax.set_xlabel(\"Overall Rating\")"
   ]
  },
  {
   "cell_type": "code",
   "execution_count": 28,
   "metadata": {},
   "outputs": [
    {
     "data": {
      "image/png": "[encoded data removed]",
      "text/plain": [
       "<matplotlib.figure.Figure at 0xc9c50b8>"
      ]
     },
     "metadata": {},
     "output_type": "display_data"
    }
   ],
   "source": [
    "# rating by airport cleanliness.\n",
    "\n",
    "g = sns.FacetGrid(airport, col=\"recommended\", margin_titles=True)\n",
    "bins = np.linspace(0, 5, 5)\n",
    "g.map(plt.hist, \"terminal_cleanliness_rating\", color=\"steelblue\", bins=bins)\n",
    "axes = g.axes.flatten()\n",
    "axes[0].set_title(\"Not Recommended\")\n",
    "axes[1].set_title(\"Recommended\")\n",
    "axes[0].set_ylabel(\"Count\")\n",
    "for ax in axes:\n",
    "    ax.set_xlabel(\"airport cleanliness\")"
   ]
  },
  {
   "cell_type": "markdown",
   "metadata": {},
   "source": [
    "# Training the Classifiers\n",
    "\n",
    "##### Train/Test Split\n",
    "\n",
    "This test size is 20% of the dataset and the training set is the rest 80% "
   ]
  },
  {
   "cell_type": "code",
   "execution_count": 29,
   "metadata": {},
   "outputs": [
    {
     "name": "stdout",
     "output_type": "stream",
     "text": [
      "training set: 8679\n",
      "test set: 2170\n"
     ]
    }
   ],
   "source": [
    "#Split data into train/test\n",
    "\n",
    "from sklearn.model_selection import train_test_split\n",
    "\n",
    "x_train, x_test, y_train, y_test = train_test_split(airport, airport['recommended'], test_size=0.2)\n",
    "\n",
    "print('training set: '  + str(len(x_train)))\n",
    "print('test set: '+ str(len(x_test)))\n"
   ]
  },
  {
   "cell_type": "markdown",
   "metadata": {},
   "source": [
    "###### Importing necessary packages"
   ]
  },
  {
   "cell_type": "code",
   "execution_count": 30,
   "metadata": {
    "collapsed": true
   },
   "outputs": [],
   "source": [
    "from sklearn.model_selection import train_test_split\n",
    "from sklearn.linear_model import LogisticRegression\n",
    "from sklearn.neighbors import KNeighborsClassifier\n",
    "from sklearn.svm import LinearSVC\n",
    "from sklearn.tree import DecisionTreeClassifier\n",
    "from sklearn.ensemble import RandomForestClassifier, AdaBoostClassifier,BaggingClassifier\n",
    "from sklearn.naive_bayes import GaussianNB,MultinomialNB\n",
    "from sklearn.metrics import accuracy_score,f1_score\n",
    "from sklearn.metrics import confusion_matrix\n",
    "from sklearn import metrics\n",
    "from sklearn.neural_network import MLPClassifier\n",
    "from sklearn.metrics import classification_report"
   ]
  },
  {
   "cell_type": "markdown",
   "metadata": {},
   "source": [
    "### we will try these classifiers to see how they perform on all the features"
   ]
  },
  {
   "cell_type": "code",
   "execution_count": 31,
   "metadata": {},
   "outputs": [
    {
     "name": "stdout",
     "output_type": "stream",
     "text": [
      "Bagging ------> Accuracy: 0.94331797235\n",
      "Random Forest ------> Accuracy: 0.942857142857\n",
      "Decision Tree ------> Accuracy: 0.942396313364\n",
      "Logistic Regression ------> Accuracy: 0.946543778802\n",
      "SVM ------> Accuracy: 0.945622119816\n",
      "Adaboost ------> Accuracy: 0.948387096774\n",
      "Neural Network ------> Accuracy: 0.943778801843\n",
      "KNN ------> Accuracy: 0.948847926267\n"
     ]
    }
   ],
   "source": [
    "used_features = ['queuing_rating', 'terminal_cleanliness_rating','overall_rating','airport_shopping_rating','sentiment']\n",
    "\n",
    "Classifiers = [\n",
    "    BaggingClassifier(),\n",
    "    RandomForestClassifier(),\n",
    "    DecisionTreeClassifier(),\n",
    "    LogisticRegression(),\n",
    "    LinearSVC(),\n",
    "    AdaBoostClassifier(),\n",
    "    MLPClassifier(),\n",
    "    KNeighborsClassifier()]\n",
    "\n",
    "names = [\n",
    "    'Bagging',\n",
    "    'Random Forest',\n",
    "    'Decision Tree',\n",
    "    'Logistic Regression',\n",
    "    'SVM',\n",
    "    'Adaboost',\n",
    "    'Neural Network',\n",
    "    'KNN']\n",
    "\n",
    "for classifier, name in zip(Classifiers,names):\n",
    "    model = classifier.fit(x_train[used_features],y_train)\n",
    "    pred = model.predict(x_test[used_features])\n",
    "    accuracy = accuracy_score(pred,y_test)\n",
    "    f1 = f1_score(pred,y_test)\n",
    "    print( name +' ------> Accuracy: ' +str(accuracy)) "
   ]
  },
  {
   "cell_type": "markdown",
   "metadata": {},
   "source": [
    "### as the results are pretty close, we're going to keep just 4 classifiers to carry the rest of our work"
   ]
  },
  {
   "cell_type": "markdown",
   "metadata": {},
   "source": [
    "##### the 4 classifiers we're going to use: Logistic regression ,SVM, Adaboost, Neural Network"
   ]
  },
  {
   "cell_type": "code",
   "execution_count": 32,
   "metadata": {
    "collapsed": true
   },
   "outputs": [],
   "source": [
    "Classifiers = [\n",
    "    LogisticRegression(),\n",
    "    LinearSVC(),\n",
    "    AdaBoostClassifier(),\n",
    "    MLPClassifier()] "
   ]
  },
  {
   "cell_type": "markdown",
   "metadata": {},
   "source": [
    "###### function to train the four classifiers and print the accuracy of each one of them"
   ]
  },
  {
   "cell_type": "code",
   "execution_count": 33,
   "metadata": {
    "collapsed": true
   },
   "outputs": [],
   "source": [
    "def train(used_features):\n",
    "    Accuracy=[]\n",
    "    Model=['Logistic Regression', 'SVM', 'AdaBoost', 'Neural Network']\n",
    "    for classifier,name in zip(Classifiers,Model):\n",
    "        model = classifier.fit(x_train[used_features],y_train)\n",
    "        pred = model.predict(x_test[used_features])\n",
    "        accuracy = accuracy_score(pred,y_test)\n",
    "        f1 = f1_score(pred,y_test)\n",
    "        Accuracy.append(accuracy)\n",
    "        print('Accuracy of '+ name +' is '+str(accuracy * 100)) \n",
    "        print('Confusion Matrix\\n')\n",
    "        print(pd.DataFrame(confusion_matrix(pred, y_test, labels=[1, 0]), index=['true:1', 'true:0'], columns=['pred:1', 'pred:0']))\n",
    "        print('\\n')\n",
    "        print(classification_report(pred, y_test))\n",
    "        print('----------------------------------------------------------')\n",
    "    for i in range(len(Accuracy)):\n",
    "        Accuracy[i] *= 100\n",
    "    return Accuracy,Model"
   ]
  },
  {
   "cell_type": "markdown",
   "metadata": {},
   "source": [
    "###### function to plot the results\n"
   ]
  },
  {
   "cell_type": "code",
   "execution_count": 34,
   "metadata": {
    "collapsed": true
   },
   "outputs": [],
   "source": [
    "def plot(Accuracy,Model):\n",
    "    Index = [1,2,3,4]\n",
    "    plt.rcParams[\"figure.figsize\"] = [10,5]\n",
    "    plt.bar(Index,Accuracy,width= 0.3,linewidth=1,color=['red','blue','orange','purple'])\n",
    "    plt.xticks(Index, Model,rotation=50)\n",
    "    plt.ylabel('Accuracy', fontsize=15)\n",
    "    plt.yticks(np.arange(0,101,10))\n",
    "    plt.xlabel('Model', fontsize=15)\n",
    "    plt.title('Accuracies of Models', fontsize=15)\n",
    "    plt.tick_params(axis='both', which='major', labelsize=15)"
   ]
  },
  {
   "cell_type": "markdown",
   "metadata": {},
   "source": [
    "## First combination:  Using all features"
   ]
  },
  {
   "cell_type": "code",
   "execution_count": 35,
   "metadata": {},
   "outputs": [
    {
     "name": "stdout",
     "output_type": "stream",
     "text": [
      "Accuracy of Logistic Regression is 94.6543778802\n",
      "Confusion Matrix\n",
      "\n",
      "        pred:1  pred:0\n",
      "true:1     705      25\n",
      "true:0      91    1349\n",
      "\n",
      "\n",
      "              precision    recall  f1-score   support\n",
      "\n",
      "           0       0.98      0.94      0.96      1440\n",
      "           1       0.89      0.97      0.92       730\n",
      "\n",
      "   micro avg       0.95      0.95      0.95      2170\n",
      "   macro avg       0.93      0.95      0.94      2170\n",
      "weighted avg       0.95      0.95      0.95      2170\n",
      "\n",
      "----------------------------------------------------------\n",
      "Accuracy of SVM is 94.5622119816\n",
      "Confusion Matrix\n",
      "\n",
      "        pred:1  pred:0\n",
      "true:1     705      27\n",
      "true:0      91    1347\n",
      "\n",
      "\n",
      "              precision    recall  f1-score   support\n",
      "\n",
      "           0       0.98      0.94      0.96      1438\n",
      "           1       0.89      0.96      0.92       732\n",
      "\n",
      "   micro avg       0.95      0.95      0.95      2170\n",
      "   macro avg       0.93      0.95      0.94      2170\n",
      "weighted avg       0.95      0.95      0.95      2170\n",
      "\n",
      "----------------------------------------------------------\n",
      "Accuracy of AdaBoost is 94.8387096774\n",
      "Confusion Matrix\n",
      "\n",
      "        pred:1  pred:0\n",
      "true:1     718      34\n",
      "true:0      78    1340\n",
      "\n",
      "\n",
      "              precision    recall  f1-score   support\n",
      "\n",
      "           0       0.98      0.94      0.96      1418\n",
      "           1       0.90      0.95      0.93       752\n",
      "\n",
      "   micro avg       0.95      0.95      0.95      2170\n",
      "   macro avg       0.94      0.95      0.94      2170\n",
      "weighted avg       0.95      0.95      0.95      2170\n",
      "\n",
      "----------------------------------------------------------\n",
      "Accuracy of Neural Network is 94.5622119816\n",
      "Confusion Matrix\n",
      "\n",
      "        pred:1  pred:0\n",
      "true:1     713      35\n",
      "true:0      83    1339\n",
      "\n",
      "\n",
      "              precision    recall  f1-score   support\n",
      "\n",
      "           0       0.97      0.94      0.96      1422\n",
      "           1       0.90      0.95      0.92       748\n",
      "\n",
      "   micro avg       0.95      0.95      0.95      2170\n",
      "   macro avg       0.94      0.95      0.94      2170\n",
      "weighted avg       0.95      0.95      0.95      2170\n",
      "\n",
      "----------------------------------------------------------\n"
     ]
    },
    {
     "data": {
      "image/png": "[encoded data removed]",
      "text/plain": [
       "<matplotlib.figure.Figure at 0xc8cee10>"
      ]
     },
     "metadata": {},
     "output_type": "display_data"
    }
   ],
   "source": [
    "used_features = ['queuing_rating', 'terminal_cleanliness_rating','overall_rating','airport_shopping_rating','sentiment']\n",
    "acc, models = train(used_features=used_features)\n",
    "plot(acc, models)"
   ]
  },
  {
   "cell_type": "markdown",
   "metadata": {},
   "source": [
    "## Second combination: removing \"sentiment\""
   ]
  },
  {
   "cell_type": "code",
   "execution_count": 36,
   "metadata": {},
   "outputs": [
    {
     "name": "stdout",
     "output_type": "stream",
     "text": [
      "Accuracy of Logistic Regression is 94.6082949309\n",
      "Confusion Matrix\n",
      "\n",
      "        pred:1  pred:0\n",
      "true:1     705      26\n",
      "true:0      91    1348\n",
      "\n",
      "\n",
      "              precision    recall  f1-score   support\n",
      "\n",
      "           0       0.98      0.94      0.96      1439\n",
      "           1       0.89      0.96      0.92       731\n",
      "\n",
      "   micro avg       0.95      0.95      0.95      2170\n",
      "   macro avg       0.93      0.95      0.94      2170\n",
      "weighted avg       0.95      0.95      0.95      2170\n",
      "\n",
      "----------------------------------------------------------\n",
      "Accuracy of SVM is 94.5622119816\n",
      "Confusion Matrix\n",
      "\n",
      "        pred:1  pred:0\n",
      "true:1     705      27\n",
      "true:0      91    1347\n",
      "\n",
      "\n",
      "              precision    recall  f1-score   support\n",
      "\n",
      "           0       0.98      0.94      0.96      1438\n",
      "           1       0.89      0.96      0.92       732\n",
      "\n",
      "   micro avg       0.95      0.95      0.95      2170\n",
      "   macro avg       0.93      0.95      0.94      2170\n",
      "weighted avg       0.95      0.95      0.95      2170\n",
      "\n",
      "----------------------------------------------------------\n",
      "Accuracy of AdaBoost is 94.8387096774\n",
      "Confusion Matrix\n",
      "\n",
      "        pred:1  pred:0\n",
      "true:1     718      34\n",
      "true:0      78    1340\n",
      "\n",
      "\n",
      "              precision    recall  f1-score   support\n",
      "\n",
      "           0       0.98      0.94      0.96      1418\n",
      "           1       0.90      0.95      0.93       752\n",
      "\n",
      "   micro avg       0.95      0.95      0.95      2170\n",
      "   macro avg       0.94      0.95      0.94      2170\n",
      "weighted avg       0.95      0.95      0.95      2170\n",
      "\n",
      "----------------------------------------------------------\n",
      "Accuracy of Neural Network is 94.5161290323\n",
      "Confusion Matrix\n",
      "\n",
      "        pred:1  pred:0\n",
      "true:1     707      30\n",
      "true:0      89    1344\n",
      "\n",
      "\n",
      "              precision    recall  f1-score   support\n",
      "\n",
      "           0       0.98      0.94      0.96      1433\n",
      "           1       0.89      0.96      0.92       737\n",
      "\n",
      "   micro avg       0.95      0.95      0.95      2170\n",
      "   macro avg       0.93      0.95      0.94      2170\n",
      "weighted avg       0.95      0.95      0.95      2170\n",
      "\n",
      "----------------------------------------------------------\n"
     ]
    },
    {
     "data": {
      "image/png": "[encoded data removed]",
      "text/plain": [
       "<matplotlib.figure.Figure at 0xc8adb38>"
      ]
     },
     "metadata": {},
     "output_type": "display_data"
    }
   ],
   "source": [
    "used_features = ['queuing_rating', 'terminal_cleanliness_rating','overall_rating','airport_shopping_rating']\n",
    "acc, models = train(used_features=used_features)\n",
    "plot(acc, models)"
   ]
  },
  {
   "cell_type": "markdown",
   "metadata": {},
   "source": [
    "## Third combination: removing \"terminal_cleanilness_rating\"\n"
   ]
  },
  {
   "cell_type": "code",
   "execution_count": 37,
   "metadata": {},
   "outputs": [
    {
     "name": "stdout",
     "output_type": "stream",
     "text": [
      "Accuracy of Logistic Regression is 94.6543778802\n",
      "Confusion Matrix\n",
      "\n",
      "        pred:1  pred:0\n",
      "true:1     705      25\n",
      "true:0      91    1349\n",
      "\n",
      "\n",
      "              precision    recall  f1-score   support\n",
      "\n",
      "           0       0.98      0.94      0.96      1440\n",
      "           1       0.89      0.97      0.92       730\n",
      "\n",
      "   micro avg       0.95      0.95      0.95      2170\n",
      "   macro avg       0.93      0.95      0.94      2170\n",
      "weighted avg       0.95      0.95      0.95      2170\n",
      "\n",
      "----------------------------------------------------------\n",
      "Accuracy of SVM is 94.6082949309\n",
      "Confusion Matrix\n",
      "\n",
      "        pred:1  pred:0\n",
      "true:1     705      26\n",
      "true:0      91    1348\n",
      "\n",
      "\n",
      "              precision    recall  f1-score   support\n",
      "\n",
      "           0       0.98      0.94      0.96      1439\n",
      "           1       0.89      0.96      0.92       731\n",
      "\n",
      "   micro avg       0.95      0.95      0.95      2170\n",
      "   macro avg       0.93      0.95      0.94      2170\n",
      "weighted avg       0.95      0.95      0.95      2170\n",
      "\n",
      "----------------------------------------------------------\n",
      "Accuracy of AdaBoost is 95.3456221198\n",
      "Confusion Matrix\n",
      "\n",
      "        pred:1  pred:0\n",
      "true:1     724      29\n",
      "true:0      72    1345\n",
      "\n",
      "\n",
      "              precision    recall  f1-score   support\n",
      "\n",
      "           0       0.98      0.95      0.96      1417\n",
      "           1       0.91      0.96      0.93       753\n",
      "\n",
      "   micro avg       0.95      0.95      0.95      2170\n",
      "   macro avg       0.94      0.96      0.95      2170\n",
      "weighted avg       0.95      0.95      0.95      2170\n",
      "\n",
      "----------------------------------------------------------\n",
      "Accuracy of Neural Network is 94.5622119816\n",
      "Confusion Matrix\n",
      "\n",
      "        pred:1  pred:0\n",
      "true:1     708      30\n",
      "true:0      88    1344\n",
      "\n",
      "\n",
      "              precision    recall  f1-score   support\n",
      "\n",
      "           0       0.98      0.94      0.96      1432\n",
      "           1       0.89      0.96      0.92       738\n",
      "\n",
      "   micro avg       0.95      0.95      0.95      2170\n",
      "   macro avg       0.93      0.95      0.94      2170\n",
      "weighted avg       0.95      0.95      0.95      2170\n",
      "\n",
      "----------------------------------------------------------\n"
     ]
    },
    {
     "data": {
      "image/png": "[encoded data removed]",
      "text/plain": [
       "<matplotlib.figure.Figure at 0xe782358>"
      ]
     },
     "metadata": {},
     "output_type": "display_data"
    }
   ],
   "source": [
    "used_features = ['queuing_rating','overall_rating','airport_shopping_rating','sentiment']\n",
    "acc, models = train(used_features=used_features)\n",
    "plot(acc, models)"
   ]
  },
  {
   "cell_type": "markdown",
   "metadata": {},
   "source": [
    "## Fourth combination: removing \"overall_rating\" "
   ]
  },
  {
   "cell_type": "code",
   "execution_count": 38,
   "metadata": {},
   "outputs": [
    {
     "name": "stdout",
     "output_type": "stream",
     "text": [
      "Accuracy of Logistic Regression is 78.202764977\n",
      "Confusion Matrix\n",
      "\n",
      "        pred:1  pred:0\n",
      "true:1     528     205\n",
      "true:0     268    1169\n",
      "\n",
      "\n",
      "              precision    recall  f1-score   support\n",
      "\n",
      "           0       0.85      0.81      0.83      1437\n",
      "           1       0.66      0.72      0.69       733\n",
      "\n",
      "   micro avg       0.78      0.78      0.78      2170\n",
      "   macro avg       0.76      0.77      0.76      2170\n",
      "weighted avg       0.79      0.78      0.78      2170\n",
      "\n",
      "----------------------------------------------------------\n",
      "Accuracy of SVM is 78.801843318\n",
      "Confusion Matrix\n",
      "\n",
      "        pred:1  pred:0\n",
      "true:1     550     214\n",
      "true:0     246    1160\n",
      "\n",
      "\n",
      "              precision    recall  f1-score   support\n",
      "\n",
      "           0       0.84      0.83      0.83      1406\n",
      "           1       0.69      0.72      0.71       764\n",
      "\n",
      "   micro avg       0.79      0.79      0.79      2170\n",
      "   macro avg       0.77      0.77      0.77      2170\n",
      "weighted avg       0.79      0.79      0.79      2170\n",
      "\n",
      "----------------------------------------------------------\n",
      "Accuracy of AdaBoost is 84.4700460829\n",
      "Confusion Matrix\n",
      "\n",
      "        pred:1  pred:0\n",
      "true:1     619     160\n",
      "true:0     177    1214\n",
      "\n",
      "\n",
      "              precision    recall  f1-score   support\n",
      "\n",
      "           0       0.88      0.87      0.88      1391\n",
      "           1       0.78      0.79      0.79       779\n",
      "\n",
      "   micro avg       0.84      0.84      0.84      2170\n",
      "   macro avg       0.83      0.83      0.83      2170\n",
      "weighted avg       0.85      0.84      0.85      2170\n",
      "\n",
      "----------------------------------------------------------\n",
      "Accuracy of Neural Network is 85.3456221198\n",
      "Confusion Matrix\n",
      "\n",
      "        pred:1  pred:0\n",
      "true:1     596     118\n",
      "true:0     200    1256\n",
      "\n",
      "\n",
      "              precision    recall  f1-score   support\n",
      "\n",
      "           0       0.91      0.86      0.89      1456\n",
      "           1       0.75      0.83      0.79       714\n",
      "\n",
      "   micro avg       0.85      0.85      0.85      2170\n",
      "   macro avg       0.83      0.85      0.84      2170\n",
      "weighted avg       0.86      0.85      0.86      2170\n",
      "\n",
      "----------------------------------------------------------\n"
     ]
    },
    {
     "data": {
      "image/png": "[encoded data removed]",
      "text/plain": [
       "<matplotlib.figure.Figure at 0xf82edd8>"
      ]
     },
     "metadata": {},
     "output_type": "display_data"
    }
   ],
   "source": [
    "used_features = ['queuing_rating', 'terminal_cleanliness_rating','airport_shopping_rating','sentiment']\n",
    "acc, models = train(used_features=used_features)\n",
    "plot(acc, models)"
   ]
  },
  {
   "cell_type": "markdown",
   "metadata": {},
   "source": [
    "## Fifth combination: using only \"overall_rating\""
   ]
  },
  {
   "cell_type": "code",
   "execution_count": 39,
   "metadata": {},
   "outputs": [
    {
     "name": "stdout",
     "output_type": "stream",
     "text": [
      "Accuracy of Logistic Regression is 94.6543778802\n",
      "Confusion Matrix\n",
      "\n",
      "        pred:1  pred:0\n",
      "true:1     705      25\n",
      "true:0      91    1349\n",
      "\n",
      "\n",
      "              precision    recall  f1-score   support\n",
      "\n",
      "           0       0.98      0.94      0.96      1440\n",
      "           1       0.89      0.97      0.92       730\n",
      "\n",
      "   micro avg       0.95      0.95      0.95      2170\n",
      "   macro avg       0.93      0.95      0.94      2170\n",
      "weighted avg       0.95      0.95      0.95      2170\n",
      "\n",
      "----------------------------------------------------------\n",
      "Accuracy of SVM is 94.6543778802\n",
      "Confusion Matrix\n",
      "\n",
      "        pred:1  pred:0\n",
      "true:1     705      25\n",
      "true:0      91    1349\n",
      "\n",
      "\n",
      "              precision    recall  f1-score   support\n",
      "\n",
      "           0       0.98      0.94      0.96      1440\n",
      "           1       0.89      0.97      0.92       730\n",
      "\n",
      "   micro avg       0.95      0.95      0.95      2170\n",
      "   macro avg       0.93      0.95      0.94      2170\n",
      "weighted avg       0.95      0.95      0.95      2170\n",
      "\n",
      "----------------------------------------------------------\n",
      "Accuracy of AdaBoost is 94.6543778802\n",
      "Confusion Matrix\n",
      "\n",
      "        pred:1  pred:0\n",
      "true:1     705      25\n",
      "true:0      91    1349\n",
      "\n",
      "\n",
      "              precision    recall  f1-score   support\n",
      "\n",
      "           0       0.98      0.94      0.96      1440\n",
      "           1       0.89      0.97      0.92       730\n",
      "\n",
      "   micro avg       0.95      0.95      0.95      2170\n",
      "   macro avg       0.93      0.95      0.94      2170\n",
      "weighted avg       0.95      0.95      0.95      2170\n",
      "\n",
      "----------------------------------------------------------\n",
      "Accuracy of Neural Network is 94.6543778802\n",
      "Confusion Matrix\n",
      "\n",
      "        pred:1  pred:0\n",
      "true:1     705      25\n",
      "true:0      91    1349\n",
      "\n",
      "\n",
      "              precision    recall  f1-score   support\n",
      "\n",
      "           0       0.98      0.94      0.96      1440\n",
      "           1       0.89      0.97      0.92       730\n",
      "\n",
      "   micro avg       0.95      0.95      0.95      2170\n",
      "   macro avg       0.93      0.95      0.94      2170\n",
      "weighted avg       0.95      0.95      0.95      2170\n",
      "\n",
      "----------------------------------------------------------\n"
     ]
    },
    {
     "data": {
      "image/png": "[encoded data removed]",
      "text/plain": [
       "<matplotlib.figure.Figure at 0xf80f630>"
      ]
     },
     "metadata": {},
     "output_type": "display_data"
    }
   ],
   "source": [
    "used_features = ['overall_rating']\n",
    "acc, models = train(used_features=used_features)\n",
    "plot(acc, models)"
   ]
  },
  {
   "cell_type": "markdown",
   "metadata": {},
   "source": [
    "### Sixth combination: Using  'queuing_rating', 'terminal_cleanliness_rating','airport_shopping_rating'"
   ]
  },
  {
   "cell_type": "code",
   "execution_count": 40,
   "metadata": {},
   "outputs": [
    {
     "name": "stdout",
     "output_type": "stream",
     "text": [
      "Accuracy of Logistic Regression is 77.8341013825\n",
      "Confusion Matrix\n",
      "\n",
      "        pred:1  pred:0\n",
      "true:1     529     214\n",
      "true:0     267    1160\n",
      "\n",
      "\n",
      "              precision    recall  f1-score   support\n",
      "\n",
      "           0       0.84      0.81      0.83      1427\n",
      "           1       0.66      0.71      0.69       743\n",
      "\n",
      "   micro avg       0.78      0.78      0.78      2170\n",
      "   macro avg       0.75      0.76      0.76      2170\n",
      "weighted avg       0.78      0.78      0.78      2170\n",
      "\n",
      "----------------------------------------------------------\n",
      "Accuracy of SVM is 78.1105990783\n",
      "Confusion Matrix\n",
      "\n",
      "        pred:1  pred:0\n",
      "true:1     548     227\n",
      "true:0     248    1147\n",
      "\n",
      "\n",
      "              precision    recall  f1-score   support\n",
      "\n",
      "           0       0.83      0.82      0.83      1395\n",
      "           1       0.69      0.71      0.70       775\n",
      "\n",
      "   micro avg       0.78      0.78      0.78      2170\n",
      "   macro avg       0.76      0.76      0.76      2170\n",
      "weighted avg       0.78      0.78      0.78      2170\n",
      "\n",
      "----------------------------------------------------------\n",
      "Accuracy of AdaBoost is 85.8064516129\n",
      "Confusion Matrix\n",
      "\n",
      "        pred:1  pred:0\n",
      "true:1     633     145\n",
      "true:0     163    1229\n",
      "\n",
      "\n",
      "              precision    recall  f1-score   support\n",
      "\n",
      "           0       0.89      0.88      0.89      1392\n",
      "           1       0.80      0.81      0.80       778\n",
      "\n",
      "   micro avg       0.86      0.86      0.86      2170\n",
      "   macro avg       0.84      0.85      0.85      2170\n",
      "weighted avg       0.86      0.86      0.86      2170\n",
      "\n",
      "----------------------------------------------------------\n",
      "Accuracy of Neural Network is 85.9907834101\n",
      "Confusion Matrix\n",
      "\n",
      "        pred:1  pred:0\n",
      "true:1     620     128\n",
      "true:0     176    1246\n",
      "\n",
      "\n",
      "              precision    recall  f1-score   support\n",
      "\n",
      "           0       0.91      0.88      0.89      1422\n",
      "           1       0.78      0.83      0.80       748\n",
      "\n",
      "   micro avg       0.86      0.86      0.86      2170\n",
      "   macro avg       0.84      0.85      0.85      2170\n",
      "weighted avg       0.86      0.86      0.86      2170\n",
      "\n",
      "----------------------------------------------------------\n"
     ]
    },
    {
     "data": {
      "image/png": "[encoded data removed]",
      "text/plain": [
       "<matplotlib.figure.Figure at 0xc89f668>"
      ]
     },
     "metadata": {},
     "output_type": "display_data"
    }
   ],
   "source": [
    "used_features = ['queuing_rating', 'terminal_cleanliness_rating','airport_shopping_rating']\n",
    "acc, models = train(used_features=used_features)\n",
    "plot(acc, models)"
   ]
  },
  {
   "cell_type": "markdown",
   "metadata": {},
   "source": [
    "## Seventh combination: Using \"overall_rating\" and \"queuing_rating\""
   ]
  },
  {
   "cell_type": "code",
   "execution_count": 41,
   "metadata": {},
   "outputs": [
    {
     "name": "stdout",
     "output_type": "stream",
     "text": [
      "Accuracy of Logistic Regression is 94.6543778802\n",
      "Confusion Matrix\n",
      "\n",
      "        pred:1  pred:0\n",
      "true:1     705      25\n",
      "true:0      91    1349\n",
      "\n",
      "\n",
      "              precision    recall  f1-score   support\n",
      "\n",
      "           0       0.98      0.94      0.96      1440\n",
      "           1       0.89      0.97      0.92       730\n",
      "\n",
      "   micro avg       0.95      0.95      0.95      2170\n",
      "   macro avg       0.93      0.95      0.94      2170\n",
      "weighted avg       0.95      0.95      0.95      2170\n",
      "\n",
      "----------------------------------------------------------\n",
      "Accuracy of SVM is 94.6543778802\n",
      "Confusion Matrix\n",
      "\n",
      "        pred:1  pred:0\n",
      "true:1     705      25\n",
      "true:0      91    1349\n",
      "\n",
      "\n",
      "              precision    recall  f1-score   support\n",
      "\n",
      "           0       0.98      0.94      0.96      1440\n",
      "           1       0.89      0.97      0.92       730\n",
      "\n",
      "   micro avg       0.95      0.95      0.95      2170\n",
      "   macro avg       0.93      0.95      0.94      2170\n",
      "weighted avg       0.95      0.95      0.95      2170\n",
      "\n",
      "----------------------------------------------------------\n",
      "Accuracy of AdaBoost is 94.6543778802\n",
      "Confusion Matrix\n",
      "\n",
      "        pred:1  pred:0\n",
      "true:1     705      25\n",
      "true:0      91    1349\n",
      "\n",
      "\n",
      "              precision    recall  f1-score   support\n",
      "\n",
      "           0       0.98      0.94      0.96      1440\n",
      "           1       0.89      0.97      0.92       730\n",
      "\n",
      "   micro avg       0.95      0.95      0.95      2170\n",
      "   macro avg       0.93      0.95      0.94      2170\n",
      "weighted avg       0.95      0.95      0.95      2170\n",
      "\n",
      "----------------------------------------------------------\n",
      "Accuracy of Neural Network is 94.4239631336\n",
      "Confusion Matrix\n",
      "\n",
      "        pred:1  pred:0\n",
      "true:1     697      22\n",
      "true:0      99    1352\n",
      "\n",
      "\n",
      "              precision    recall  f1-score   support\n",
      "\n",
      "           0       0.98      0.93      0.96      1451\n",
      "           1       0.88      0.97      0.92       719\n",
      "\n",
      "   micro avg       0.94      0.94      0.94      2170\n",
      "   macro avg       0.93      0.95      0.94      2170\n",
      "weighted avg       0.95      0.94      0.94      2170\n",
      "\n",
      "----------------------------------------------------------\n"
     ]
    },
    {
     "data": {
      "image/png": "[encoded data removed]",
      "text/plain": [
       "<matplotlib.figure.Figure at 0xc9f1b70>"
      ]
     },
     "metadata": {},
     "output_type": "display_data"
    }
   ],
   "source": [
    "used_features = ['queuing_rating','overall_rating']\n",
    "acc, models = train(used_features=used_features)\n",
    "plot(acc, models)"
   ]
  },
  {
   "cell_type": "markdown",
   "metadata": {},
   "source": [
    "## The best model is : third combination (removing \"terminal_cleanilness_rating\") 95.34%, with Adaboost, so we will use this to classify a new example"
   ]
  },
  {
   "cell_type": "code",
   "execution_count": 44,
   "metadata": {
    "collapsed": true
   },
   "outputs": [],
   "source": [
    "used_features = ['queuing_rating','overall_rating','airport_shopping_rating','sentiment']\n",
    "model = AdaBoostClassifier().fit(x_train[used_features],y_train)"
   ]
  },
  {
   "cell_type": "markdown",
   "metadata": {},
   "source": [
    "# now you can give your ratings in the following cell"
   ]
  },
  {
   "cell_type": "code",
   "execution_count": 46,
   "metadata": {},
   "outputs": [
    {
     "name": "stdout",
     "output_type": "stream",
     "text": [
      "queuing_rating: 4\n",
      "overall rating: 7\n",
      "airport_shopping_rating: 3\n",
      "review message: good airport\n"
     ]
    },
    {
     "data": {
      "text/plain": [
       "1"
      ]
     },
     "execution_count": 46,
     "metadata": {},
     "output_type": "execute_result"
    }
   ],
   "source": [
    "queuing_rating = int(input('queuing_rating: '))\n",
    "overall_rating = int(input('overall rating: '))\n",
    "airport_shopping_rating = int(input('airport_shopping_rating: '))\n",
    "content = input('review message: ')\n",
    "sentiment_ = sentiment(content) #------------- هنا يتم حساب ال sentiment \n",
    "\n",
    "d = {'queuing_rating':[queuing_rating],\n",
    "     'overall_rating': [overall_rating],\n",
    "     'airport_shopping_rating': [airport_shopping_rating],\n",
    "     'sentiment': [sentiment_]}\n",
    "df = pd.DataFrame(data=d)\n",
    "df = df[used_features]\n",
    "np.asscalar(model.predict(df))"
   ]
  },
  {
   "cell_type": "markdown",
   "metadata": {},
   "source": [
    "## as you can see the result is 1, which means the user will recommend this airport, lets try with another example"
   ]
  },
  {
   "cell_type": "code",
   "execution_count": 47,
   "metadata": {},
   "outputs": [
    {
     "name": "stdout",
     "output_type": "stream",
     "text": [
      "queuing_rating: 2\n",
      "overall rating: 4\n",
      "airport_shopping_rating: 2\n",
      "review message: bad airport\n"
     ]
    },
    {
     "data": {
      "text/plain": [
       "0"
      ]
     },
     "execution_count": 47,
     "metadata": {},
     "output_type": "execute_result"
    }
   ],
   "source": [
    "queuing_rating = int(input('queuing_rating: '))\n",
    "overall_rating = int(input('overall rating: '))\n",
    "airport_shopping_rating = int(input('airport_shopping_rating: '))\n",
    "content = input('review message: ')\n",
    "sentiment_ = sentiment(content)\n",
    "\n",
    "d = {'queuing_rating':[queuing_rating],\n",
    "     'overall_rating': [overall_rating],\n",
    "     'airport_shopping_rating': [airport_shopping_rating],\n",
    "     'sentiment': [sentiment_]}\n",
    "df = pd.DataFrame(data=d)\n",
    "df = df[used_features]\n",
    "np.asscalar(model.predict(df))"
   ]
  },
  {
   "cell_type": "markdown",
   "metadata": {},
   "source": [
    "## as you can see here the result is 0, which means the user will not recommend the airline,if you want to try another example just run the cell again, and enter your ratings in the end you will see the results"
   ]
  },
  {
   "cell_type": "code",
   "execution_count": null,
   "metadata": {
    "collapsed": true
   },
   "outputs": [],
   "source": []
  }
 ],
 "metadata": {
  "kernelspec": {
   "display_name": "Python [conda env:deep]",
   "language": "python",
   "name": "conda-env-deep-py"
  },
  "language_info": {
   "codemirror_mode": {
    "name": "ipython",
    "version": 3
   },
   "file_extension": ".py",
   "mimetype": "text/x-python",
   "name": "python",
   "nbconvert_exporter": "python",
   "pygments_lexer": "ipython3",
   "version": "3.6.7"
  }
 },
 "nbformat": 4,
 "nbformat_minor": 2
}

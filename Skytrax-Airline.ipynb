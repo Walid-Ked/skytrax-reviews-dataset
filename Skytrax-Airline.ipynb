{
 "cells": [
  {
   "cell_type": "markdown",
   "metadata": {},
   "source": [
    "# Airline Dataset\n",
    "### Exploratory analysis and cleaning\n"
   ]
  },
  {
   "cell_type": "code",
   "execution_count": 1,
   "metadata": {
    "collapsed": true
   },
   "outputs": [],
   "source": [
    "# import your packages you need\n",
    "import pandas as pd\n",
    "import numpy as np\n",
    "import matplotlib.pyplot as plt\n",
    "import math as math\n",
    "import seaborn as sns\n",
    "%matplotlib inline\n",
    "from textblob import TextBlob\n",
    "import warnings\n",
    "warnings.filterwarnings('ignore')"
   ]
  },
  {
   "cell_type": "code",
   "execution_count": 2,
   "metadata": {
    "collapsed": true
   },
   "outputs": [],
   "source": [
    "# use pandas to import the airline skytrax data\n",
    "airline=pd.read_csv(r'data\\airline.csv', sep=',')"
   ]
  },
  {
   "cell_type": "code",
   "execution_count": 3,
   "metadata": {},
   "outputs": [
    {
     "data": {
      "text/html": [
       "<div>\n",
       "<style scoped>\n",
       "    .dataframe tbody tr th:only-of-type {\n",
       "        vertical-align: middle;\n",
       "    }\n",
       "\n",
       "    .dataframe tbody tr th {\n",
       "        vertical-align: top;\n",
       "    }\n",
       "\n",
       "    .dataframe thead th {\n",
       "        text-align: right;\n",
       "    }\n",
       "</style>\n",
       "<table border=\"1\" class=\"dataframe\">\n",
       "  <thead>\n",
       "    <tr style=\"text-align: right;\">\n",
       "      <th></th>\n",
       "      <th>airline_name</th>\n",
       "      <th>link</th>\n",
       "      <th>title</th>\n",
       "      <th>author</th>\n",
       "      <th>author_country</th>\n",
       "      <th>date</th>\n",
       "      <th>content</th>\n",
       "      <th>aircraft</th>\n",
       "      <th>type_traveller</th>\n",
       "      <th>cabin_flown</th>\n",
       "      <th>route</th>\n",
       "      <th>overall_rating</th>\n",
       "      <th>seat_comfort_rating</th>\n",
       "      <th>cabin_staff_rating</th>\n",
       "      <th>food_beverages_rating</th>\n",
       "      <th>inflight_entertainment_rating</th>\n",
       "      <th>ground_service_rating</th>\n",
       "      <th>wifi_connectivity_rating</th>\n",
       "      <th>value_money_rating</th>\n",
       "      <th>recommended</th>\n",
       "    </tr>\n",
       "  </thead>\n",
       "  <tbody>\n",
       "    <tr>\n",
       "      <th>0</th>\n",
       "      <td>adria-airways</td>\n",
       "      <td>/airline-reviews/adria-airways</td>\n",
       "      <td>Adria Airways customer review</td>\n",
       "      <td>D Ito</td>\n",
       "      <td>Germany</td>\n",
       "      <td>2015-04-10</td>\n",
       "      <td>Outbound flight FRA/PRN A319. 2 hours 10 min f...</td>\n",
       "      <td>NaN</td>\n",
       "      <td>NaN</td>\n",
       "      <td>Economy</td>\n",
       "      <td>NaN</td>\n",
       "      <td>7.0</td>\n",
       "      <td>4.0</td>\n",
       "      <td>4.0</td>\n",
       "      <td>4.0</td>\n",
       "      <td>0.0</td>\n",
       "      <td>NaN</td>\n",
       "      <td>NaN</td>\n",
       "      <td>4.0</td>\n",
       "      <td>1</td>\n",
       "    </tr>\n",
       "    <tr>\n",
       "      <th>1</th>\n",
       "      <td>adria-airways</td>\n",
       "      <td>/airline-reviews/adria-airways</td>\n",
       "      <td>Adria Airways customer review</td>\n",
       "      <td>Ron Kuhlmann</td>\n",
       "      <td>United States</td>\n",
       "      <td>2015-01-05</td>\n",
       "      <td>Two short hops ZRH-LJU and LJU-VIE. Very fast ...</td>\n",
       "      <td>NaN</td>\n",
       "      <td>NaN</td>\n",
       "      <td>Business Class</td>\n",
       "      <td>NaN</td>\n",
       "      <td>10.0</td>\n",
       "      <td>4.0</td>\n",
       "      <td>5.0</td>\n",
       "      <td>4.0</td>\n",
       "      <td>1.0</td>\n",
       "      <td>NaN</td>\n",
       "      <td>NaN</td>\n",
       "      <td>5.0</td>\n",
       "      <td>1</td>\n",
       "    </tr>\n",
       "    <tr>\n",
       "      <th>2</th>\n",
       "      <td>adria-airways</td>\n",
       "      <td>/airline-reviews/adria-airways</td>\n",
       "      <td>Adria Airways customer review</td>\n",
       "      <td>E Albin</td>\n",
       "      <td>Switzerland</td>\n",
       "      <td>2014-09-14</td>\n",
       "      <td>Flew Zurich-Ljubljana on JP365 newish CRJ900. ...</td>\n",
       "      <td>NaN</td>\n",
       "      <td>NaN</td>\n",
       "      <td>Economy</td>\n",
       "      <td>NaN</td>\n",
       "      <td>9.0</td>\n",
       "      <td>5.0</td>\n",
       "      <td>5.0</td>\n",
       "      <td>4.0</td>\n",
       "      <td>0.0</td>\n",
       "      <td>NaN</td>\n",
       "      <td>NaN</td>\n",
       "      <td>5.0</td>\n",
       "      <td>1</td>\n",
       "    </tr>\n",
       "    <tr>\n",
       "      <th>3</th>\n",
       "      <td>adria-airways</td>\n",
       "      <td>/airline-reviews/adria-airways</td>\n",
       "      <td>Adria Airways customer review</td>\n",
       "      <td>Tercon Bojan</td>\n",
       "      <td>Singapore</td>\n",
       "      <td>2014-09-06</td>\n",
       "      <td>Adria serves this 100 min flight from Ljubljan...</td>\n",
       "      <td>NaN</td>\n",
       "      <td>NaN</td>\n",
       "      <td>Business Class</td>\n",
       "      <td>NaN</td>\n",
       "      <td>8.0</td>\n",
       "      <td>4.0</td>\n",
       "      <td>4.0</td>\n",
       "      <td>3.0</td>\n",
       "      <td>1.0</td>\n",
       "      <td>NaN</td>\n",
       "      <td>NaN</td>\n",
       "      <td>4.0</td>\n",
       "      <td>1</td>\n",
       "    </tr>\n",
       "    <tr>\n",
       "      <th>4</th>\n",
       "      <td>adria-airways</td>\n",
       "      <td>/airline-reviews/adria-airways</td>\n",
       "      <td>Adria Airways customer review</td>\n",
       "      <td>L James</td>\n",
       "      <td>Poland</td>\n",
       "      <td>2014-06-16</td>\n",
       "      <td>WAW-SKJ Economy. No free snacks or drinks on t...</td>\n",
       "      <td>NaN</td>\n",
       "      <td>NaN</td>\n",
       "      <td>Economy</td>\n",
       "      <td>NaN</td>\n",
       "      <td>4.0</td>\n",
       "      <td>4.0</td>\n",
       "      <td>2.0</td>\n",
       "      <td>1.0</td>\n",
       "      <td>2.0</td>\n",
       "      <td>NaN</td>\n",
       "      <td>NaN</td>\n",
       "      <td>2.0</td>\n",
       "      <td>0</td>\n",
       "    </tr>\n",
       "  </tbody>\n",
       "</table>\n",
       "</div>"
      ],
      "text/plain": [
       "    airline_name                            link  \\\n",
       "0  adria-airways  /airline-reviews/adria-airways   \n",
       "1  adria-airways  /airline-reviews/adria-airways   \n",
       "2  adria-airways  /airline-reviews/adria-airways   \n",
       "3  adria-airways  /airline-reviews/adria-airways   \n",
       "4  adria-airways  /airline-reviews/adria-airways   \n",
       "\n",
       "                           title        author author_country        date  \\\n",
       "0  Adria Airways customer review         D Ito        Germany  2015-04-10   \n",
       "1  Adria Airways customer review  Ron Kuhlmann  United States  2015-01-05   \n",
       "2  Adria Airways customer review       E Albin    Switzerland  2014-09-14   \n",
       "3  Adria Airways customer review  Tercon Bojan      Singapore  2014-09-06   \n",
       "4  Adria Airways customer review       L James         Poland  2014-06-16   \n",
       "\n",
       "                                             content aircraft type_traveller  \\\n",
       "0  Outbound flight FRA/PRN A319. 2 hours 10 min f...      NaN            NaN   \n",
       "1  Two short hops ZRH-LJU and LJU-VIE. Very fast ...      NaN            NaN   \n",
       "2  Flew Zurich-Ljubljana on JP365 newish CRJ900. ...      NaN            NaN   \n",
       "3  Adria serves this 100 min flight from Ljubljan...      NaN            NaN   \n",
       "4  WAW-SKJ Economy. No free snacks or drinks on t...      NaN            NaN   \n",
       "\n",
       "      cabin_flown route  overall_rating  seat_comfort_rating  \\\n",
       "0         Economy   NaN             7.0                  4.0   \n",
       "1  Business Class   NaN            10.0                  4.0   \n",
       "2         Economy   NaN             9.0                  5.0   \n",
       "3  Business Class   NaN             8.0                  4.0   \n",
       "4         Economy   NaN             4.0                  4.0   \n",
       "\n",
       "   cabin_staff_rating  food_beverages_rating  inflight_entertainment_rating  \\\n",
       "0                 4.0                    4.0                            0.0   \n",
       "1                 5.0                    4.0                            1.0   \n",
       "2                 5.0                    4.0                            0.0   \n",
       "3                 4.0                    3.0                            1.0   \n",
       "4                 2.0                    1.0                            2.0   \n",
       "\n",
       "   ground_service_rating  wifi_connectivity_rating  value_money_rating  \\\n",
       "0                    NaN                       NaN                 4.0   \n",
       "1                    NaN                       NaN                 5.0   \n",
       "2                    NaN                       NaN                 5.0   \n",
       "3                    NaN                       NaN                 4.0   \n",
       "4                    NaN                       NaN                 2.0   \n",
       "\n",
       "   recommended  \n",
       "0            1  \n",
       "1            1  \n",
       "2            1  \n",
       "3            1  \n",
       "4            0  "
      ]
     },
     "execution_count": 3,
     "metadata": {},
     "output_type": "execute_result"
    }
   ],
   "source": [
    "#check out the data to see what it looks like\n",
    "airline.head()"
   ]
  },
  {
   "cell_type": "code",
   "execution_count": 4,
   "metadata": {},
   "outputs": [
    {
     "data": {
      "text/html": [
       "<div>\n",
       "<style scoped>\n",
       "    .dataframe tbody tr th:only-of-type {\n",
       "        vertical-align: middle;\n",
       "    }\n",
       "\n",
       "    .dataframe tbody tr th {\n",
       "        vertical-align: top;\n",
       "    }\n",
       "\n",
       "    .dataframe thead th {\n",
       "        text-align: right;\n",
       "    }\n",
       "</style>\n",
       "<table border=\"1\" class=\"dataframe\">\n",
       "  <thead>\n",
       "    <tr style=\"text-align: right;\">\n",
       "      <th></th>\n",
       "      <th>overall_rating</th>\n",
       "      <th>seat_comfort_rating</th>\n",
       "      <th>cabin_staff_rating</th>\n",
       "      <th>food_beverages_rating</th>\n",
       "      <th>inflight_entertainment_rating</th>\n",
       "      <th>ground_service_rating</th>\n",
       "      <th>wifi_connectivity_rating</th>\n",
       "      <th>value_money_rating</th>\n",
       "      <th>recommended</th>\n",
       "    </tr>\n",
       "  </thead>\n",
       "  <tbody>\n",
       "    <tr>\n",
       "      <th>count</th>\n",
       "      <td>36861.000000</td>\n",
       "      <td>33706.000000</td>\n",
       "      <td>33708.000000</td>\n",
       "      <td>33264.000000</td>\n",
       "      <td>31114.000000</td>\n",
       "      <td>2203.000000</td>\n",
       "      <td>565.000000</td>\n",
       "      <td>39723.000000</td>\n",
       "      <td>41396.000000</td>\n",
       "    </tr>\n",
       "    <tr>\n",
       "      <th>mean</th>\n",
       "      <td>6.039527</td>\n",
       "      <td>3.094612</td>\n",
       "      <td>3.319212</td>\n",
       "      <td>2.805886</td>\n",
       "      <td>2.392364</td>\n",
       "      <td>2.736723</td>\n",
       "      <td>2.249558</td>\n",
       "      <td>3.164111</td>\n",
       "      <td>0.533820</td>\n",
       "    </tr>\n",
       "    <tr>\n",
       "      <th>std</th>\n",
       "      <td>3.214680</td>\n",
       "      <td>1.405515</td>\n",
       "      <td>1.541307</td>\n",
       "      <td>1.580246</td>\n",
       "      <td>1.704753</td>\n",
       "      <td>1.569073</td>\n",
       "      <td>1.541283</td>\n",
       "      <td>1.523486</td>\n",
       "      <td>0.498861</td>\n",
       "    </tr>\n",
       "    <tr>\n",
       "      <th>min</th>\n",
       "      <td>1.000000</td>\n",
       "      <td>0.000000</td>\n",
       "      <td>0.000000</td>\n",
       "      <td>0.000000</td>\n",
       "      <td>0.000000</td>\n",
       "      <td>1.000000</td>\n",
       "      <td>1.000000</td>\n",
       "      <td>0.000000</td>\n",
       "      <td>0.000000</td>\n",
       "    </tr>\n",
       "    <tr>\n",
       "      <th>25%</th>\n",
       "      <td>3.000000</td>\n",
       "      <td>2.000000</td>\n",
       "      <td>2.000000</td>\n",
       "      <td>1.000000</td>\n",
       "      <td>1.000000</td>\n",
       "      <td>1.000000</td>\n",
       "      <td>1.000000</td>\n",
       "      <td>2.000000</td>\n",
       "      <td>0.000000</td>\n",
       "    </tr>\n",
       "    <tr>\n",
       "      <th>50%</th>\n",
       "      <td>7.000000</td>\n",
       "      <td>3.000000</td>\n",
       "      <td>4.000000</td>\n",
       "      <td>3.000000</td>\n",
       "      <td>2.000000</td>\n",
       "      <td>3.000000</td>\n",
       "      <td>1.000000</td>\n",
       "      <td>4.000000</td>\n",
       "      <td>1.000000</td>\n",
       "    </tr>\n",
       "    <tr>\n",
       "      <th>75%</th>\n",
       "      <td>9.000000</td>\n",
       "      <td>4.000000</td>\n",
       "      <td>5.000000</td>\n",
       "      <td>4.000000</td>\n",
       "      <td>4.000000</td>\n",
       "      <td>4.000000</td>\n",
       "      <td>4.000000</td>\n",
       "      <td>4.000000</td>\n",
       "      <td>1.000000</td>\n",
       "    </tr>\n",
       "    <tr>\n",
       "      <th>max</th>\n",
       "      <td>10.000000</td>\n",
       "      <td>5.000000</td>\n",
       "      <td>5.000000</td>\n",
       "      <td>5.000000</td>\n",
       "      <td>5.000000</td>\n",
       "      <td>5.000000</td>\n",
       "      <td>5.000000</td>\n",
       "      <td>5.000000</td>\n",
       "      <td>1.000000</td>\n",
       "    </tr>\n",
       "  </tbody>\n",
       "</table>\n",
       "</div>"
      ],
      "text/plain": [
       "       overall_rating  seat_comfort_rating  cabin_staff_rating  \\\n",
       "count    36861.000000         33706.000000        33708.000000   \n",
       "mean         6.039527             3.094612            3.319212   \n",
       "std          3.214680             1.405515            1.541307   \n",
       "min          1.000000             0.000000            0.000000   \n",
       "25%          3.000000             2.000000            2.000000   \n",
       "50%          7.000000             3.000000            4.000000   \n",
       "75%          9.000000             4.000000            5.000000   \n",
       "max         10.000000             5.000000            5.000000   \n",
       "\n",
       "       food_beverages_rating  inflight_entertainment_rating  \\\n",
       "count           33264.000000                   31114.000000   \n",
       "mean                2.805886                       2.392364   \n",
       "std                 1.580246                       1.704753   \n",
       "min                 0.000000                       0.000000   \n",
       "25%                 1.000000                       1.000000   \n",
       "50%                 3.000000                       2.000000   \n",
       "75%                 4.000000                       4.000000   \n",
       "max                 5.000000                       5.000000   \n",
       "\n",
       "       ground_service_rating  wifi_connectivity_rating  value_money_rating  \\\n",
       "count            2203.000000                565.000000        39723.000000   \n",
       "mean                2.736723                  2.249558            3.164111   \n",
       "std                 1.569073                  1.541283            1.523486   \n",
       "min                 1.000000                  1.000000            0.000000   \n",
       "25%                 1.000000                  1.000000            2.000000   \n",
       "50%                 3.000000                  1.000000            4.000000   \n",
       "75%                 4.000000                  4.000000            4.000000   \n",
       "max                 5.000000                  5.000000            5.000000   \n",
       "\n",
       "        recommended  \n",
       "count  41396.000000  \n",
       "mean       0.533820  \n",
       "std        0.498861  \n",
       "min        0.000000  \n",
       "25%        0.000000  \n",
       "50%        1.000000  \n",
       "75%        1.000000  \n",
       "max        1.000000  "
      ]
     },
     "execution_count": 4,
     "metadata": {},
     "output_type": "execute_result"
    }
   ],
   "source": [
    "#see some statistics about the dataset, mean, standard deviation, min, max ... ect\n",
    "airline.describe()"
   ]
  },
  {
   "cell_type": "code",
   "execution_count": 5,
   "metadata": {},
   "outputs": [
    {
     "name": "stdout",
     "output_type": "stream",
     "text": [
      "<class 'pandas.core.frame.DataFrame'>\n",
      "RangeIndex: 41396 entries, 0 to 41395\n",
      "Data columns (total 20 columns):\n",
      "airline_name                     41396 non-null object\n",
      "link                             41396 non-null object\n",
      "title                            41396 non-null object\n",
      "author                           41396 non-null object\n",
      "author_country                   39805 non-null object\n",
      "date                             41396 non-null object\n",
      "content                          41396 non-null object\n",
      "aircraft                         1278 non-null object\n",
      "type_traveller                   2378 non-null object\n",
      "cabin_flown                      38520 non-null object\n",
      "route                            2341 non-null object\n",
      "overall_rating                   36861 non-null float64\n",
      "seat_comfort_rating              33706 non-null float64\n",
      "cabin_staff_rating               33708 non-null float64\n",
      "food_beverages_rating            33264 non-null float64\n",
      "inflight_entertainment_rating    31114 non-null float64\n",
      "ground_service_rating            2203 non-null float64\n",
      "wifi_connectivity_rating         565 non-null float64\n",
      "value_money_rating               39723 non-null float64\n",
      "recommended                      41396 non-null int64\n",
      "dtypes: float64(8), int64(1), object(11)\n",
      "memory usage: 6.3+ MB\n"
     ]
    }
   ],
   "source": [
    "#take a look at the columns, their data type and number of values in each column\n",
    "airline.info()"
   ]
  },
  {
   "cell_type": "code",
   "execution_count": 6,
   "metadata": {},
   "outputs": [
    {
     "data": {
      "text/plain": [
       "Index(['airline_name', 'link', 'title', 'author', 'author_country', 'date',\n",
       "       'content', 'aircraft', 'type_traveller', 'cabin_flown', 'route',\n",
       "       'overall_rating', 'seat_comfort_rating', 'cabin_staff_rating',\n",
       "       'food_beverages_rating', 'inflight_entertainment_rating',\n",
       "       'ground_service_rating', 'wifi_connectivity_rating',\n",
       "       'value_money_rating', 'recommended'],\n",
       "      dtype='object')"
      ]
     },
     "execution_count": 6,
     "metadata": {},
     "output_type": "execute_result"
    }
   ],
   "source": [
    "# names of columns\n",
    "airline.columns"
   ]
  },
  {
   "cell_type": "code",
   "execution_count": 7,
   "metadata": {},
   "outputs": [
    {
     "name": "stdout",
     "output_type": "stream",
     "text": [
      "1    22098\n",
      "0    19298\n",
      "Name: recommended, dtype: int64\n"
     ]
    },
    {
     "data": {
      "text/plain": [
       "<matplotlib.text.Text at 0xbd3e7f0>"
      ]
     },
     "execution_count": 7,
     "metadata": {},
     "output_type": "execute_result"
    },
    {
     "data": {
      "image/png": "[encoded data removed]",
      "text/plain": [
       "<matplotlib.figure.Figure at 0xbd21588>"
      ]
     },
     "metadata": {},
     "output_type": "display_data"
    }
   ],
   "source": [
    "#countplot of recommended (0=no, 1=yes), the dataset seems balanced \n",
    "counts = airline.recommended.value_counts()\n",
    "print(counts)\n",
    "fig = plt.figure(figsize=(5,5))\n",
    "ax = fig.gca()\n",
    "counts.plot.bar(ax = ax)\n",
    "ax.set_title(\"number of recommended and not recommended\")\n",
    "ax.set_xlabel(\"recommended\")\n",
    "ax.set_ylabel(\"counts\")"
   ]
  },
  {
   "cell_type": "code",
   "execution_count": 8,
   "metadata": {},
   "outputs": [
    {
     "data": {
      "text/plain": [
       "<matplotlib.text.Text at 0xbe78240>"
      ]
     },
     "execution_count": 8,
     "metadata": {},
     "output_type": "execute_result"
    },
    {
     "data": {
      "image/png": "[encoded data removed]",
      "text/plain": [
       "<matplotlib.figure.Figure at 0xbddb5c0>"
      ]
     },
     "metadata": {},
     "output_type": "display_data"
    }
   ],
   "source": [
    "#same plot using seaborn\n",
    "sns.set(style=\"darkgrid\")\n",
    "ax=sns.countplot(x='recommended', data=airline)\n",
    "ax.set_title(\"Recommend Airline?\")\n",
    "ax.set_xticklabels([\"No\",\"Yes\"])\n",
    "ax.set_xlabel(\" \")\n",
    "ax.set_ylabel(\"Number of Reviews\")\n"
   ]
  },
  {
   "cell_type": "code",
   "execution_count": 9,
   "metadata": {},
   "outputs": [
    {
     "data": {
      "text/plain": [
       "0    786\n",
       "1    204\n",
       "Name: recommended, dtype: int64"
      ]
     },
     "execution_count": 9,
     "metadata": {},
     "output_type": "execute_result"
    }
   ],
   "source": [
    "new = airline['airline_name'] == 'spirit-airlines'\n",
    "new = airline[new]\n",
    "new.recommended.value_counts()"
   ]
  },
  {
   "cell_type": "markdown",
   "metadata": {},
   "source": [
    "\n",
    "## the airlines that have the most reviews  ( more than 500)"
   ]
  },
  {
   "cell_type": "code",
   "execution_count": 10,
   "metadata": {
    "scrolled": false
   },
   "outputs": [
    {
     "data": {
      "text/plain": [
       "<matplotlib.axes._subplots.AxesSubplot at 0xbe16dd8>"
      ]
     },
     "execution_count": 10,
     "metadata": {},
     "output_type": "execute_result"
    },
    {
     "data": {
      "image/png": "[encoded data removed]",
      "text/plain": [
       "<matplotlib.figure.Figure at 0xbe80160>"
      ]
     },
     "metadata": {},
     "output_type": "display_data"
    }
   ],
   "source": [
    "fig, ax = plt.subplots(figsize=(15,7))\n",
    "group = airline.groupby(['airline_name'])['recommended'].count().reset_index(name='count')\n",
    "group.sort_values(by='count',inplace=True)\n",
    "group = group[group['count'] > 500]\n",
    "ax.set_title('Top airlines that have more than 500 reviews')\n",
    "group.plot.bar(x='airline_name',y='count',ax=ax)"
   ]
  },
  {
   "cell_type": "code",
   "execution_count": 11,
   "metadata": {
    "scrolled": true
   },
   "outputs": [
    {
     "data": {
      "text/html": [
       "<div>\n",
       "<style scoped>\n",
       "    .dataframe tbody tr th:only-of-type {\n",
       "        vertical-align: middle;\n",
       "    }\n",
       "\n",
       "    .dataframe tbody tr th {\n",
       "        vertical-align: top;\n",
       "    }\n",
       "\n",
       "    .dataframe thead th {\n",
       "        text-align: right;\n",
       "    }\n",
       "</style>\n",
       "<table border=\"1\" class=\"dataframe\">\n",
       "  <thead>\n",
       "    <tr style=\"text-align: right;\">\n",
       "      <th></th>\n",
       "      <th>airline_name</th>\n",
       "      <th>count</th>\n",
       "    </tr>\n",
       "  </thead>\n",
       "  <tbody>\n",
       "    <tr>\n",
       "      <th>145</th>\n",
       "      <td>etihad-airways</td>\n",
       "      <td>515</td>\n",
       "    </tr>\n",
       "    <tr>\n",
       "      <th>259</th>\n",
       "      <td>qantas-airways</td>\n",
       "      <td>580</td>\n",
       "    </tr>\n",
       "    <tr>\n",
       "      <th>218</th>\n",
       "      <td>lufthansa</td>\n",
       "      <td>600</td>\n",
       "    </tr>\n",
       "    <tr>\n",
       "      <th>62</th>\n",
       "      <td>american-airlines</td>\n",
       "      <td>612</td>\n",
       "    </tr>\n",
       "    <tr>\n",
       "      <th>269</th>\n",
       "      <td>ryanair</td>\n",
       "      <td>658</td>\n",
       "    </tr>\n",
       "    <tr>\n",
       "      <th>140</th>\n",
       "      <td>emirates</td>\n",
       "      <td>691</td>\n",
       "    </tr>\n",
       "    <tr>\n",
       "      <th>22</th>\n",
       "      <td>air-canada-rouge</td>\n",
       "      <td>715</td>\n",
       "    </tr>\n",
       "    <tr>\n",
       "      <th>188</th>\n",
       "      <td>jet-airways</td>\n",
       "      <td>727</td>\n",
       "    </tr>\n",
       "    <tr>\n",
       "      <th>338</th>\n",
       "      <td>united-airlines</td>\n",
       "      <td>840</td>\n",
       "    </tr>\n",
       "    <tr>\n",
       "      <th>98</th>\n",
       "      <td>british-airways</td>\n",
       "      <td>901</td>\n",
       "    </tr>\n",
       "    <tr>\n",
       "      <th>299</th>\n",
       "      <td>spirit-airlines</td>\n",
       "      <td>990</td>\n",
       "    </tr>\n",
       "  </tbody>\n",
       "</table>\n",
       "</div>"
      ],
      "text/plain": [
       "          airline_name  count\n",
       "145     etihad-airways    515\n",
       "259     qantas-airways    580\n",
       "218          lufthansa    600\n",
       "62   american-airlines    612\n",
       "269            ryanair    658\n",
       "140           emirates    691\n",
       "22    air-canada-rouge    715\n",
       "188        jet-airways    727\n",
       "338    united-airlines    840\n",
       "98     british-airways    901\n",
       "299    spirit-airlines    990"
      ]
     },
     "execution_count": 11,
     "metadata": {},
     "output_type": "execute_result"
    }
   ],
   "source": [
    "group.sort_values(by='count',inplace=True)\n",
    "group"
   ]
  },
  {
   "cell_type": "markdown",
   "metadata": {},
   "source": [
    "# counts of each class for top airlines "
   ]
  },
  {
   "cell_type": "code",
   "execution_count": 12,
   "metadata": {},
   "outputs": [
    {
     "data": {
      "text/plain": [
       "airline_name       recommended\n",
       "air-canada-rouge   0              617\n",
       "                   1               98\n",
       "american-airlines  0              425\n",
       "                   1              187\n",
       "british-airways    1              512\n",
       "                   0              389\n",
       "emirates           1              425\n",
       "                   0              266\n",
       "etihad-airways     0              303\n",
       "                   1              212\n",
       "jet-airways        0              383\n",
       "                   1              344\n",
       "lufthansa          1              488\n",
       "                   0              112\n",
       "qantas-airways     1              425\n",
       "                   0              155\n",
       "ryanair            1              347\n",
       "                   0              311\n",
       "spirit-airlines    0              786\n",
       "                   1              204\n",
       "united-airlines    0              633\n",
       "                   1              207\n",
       "Name: recommended, dtype: int64"
      ]
     },
     "execution_count": 12,
     "metadata": {},
     "output_type": "execute_result"
    }
   ],
   "source": [
    "names = group.airline_name\n",
    "new = airline[airline['airline_name'].isin(names)]\n",
    "new.groupby('airline_name')['recommended'].value_counts()"
   ]
  },
  {
   "cell_type": "code",
   "execution_count": 13,
   "metadata": {},
   "outputs": [
    {
     "data": {
      "text/plain": [
       "<matplotlib.axes._subplots.AxesSubplot at 0xbe16b38>"
      ]
     },
     "execution_count": 13,
     "metadata": {},
     "output_type": "execute_result"
    },
    {
     "data": {
      "image/png": "[encoded data removed]",
      "text/plain": [
       "<matplotlib.figure.Figure at 0xbe7d978>"
      ]
     },
     "metadata": {},
     "output_type": "display_data"
    }
   ],
   "source": [
    "fig, ax = plt.subplots(figsize=(15,7))\n",
    "new.groupby('airline_name').recommended.value_counts().unstack().plot.bar(ax=ax)"
   ]
  },
  {
   "cell_type": "markdown",
   "metadata": {},
   "source": [
    "\n",
    "# the airlines that have the most positive reviews  ( more than 300)"
   ]
  },
  {
   "cell_type": "code",
   "execution_count": 14,
   "metadata": {},
   "outputs": [
    {
     "data": {
      "text/plain": [
       "<matplotlib.axes._subplots.AxesSubplot at 0xc0bc4a8>"
      ]
     },
     "execution_count": 14,
     "metadata": {},
     "output_type": "execute_result"
    },
    {
     "data": {
      "image/png": "[encoded data removed]",
      "text/plain": [
       "<matplotlib.figure.Figure at 0xc0c7358>"
      ]
     },
     "metadata": {},
     "output_type": "display_data"
    }
   ],
   "source": [
    "fig, ax = plt.subplots(figsize=(15,7))\n",
    "group_pos = airline.groupby(['airline_name'])['recommended'].sum().reset_index(name='count')\n",
    "group_pos.sort_values(by='count',inplace=True)\n",
    "group_pos = group_pos[group_pos['count'] > 300]\n",
    "ax.set_title('Top airlines that have more than 300 positive reviews')\n",
    "group_pos.plot.bar(x='airline_name',y='count',ax=ax,color=\"g\")"
   ]
  },
  {
   "cell_type": "code",
   "execution_count": 15,
   "metadata": {},
   "outputs": [
    {
     "data": {
      "text/html": [
       "<div>\n",
       "<style scoped>\n",
       "    .dataframe tbody tr th:only-of-type {\n",
       "        vertical-align: middle;\n",
       "    }\n",
       "\n",
       "    .dataframe tbody tr th {\n",
       "        vertical-align: top;\n",
       "    }\n",
       "\n",
       "    .dataframe thead th {\n",
       "        text-align: right;\n",
       "    }\n",
       "</style>\n",
       "<table border=\"1\" class=\"dataframe\">\n",
       "  <thead>\n",
       "    <tr style=\"text-align: right;\">\n",
       "      <th></th>\n",
       "      <th>airline_name</th>\n",
       "      <th>count</th>\n",
       "    </tr>\n",
       "  </thead>\n",
       "  <tbody>\n",
       "    <tr>\n",
       "      <th>136</th>\n",
       "      <td>easyjet</td>\n",
       "      <td>302</td>\n",
       "    </tr>\n",
       "    <tr>\n",
       "      <th>115</th>\n",
       "      <td>china-southern-airlines</td>\n",
       "      <td>305</td>\n",
       "    </tr>\n",
       "    <tr>\n",
       "      <th>160</th>\n",
       "      <td>garuda-indonesia</td>\n",
       "      <td>321</td>\n",
       "    </tr>\n",
       "    <tr>\n",
       "      <th>221</th>\n",
       "      <td>malaysia-airlines</td>\n",
       "      <td>324</td>\n",
       "    </tr>\n",
       "    <tr>\n",
       "      <th>188</th>\n",
       "      <td>jet-airways</td>\n",
       "      <td>344</td>\n",
       "    </tr>\n",
       "    <tr>\n",
       "      <th>109</th>\n",
       "      <td>cathay-pacific-airways</td>\n",
       "      <td>345</td>\n",
       "    </tr>\n",
       "    <tr>\n",
       "      <th>269</th>\n",
       "      <td>ryanair</td>\n",
       "      <td>347</td>\n",
       "    </tr>\n",
       "    <tr>\n",
       "      <th>285</th>\n",
       "      <td>singapore-airlines</td>\n",
       "      <td>352</td>\n",
       "    </tr>\n",
       "    <tr>\n",
       "      <th>261</th>\n",
       "      <td>qatar-airways</td>\n",
       "      <td>381</td>\n",
       "    </tr>\n",
       "    <tr>\n",
       "      <th>259</th>\n",
       "      <td>qantas-airways</td>\n",
       "      <td>425</td>\n",
       "    </tr>\n",
       "    <tr>\n",
       "      <th>140</th>\n",
       "      <td>emirates</td>\n",
       "      <td>425</td>\n",
       "    </tr>\n",
       "    <tr>\n",
       "      <th>218</th>\n",
       "      <td>lufthansa</td>\n",
       "      <td>488</td>\n",
       "    </tr>\n",
       "    <tr>\n",
       "      <th>98</th>\n",
       "      <td>british-airways</td>\n",
       "      <td>512</td>\n",
       "    </tr>\n",
       "  </tbody>\n",
       "</table>\n",
       "</div>"
      ],
      "text/plain": [
       "                airline_name  count\n",
       "136                  easyjet    302\n",
       "115  china-southern-airlines    305\n",
       "160         garuda-indonesia    321\n",
       "221        malaysia-airlines    324\n",
       "188              jet-airways    344\n",
       "109   cathay-pacific-airways    345\n",
       "269                  ryanair    347\n",
       "285       singapore-airlines    352\n",
       "261            qatar-airways    381\n",
       "259           qantas-airways    425\n",
       "140                 emirates    425\n",
       "218                lufthansa    488\n",
       "98           british-airways    512"
      ]
     },
     "execution_count": 15,
     "metadata": {},
     "output_type": "execute_result"
    }
   ],
   "source": [
    "group_pos.sort_values(by='count',inplace=True)\n",
    "group_pos"
   ]
  },
  {
   "cell_type": "code",
   "execution_count": 16,
   "metadata": {},
   "outputs": [
    {
     "data": {
      "text/html": [
       "<style  type=\"text/css\" >\n",
       "    #T_68a032ec_53f1_11e9_a032_208984591db6row0_col0 {\n",
       "            background-color:  #023858;\n",
       "            color:  #f1f1f1;\n",
       "        }    #T_68a032ec_53f1_11e9_a032_208984591db6row0_col1 {\n",
       "            background-color:  #71a8ce;\n",
       "            color:  #000000;\n",
       "        }    #T_68a032ec_53f1_11e9_a032_208984591db6row0_col2 {\n",
       "            background-color:  #348ebf;\n",
       "            color:  #000000;\n",
       "        }    #T_68a032ec_53f1_11e9_a032_208984591db6row0_col3 {\n",
       "            background-color:  #dcdaeb;\n",
       "            color:  #000000;\n",
       "        }    #T_68a032ec_53f1_11e9_a032_208984591db6row0_col4 {\n",
       "            background-color:  #fcf4fa;\n",
       "            color:  #000000;\n",
       "        }    #T_68a032ec_53f1_11e9_a032_208984591db6row0_col5 {\n",
       "            background-color:  #71a8ce;\n",
       "            color:  #000000;\n",
       "        }    #T_68a032ec_53f1_11e9_a032_208984591db6row0_col6 {\n",
       "            background-color:  #e1dfed;\n",
       "            color:  #000000;\n",
       "        }    #T_68a032ec_53f1_11e9_a032_208984591db6row0_col7 {\n",
       "            background-color:  #2182b9;\n",
       "            color:  #000000;\n",
       "        }    #T_68a032ec_53f1_11e9_a032_208984591db6row0_col8 {\n",
       "            background-color:  #056caa;\n",
       "            color:  #f1f1f1;\n",
       "        }    #T_68a032ec_53f1_11e9_a032_208984591db6row1_col0 {\n",
       "            background-color:  #67a4cc;\n",
       "            color:  #000000;\n",
       "        }    #T_68a032ec_53f1_11e9_a032_208984591db6row1_col1 {\n",
       "            background-color:  #023858;\n",
       "            color:  #f1f1f1;\n",
       "        }    #T_68a032ec_53f1_11e9_a032_208984591db6row1_col2 {\n",
       "            background-color:  #a7bddb;\n",
       "            color:  #000000;\n",
       "        }    #T_68a032ec_53f1_11e9_a032_208984591db6row1_col3 {\n",
       "            background-color:  #f4eef6;\n",
       "            color:  #000000;\n",
       "        }    #T_68a032ec_53f1_11e9_a032_208984591db6row1_col4 {\n",
       "            background-color:  #f6eff7;\n",
       "            color:  #000000;\n",
       "        }    #T_68a032ec_53f1_11e9_a032_208984591db6row1_col5 {\n",
       "            background-color:  #e0deed;\n",
       "            color:  #000000;\n",
       "        }    #T_68a032ec_53f1_11e9_a032_208984591db6row1_col6 {\n",
       "            background-color:  #e3e0ee;\n",
       "            color:  #000000;\n",
       "        }    #T_68a032ec_53f1_11e9_a032_208984591db6row1_col7 {\n",
       "            background-color:  #79abd0;\n",
       "            color:  #000000;\n",
       "        }    #T_68a032ec_53f1_11e9_a032_208984591db6row1_col8 {\n",
       "            background-color:  #93b5d6;\n",
       "            color:  #000000;\n",
       "        }    #T_68a032ec_53f1_11e9_a032_208984591db6row2_col0 {\n",
       "            background-color:  #3790c0;\n",
       "            color:  #000000;\n",
       "        }    #T_68a032ec_53f1_11e9_a032_208984591db6row2_col1 {\n",
       "            background-color:  #b5c4df;\n",
       "            color:  #000000;\n",
       "        }    #T_68a032ec_53f1_11e9_a032_208984591db6row2_col2 {\n",
       "            background-color:  #023858;\n",
       "            color:  #f1f1f1;\n",
       "        }    #T_68a032ec_53f1_11e9_a032_208984591db6row2_col3 {\n",
       "            background-color:  #d4d4e8;\n",
       "            color:  #000000;\n",
       "        }    #T_68a032ec_53f1_11e9_a032_208984591db6row2_col4 {\n",
       "            background-color:  #fff7fb;\n",
       "            color:  #000000;\n",
       "        }    #T_68a032ec_53f1_11e9_a032_208984591db6row2_col5 {\n",
       "            background-color:  #cacee5;\n",
       "            color:  #000000;\n",
       "        }    #T_68a032ec_53f1_11e9_a032_208984591db6row2_col6 {\n",
       "            background-color:  #fff7fb;\n",
       "            color:  #000000;\n",
       "        }    #T_68a032ec_53f1_11e9_a032_208984591db6row2_col7 {\n",
       "            background-color:  #6ba5cd;\n",
       "            color:  #000000;\n",
       "        }    #T_68a032ec_53f1_11e9_a032_208984591db6row2_col8 {\n",
       "            background-color:  #60a1ca;\n",
       "            color:  #000000;\n",
       "        }    #T_68a032ec_53f1_11e9_a032_208984591db6row3_col0 {\n",
       "            background-color:  #acc0dd;\n",
       "            color:  #000000;\n",
       "        }    #T_68a032ec_53f1_11e9_a032_208984591db6row3_col1 {\n",
       "            background-color:  #d6d6e9;\n",
       "            color:  #000000;\n",
       "        }    #T_68a032ec_53f1_11e9_a032_208984591db6row3_col2 {\n",
       "            background-color:  #9ebad9;\n",
       "            color:  #000000;\n",
       "        }    #T_68a032ec_53f1_11e9_a032_208984591db6row3_col3 {\n",
       "            background-color:  #023858;\n",
       "            color:  #f1f1f1;\n",
       "        }    #T_68a032ec_53f1_11e9_a032_208984591db6row3_col4 {\n",
       "            background-color:  #d8d7e9;\n",
       "            color:  #000000;\n",
       "        }    #T_68a032ec_53f1_11e9_a032_208984591db6row3_col5 {\n",
       "            background-color:  #ece7f2;\n",
       "            color:  #000000;\n",
       "        }    #T_68a032ec_53f1_11e9_a032_208984591db6row3_col6 {\n",
       "            background-color:  #e8e4f0;\n",
       "            color:  #000000;\n",
       "        }    #T_68a032ec_53f1_11e9_a032_208984591db6row3_col7 {\n",
       "            background-color:  #bcc7e1;\n",
       "            color:  #000000;\n",
       "        }    #T_68a032ec_53f1_11e9_a032_208984591db6row3_col8 {\n",
       "            background-color:  #bcc7e1;\n",
       "            color:  #000000;\n",
       "        }    #T_68a032ec_53f1_11e9_a032_208984591db6row4_col0 {\n",
       "            background-color:  #fff7fb;\n",
       "            color:  #000000;\n",
       "        }    #T_68a032ec_53f1_11e9_a032_208984591db6row4_col1 {\n",
       "            background-color:  #fff7fb;\n",
       "            color:  #000000;\n",
       "        }    #T_68a032ec_53f1_11e9_a032_208984591db6row4_col2 {\n",
       "            background-color:  #fff7fb;\n",
       "            color:  #000000;\n",
       "        }    #T_68a032ec_53f1_11e9_a032_208984591db6row4_col3 {\n",
       "            background-color:  #fff7fb;\n",
       "            color:  #000000;\n",
       "        }    #T_68a032ec_53f1_11e9_a032_208984591db6row4_col4 {\n",
       "            background-color:  #023858;\n",
       "            color:  #f1f1f1;\n",
       "        }    #T_68a032ec_53f1_11e9_a032_208984591db6row4_col5 {\n",
       "            background-color:  #fff7fb;\n",
       "            color:  #000000;\n",
       "        }    #T_68a032ec_53f1_11e9_a032_208984591db6row4_col6 {\n",
       "            background-color:  #a5bddb;\n",
       "            color:  #000000;\n",
       "        }    #T_68a032ec_53f1_11e9_a032_208984591db6row4_col7 {\n",
       "            background-color:  #fff7fb;\n",
       "            color:  #000000;\n",
       "        }    #T_68a032ec_53f1_11e9_a032_208984591db6row4_col8 {\n",
       "            background-color:  #fff7fb;\n",
       "            color:  #000000;\n",
       "        }    #T_68a032ec_53f1_11e9_a032_208984591db6row5_col0 {\n",
       "            background-color:  #2484ba;\n",
       "            color:  #000000;\n",
       "        }    #T_68a032ec_53f1_11e9_a032_208984591db6row5_col1 {\n",
       "            background-color:  #91b5d6;\n",
       "            color:  #000000;\n",
       "        }    #T_68a032ec_53f1_11e9_a032_208984591db6row5_col2 {\n",
       "            background-color:  #69a5cc;\n",
       "            color:  #000000;\n",
       "        }    #T_68a032ec_53f1_11e9_a032_208984591db6row5_col3 {\n",
       "            background-color:  #c8cde4;\n",
       "            color:  #000000;\n",
       "        }    #T_68a032ec_53f1_11e9_a032_208984591db6row5_col4 {\n",
       "            background-color:  #afc1dd;\n",
       "            color:  #000000;\n",
       "        }    #T_68a032ec_53f1_11e9_a032_208984591db6row5_col5 {\n",
       "            background-color:  #023858;\n",
       "            color:  #f1f1f1;\n",
       "        }    #T_68a032ec_53f1_11e9_a032_208984591db6row5_col6 {\n",
       "            background-color:  #f8f1f8;\n",
       "            color:  #000000;\n",
       "        }    #T_68a032ec_53f1_11e9_a032_208984591db6row5_col7 {\n",
       "            background-color:  #4c99c5;\n",
       "            color:  #000000;\n",
       "        }    #T_68a032ec_53f1_11e9_a032_208984591db6row5_col8 {\n",
       "            background-color:  #4e9ac6;\n",
       "            color:  #000000;\n",
       "        }    #T_68a032ec_53f1_11e9_a032_208984591db6row6_col0 {\n",
       "            background-color:  #7dacd1;\n",
       "            color:  #000000;\n",
       "        }    #T_68a032ec_53f1_11e9_a032_208984591db6row6_col1 {\n",
       "            background-color:  #88b1d4;\n",
       "            color:  #000000;\n",
       "        }    #T_68a032ec_53f1_11e9_a032_208984591db6row6_col2 {\n",
       "            background-color:  #a4bcda;\n",
       "            color:  #000000;\n",
       "        }    #T_68a032ec_53f1_11e9_a032_208984591db6row6_col3 {\n",
       "            background-color:  #b8c6e0;\n",
       "            color:  #000000;\n",
       "        }    #T_68a032ec_53f1_11e9_a032_208984591db6row6_col4 {\n",
       "            background-color:  #3b92c1;\n",
       "            color:  #000000;\n",
       "        }    #T_68a032ec_53f1_11e9_a032_208984591db6row6_col5 {\n",
       "            background-color:  #f1ebf5;\n",
       "            color:  #000000;\n",
       "        }    #T_68a032ec_53f1_11e9_a032_208984591db6row6_col6 {\n",
       "            background-color:  #023858;\n",
       "            color:  #f1f1f1;\n",
       "        }    #T_68a032ec_53f1_11e9_a032_208984591db6row6_col7 {\n",
       "            background-color:  #97b7d7;\n",
       "            color:  #000000;\n",
       "        }    #T_68a032ec_53f1_11e9_a032_208984591db6row6_col8 {\n",
       "            background-color:  #88b1d4;\n",
       "            color:  #000000;\n",
       "        }    #T_68a032ec_53f1_11e9_a032_208984591db6row7_col0 {\n",
       "            background-color:  #1b7eb7;\n",
       "            color:  #000000;\n",
       "        }    #T_68a032ec_53f1_11e9_a032_208984591db6row7_col1 {\n",
       "            background-color:  #79abd0;\n",
       "            color:  #000000;\n",
       "        }    #T_68a032ec_53f1_11e9_a032_208984591db6row7_col2 {\n",
       "            background-color:  #5c9fc9;\n",
       "            color:  #000000;\n",
       "        }    #T_68a032ec_53f1_11e9_a032_208984591db6row7_col3 {\n",
       "            background-color:  #e0deed;\n",
       "            color:  #000000;\n",
       "        }    #T_68a032ec_53f1_11e9_a032_208984591db6row7_col4 {\n",
       "            background-color:  #f5eff6;\n",
       "            color:  #000000;\n",
       "        }    #T_68a032ec_53f1_11e9_a032_208984591db6row7_col5 {\n",
       "            background-color:  #9fbad9;\n",
       "            color:  #000000;\n",
       "        }    #T_68a032ec_53f1_11e9_a032_208984591db6row7_col6 {\n",
       "            background-color:  #eee9f3;\n",
       "            color:  #000000;\n",
       "        }    #T_68a032ec_53f1_11e9_a032_208984591db6row7_col7 {\n",
       "            background-color:  #023858;\n",
       "            color:  #f1f1f1;\n",
       "        }    #T_68a032ec_53f1_11e9_a032_208984591db6row7_col8 {\n",
       "            background-color:  #2f8bbe;\n",
       "            color:  #000000;\n",
       "        }    #T_68a032ec_53f1_11e9_a032_208984591db6row8_col0 {\n",
       "            background-color:  #056dab;\n",
       "            color:  #f1f1f1;\n",
       "        }    #T_68a032ec_53f1_11e9_a032_208984591db6row8_col1 {\n",
       "            background-color:  #a1bbda;\n",
       "            color:  #000000;\n",
       "        }    #T_68a032ec_53f1_11e9_a032_208984591db6row8_col2 {\n",
       "            background-color:  #60a1ca;\n",
       "            color:  #000000;\n",
       "        }    #T_68a032ec_53f1_11e9_a032_208984591db6row8_col3 {\n",
       "            background-color:  #ede8f3;\n",
       "            color:  #000000;\n",
       "        }    #T_68a032ec_53f1_11e9_a032_208984591db6row8_col4 {\n",
       "            background-color:  #fff7fb;\n",
       "            color:  #000000;\n",
       "        }    #T_68a032ec_53f1_11e9_a032_208984591db6row8_col5 {\n",
       "            background-color:  #afc1dd;\n",
       "            color:  #000000;\n",
       "        }    #T_68a032ec_53f1_11e9_a032_208984591db6row8_col6 {\n",
       "            background-color:  #eee8f3;\n",
       "            color:  #000000;\n",
       "        }    #T_68a032ec_53f1_11e9_a032_208984591db6row8_col7 {\n",
       "            background-color:  #3790c0;\n",
       "            color:  #000000;\n",
       "        }    #T_68a032ec_53f1_11e9_a032_208984591db6row8_col8 {\n",
       "            background-color:  #023858;\n",
       "            color:  #f1f1f1;\n",
       "        }</style><table id=\"T_68a032ec_53f1_11e9_a032_208984591db6\" ><thead>    <tr>        <th class=\"blank level0\" ></th>        <th class=\"col_heading level0 col0\" >overall_rating</th>        <th class=\"col_heading level0 col1\" >seat_comfort_rating</th>        <th class=\"col_heading level0 col2\" >cabin_staff_rating</th>        <th class=\"col_heading level0 col3\" >food_beverages_rating</th>        <th class=\"col_heading level0 col4\" >inflight_entertainment_rating</th>        <th class=\"col_heading level0 col5\" >ground_service_rating</th>        <th class=\"col_heading level0 col6\" >wifi_connectivity_rating</th>        <th class=\"col_heading level0 col7\" >value_money_rating</th>        <th class=\"col_heading level0 col8\" >recommended</th>    </tr></thead><tbody>\n",
       "                <tr>\n",
       "                        <th id=\"T_68a032ec_53f1_11e9_a032_208984591db6level0_row0\" class=\"row_heading level0 row0\" >overall_rating</th>\n",
       "                        <td id=\"T_68a032ec_53f1_11e9_a032_208984591db6row0_col0\" class=\"data row0 col0\" >1</td>\n",
       "                        <td id=\"T_68a032ec_53f1_11e9_a032_208984591db6row0_col1\" class=\"data row0 col1\" >0.728189</td>\n",
       "                        <td id=\"T_68a032ec_53f1_11e9_a032_208984591db6row0_col2\" class=\"data row0 col2\" >0.783109</td>\n",
       "                        <td id=\"T_68a032ec_53f1_11e9_a032_208984591db6row0_col3\" class=\"data row0 col3\" >0.631869</td>\n",
       "                        <td id=\"T_68a032ec_53f1_11e9_a032_208984591db6row0_col4\" class=\"data row0 col4\" >0.426236</td>\n",
       "                        <td id=\"T_68a032ec_53f1_11e9_a032_208984591db6row0_col5\" class=\"data row0 col5\" >0.811191</td>\n",
       "                        <td id=\"T_68a032ec_53f1_11e9_a032_208984591db6row0_col6\" class=\"data row0 col6\" >0.701533</td>\n",
       "                        <td id=\"T_68a032ec_53f1_11e9_a032_208984591db6row0_col7\" class=\"data row0 col7\" >0.823802</td>\n",
       "                        <td id=\"T_68a032ec_53f1_11e9_a032_208984591db6row0_col8\" class=\"data row0 col8\" >0.86743</td>\n",
       "            </tr>\n",
       "            <tr>\n",
       "                        <th id=\"T_68a032ec_53f1_11e9_a032_208984591db6level0_row1\" class=\"row_heading level0 row1\" >seat_comfort_rating</th>\n",
       "                        <td id=\"T_68a032ec_53f1_11e9_a032_208984591db6row1_col0\" class=\"data row1 col0\" >0.728189</td>\n",
       "                        <td id=\"T_68a032ec_53f1_11e9_a032_208984591db6row1_col1\" class=\"data row1 col1\" >1</td>\n",
       "                        <td id=\"T_68a032ec_53f1_11e9_a032_208984591db6row1_col2\" class=\"data row1 col2\" >0.632507</td>\n",
       "                        <td id=\"T_68a032ec_53f1_11e9_a032_208984591db6row1_col3\" class=\"data row1 col3\" >0.574653</td>\n",
       "                        <td id=\"T_68a032ec_53f1_11e9_a032_208984591db6row1_col4\" class=\"data row1 col4\" >0.451124</td>\n",
       "                        <td id=\"T_68a032ec_53f1_11e9_a032_208984591db6row1_col5\" class=\"data row1 col5\" >0.686958</td>\n",
       "                        <td id=\"T_68a032ec_53f1_11e9_a032_208984591db6row1_col6\" class=\"data row1 col6\" >0.6982</td>\n",
       "                        <td id=\"T_68a032ec_53f1_11e9_a032_208984591db6row1_col7\" class=\"data row1 col7\" >0.717872</td>\n",
       "                        <td id=\"T_68a032ec_53f1_11e9_a032_208984591db6row1_col8\" class=\"data row1 col8\" >0.663565</td>\n",
       "            </tr>\n",
       "            <tr>\n",
       "                        <th id=\"T_68a032ec_53f1_11e9_a032_208984591db6level0_row2\" class=\"row_heading level0 row2\" >cabin_staff_rating</th>\n",
       "                        <td id=\"T_68a032ec_53f1_11e9_a032_208984591db6row2_col0\" class=\"data row2 col0\" >0.783109</td>\n",
       "                        <td id=\"T_68a032ec_53f1_11e9_a032_208984591db6row2_col1\" class=\"data row2 col1\" >0.632507</td>\n",
       "                        <td id=\"T_68a032ec_53f1_11e9_a032_208984591db6row2_col2\" class=\"data row2 col2\" >1</td>\n",
       "                        <td id=\"T_68a032ec_53f1_11e9_a032_208984591db6row2_col3\" class=\"data row2 col3\" >0.647838</td>\n",
       "                        <td id=\"T_68a032ec_53f1_11e9_a032_208984591db6row2_col4\" class=\"data row2 col4\" >0.414727</td>\n",
       "                        <td id=\"T_68a032ec_53f1_11e9_a032_208984591db6row2_col5\" class=\"data row2 col5\" >0.720623</td>\n",
       "                        <td id=\"T_68a032ec_53f1_11e9_a032_208984591db6row2_col6\" class=\"data row2 col6\" >0.638248</td>\n",
       "                        <td id=\"T_68a032ec_53f1_11e9_a032_208984591db6row2_col7\" class=\"data row2 col7\" >0.736419</td>\n",
       "                        <td id=\"T_68a032ec_53f1_11e9_a032_208984591db6row2_col8\" class=\"data row2 col8\" >0.731703</td>\n",
       "            </tr>\n",
       "            <tr>\n",
       "                        <th id=\"T_68a032ec_53f1_11e9_a032_208984591db6level0_row3\" class=\"row_heading level0 row3\" >food_beverages_rating</th>\n",
       "                        <td id=\"T_68a032ec_53f1_11e9_a032_208984591db6row3_col0\" class=\"data row3 col0\" >0.631869</td>\n",
       "                        <td id=\"T_68a032ec_53f1_11e9_a032_208984591db6row3_col1\" class=\"data row3 col1\" >0.574653</td>\n",
       "                        <td id=\"T_68a032ec_53f1_11e9_a032_208984591db6row3_col2\" class=\"data row3 col2\" >0.647838</td>\n",
       "                        <td id=\"T_68a032ec_53f1_11e9_a032_208984591db6row3_col3\" class=\"data row3 col3\" >1</td>\n",
       "                        <td id=\"T_68a032ec_53f1_11e9_a032_208984591db6row3_col4\" class=\"data row3 col4\" >0.541272</td>\n",
       "                        <td id=\"T_68a032ec_53f1_11e9_a032_208984591db6row3_col5\" class=\"data row3 col5\" >0.667472</td>\n",
       "                        <td id=\"T_68a032ec_53f1_11e9_a032_208984591db6row3_col6\" class=\"data row3 col6\" >0.689462</td>\n",
       "                        <td id=\"T_68a032ec_53f1_11e9_a032_208984591db6row3_col7\" class=\"data row3 col7\" >0.622211</td>\n",
       "                        <td id=\"T_68a032ec_53f1_11e9_a032_208984591db6row3_col8\" class=\"data row3 col8\" >0.596815</td>\n",
       "            </tr>\n",
       "            <tr>\n",
       "                        <th id=\"T_68a032ec_53f1_11e9_a032_208984591db6level0_row4\" class=\"row_heading level0 row4\" >inflight_entertainment_rating</th>\n",
       "                        <td id=\"T_68a032ec_53f1_11e9_a032_208984591db6row4_col0\" class=\"data row4 col0\" >0.426236</td>\n",
       "                        <td id=\"T_68a032ec_53f1_11e9_a032_208984591db6row4_col1\" class=\"data row4 col1\" >0.451124</td>\n",
       "                        <td id=\"T_68a032ec_53f1_11e9_a032_208984591db6row4_col2\" class=\"data row4 col2\" >0.414727</td>\n",
       "                        <td id=\"T_68a032ec_53f1_11e9_a032_208984591db6row4_col3\" class=\"data row4 col3\" >0.541272</td>\n",
       "                        <td id=\"T_68a032ec_53f1_11e9_a032_208984591db6row4_col4\" class=\"data row4 col4\" >1</td>\n",
       "                        <td id=\"T_68a032ec_53f1_11e9_a032_208984591db6row4_col5\" class=\"data row4 col5\" >0.619019</td>\n",
       "                        <td id=\"T_68a032ec_53f1_11e9_a032_208984591db6row4_col6\" class=\"data row4 col6\" >0.774285</td>\n",
       "                        <td id=\"T_68a032ec_53f1_11e9_a032_208984591db6row4_col7\" class=\"data row4 col7\" >0.452249</td>\n",
       "                        <td id=\"T_68a032ec_53f1_11e9_a032_208984591db6row4_col8\" class=\"data row4 col8\" >0.416305</td>\n",
       "            </tr>\n",
       "            <tr>\n",
       "                        <th id=\"T_68a032ec_53f1_11e9_a032_208984591db6level0_row5\" class=\"row_heading level0 row5\" >ground_service_rating</th>\n",
       "                        <td id=\"T_68a032ec_53f1_11e9_a032_208984591db6row5_col0\" class=\"data row5 col0\" >0.811191</td>\n",
       "                        <td id=\"T_68a032ec_53f1_11e9_a032_208984591db6row5_col1\" class=\"data row5 col1\" >0.686958</td>\n",
       "                        <td id=\"T_68a032ec_53f1_11e9_a032_208984591db6row5_col2\" class=\"data row5 col2\" >0.720623</td>\n",
       "                        <td id=\"T_68a032ec_53f1_11e9_a032_208984591db6row5_col3\" class=\"data row5 col3\" >0.667472</td>\n",
       "                        <td id=\"T_68a032ec_53f1_11e9_a032_208984591db6row5_col4\" class=\"data row5 col4\" >0.619019</td>\n",
       "                        <td id=\"T_68a032ec_53f1_11e9_a032_208984591db6row5_col5\" class=\"data row5 col5\" >1</td>\n",
       "                        <td id=\"T_68a032ec_53f1_11e9_a032_208984591db6row5_col6\" class=\"data row5 col6\" >0.654608</td>\n",
       "                        <td id=\"T_68a032ec_53f1_11e9_a032_208984591db6row5_col7\" class=\"data row5 col7\" >0.769188</td>\n",
       "                        <td id=\"T_68a032ec_53f1_11e9_a032_208984591db6row5_col8\" class=\"data row5 col8\" >0.75273</td>\n",
       "            </tr>\n",
       "            <tr>\n",
       "                        <th id=\"T_68a032ec_53f1_11e9_a032_208984591db6level0_row6\" class=\"row_heading level0 row6\" >wifi_connectivity_rating</th>\n",
       "                        <td id=\"T_68a032ec_53f1_11e9_a032_208984591db6row6_col0\" class=\"data row6 col0\" >0.701533</td>\n",
       "                        <td id=\"T_68a032ec_53f1_11e9_a032_208984591db6row6_col1\" class=\"data row6 col1\" >0.6982</td>\n",
       "                        <td id=\"T_68a032ec_53f1_11e9_a032_208984591db6row6_col2\" class=\"data row6 col2\" >0.638248</td>\n",
       "                        <td id=\"T_68a032ec_53f1_11e9_a032_208984591db6row6_col3\" class=\"data row6 col3\" >0.689462</td>\n",
       "                        <td id=\"T_68a032ec_53f1_11e9_a032_208984591db6row6_col4\" class=\"data row6 col4\" >0.774285</td>\n",
       "                        <td id=\"T_68a032ec_53f1_11e9_a032_208984591db6row6_col5\" class=\"data row6 col5\" >0.654608</td>\n",
       "                        <td id=\"T_68a032ec_53f1_11e9_a032_208984591db6row6_col6\" class=\"data row6 col6\" >1</td>\n",
       "                        <td id=\"T_68a032ec_53f1_11e9_a032_208984591db6row6_col7\" class=\"data row6 col7\" >0.679016</td>\n",
       "                        <td id=\"T_68a032ec_53f1_11e9_a032_208984591db6row6_col8\" class=\"data row6 col8\" >0.68039</td>\n",
       "            </tr>\n",
       "            <tr>\n",
       "                        <th id=\"T_68a032ec_53f1_11e9_a032_208984591db6level0_row7\" class=\"row_heading level0 row7\" >value_money_rating</th>\n",
       "                        <td id=\"T_68a032ec_53f1_11e9_a032_208984591db6row7_col0\" class=\"data row7 col0\" >0.823802</td>\n",
       "                        <td id=\"T_68a032ec_53f1_11e9_a032_208984591db6row7_col1\" class=\"data row7 col1\" >0.717872</td>\n",
       "                        <td id=\"T_68a032ec_53f1_11e9_a032_208984591db6row7_col2\" class=\"data row7 col2\" >0.736419</td>\n",
       "                        <td id=\"T_68a032ec_53f1_11e9_a032_208984591db6row7_col3\" class=\"data row7 col3\" >0.622211</td>\n",
       "                        <td id=\"T_68a032ec_53f1_11e9_a032_208984591db6row7_col4\" class=\"data row7 col4\" >0.452249</td>\n",
       "                        <td id=\"T_68a032ec_53f1_11e9_a032_208984591db6row7_col5\" class=\"data row7 col5\" >0.769188</td>\n",
       "                        <td id=\"T_68a032ec_53f1_11e9_a032_208984591db6row7_col6\" class=\"data row7 col6\" >0.679016</td>\n",
       "                        <td id=\"T_68a032ec_53f1_11e9_a032_208984591db6row7_col7\" class=\"data row7 col7\" >1</td>\n",
       "                        <td id=\"T_68a032ec_53f1_11e9_a032_208984591db6row7_col8\" class=\"data row7 col8\" >0.792479</td>\n",
       "            </tr>\n",
       "            <tr>\n",
       "                        <th id=\"T_68a032ec_53f1_11e9_a032_208984591db6level0_row8\" class=\"row_heading level0 row8\" >recommended</th>\n",
       "                        <td id=\"T_68a032ec_53f1_11e9_a032_208984591db6row8_col0\" class=\"data row8 col0\" >0.86743</td>\n",
       "                        <td id=\"T_68a032ec_53f1_11e9_a032_208984591db6row8_col1\" class=\"data row8 col1\" >0.663565</td>\n",
       "                        <td id=\"T_68a032ec_53f1_11e9_a032_208984591db6row8_col2\" class=\"data row8 col2\" >0.731703</td>\n",
       "                        <td id=\"T_68a032ec_53f1_11e9_a032_208984591db6row8_col3\" class=\"data row8 col3\" >0.596815</td>\n",
       "                        <td id=\"T_68a032ec_53f1_11e9_a032_208984591db6row8_col4\" class=\"data row8 col4\" >0.416305</td>\n",
       "                        <td id=\"T_68a032ec_53f1_11e9_a032_208984591db6row8_col5\" class=\"data row8 col5\" >0.75273</td>\n",
       "                        <td id=\"T_68a032ec_53f1_11e9_a032_208984591db6row8_col6\" class=\"data row8 col6\" >0.68039</td>\n",
       "                        <td id=\"T_68a032ec_53f1_11e9_a032_208984591db6row8_col7\" class=\"data row8 col7\" >0.792479</td>\n",
       "                        <td id=\"T_68a032ec_53f1_11e9_a032_208984591db6row8_col8\" class=\"data row8 col8\" >1</td>\n",
       "            </tr>\n",
       "    </tbody></table>"
      ],
      "text/plain": [
       "<pandas.io.formats.style.Styler at 0xbe89048>"
      ]
     },
     "execution_count": 16,
     "metadata": {},
     "output_type": "execute_result"
    }
   ],
   "source": [
    "# see the correlation bewtween features\n",
    "airline.corr().style.background_gradient()\n",
    "\n",
    "# we can see that there's a strong correlation between \"overall_rating\" and \"recommended\", that means if the customer gives \n",
    "# a good overall rating there is a good chance that he will recommend the airline,\n",
    "# there's also a good correlation between \"value_money_rating\" and \"recommended\"\n",
    "\n",
    "# there's also some other correlations that will help us define the features to keep,\n",
    "# we can remove \"inflight_entertainment_rating\" and \"food_beverages_rating\"\n",
    "# because they have a weak correlation with all other features"
   ]
  },
  {
   "cell_type": "code",
   "execution_count": 17,
   "metadata": {},
   "outputs": [
    {
     "name": "stdout",
     "output_type": "stream",
     "text": [
      "<class 'pandas.core.frame.DataFrame'>\n",
      "RangeIndex: 41396 entries, 0 to 41395\n",
      "Data columns (total 6 columns):\n",
      "content                41396 non-null object\n",
      "seat_comfort_rating    33706 non-null float64\n",
      "cabin_staff_rating     33708 non-null float64\n",
      "overall_rating         36861 non-null float64\n",
      "value_money_rating     39723 non-null float64\n",
      "recommended            41396 non-null int64\n",
      "dtypes: float64(4), int64(1), object(1)\n",
      "memory usage: 1.9+ MB\n"
     ]
    }
   ],
   "source": [
    "# subset the data to just the variables we need, remove variables that have no correlation with the \"recommended\" column,\n",
    "# or columns that have few observations like \"ground_service_rating\"\n",
    "# and columns that has no effect on the rating, like 'link', 'title', 'author', 'author_country', 'date',\n",
    "# 'aircraft', 'type_traveller', 'route'\n",
    "\n",
    "airline=airline[['content','seat_comfort_rating','cabin_staff_rating','overall_rating','value_money_rating','recommended']]\n",
    "airline.info()"
   ]
  },
  {
   "cell_type": "code",
   "execution_count": 18,
   "metadata": {},
   "outputs": [
    {
     "data": {
      "text/html": [
       "<style  type=\"text/css\" >\n",
       "    #T_68b2d0d2_53f1_11e9_984b_208984591db6row0_col0 {\n",
       "            background-color:  #023858;\n",
       "            color:  #f1f1f1;\n",
       "        }    #T_68b2d0d2_53f1_11e9_984b_208984591db6row0_col1 {\n",
       "            background-color:  #fff7fb;\n",
       "            color:  #000000;\n",
       "        }    #T_68b2d0d2_53f1_11e9_984b_208984591db6row0_col2 {\n",
       "            background-color:  #fff7fb;\n",
       "            color:  #000000;\n",
       "        }    #T_68b2d0d2_53f1_11e9_984b_208984591db6row0_col3 {\n",
       "            background-color:  #fff7fb;\n",
       "            color:  #000000;\n",
       "        }    #T_68b2d0d2_53f1_11e9_984b_208984591db6row0_col4 {\n",
       "            background-color:  #fff7fb;\n",
       "            color:  #000000;\n",
       "        }    #T_68b2d0d2_53f1_11e9_984b_208984591db6row1_col0 {\n",
       "            background-color:  #fff7fb;\n",
       "            color:  #000000;\n",
       "        }    #T_68b2d0d2_53f1_11e9_984b_208984591db6row1_col1 {\n",
       "            background-color:  #023858;\n",
       "            color:  #f1f1f1;\n",
       "        }    #T_68b2d0d2_53f1_11e9_984b_208984591db6row1_col2 {\n",
       "            background-color:  #dbdaeb;\n",
       "            color:  #000000;\n",
       "        }    #T_68b2d0d2_53f1_11e9_984b_208984591db6row1_col3 {\n",
       "            background-color:  #f5eff6;\n",
       "            color:  #000000;\n",
       "        }    #T_68b2d0d2_53f1_11e9_984b_208984591db6row1_col4 {\n",
       "            background-color:  #dbdaeb;\n",
       "            color:  #000000;\n",
       "        }    #T_68b2d0d2_53f1_11e9_984b_208984591db6row2_col0 {\n",
       "            background-color:  #cdd0e5;\n",
       "            color:  #000000;\n",
       "        }    #T_68b2d0d2_53f1_11e9_984b_208984591db6row2_col1 {\n",
       "            background-color:  #99b8d8;\n",
       "            color:  #000000;\n",
       "        }    #T_68b2d0d2_53f1_11e9_984b_208984591db6row2_col2 {\n",
       "            background-color:  #023858;\n",
       "            color:  #f1f1f1;\n",
       "        }    #T_68b2d0d2_53f1_11e9_984b_208984591db6row2_col3 {\n",
       "            background-color:  #a5bddb;\n",
       "            color:  #000000;\n",
       "        }    #T_68b2d0d2_53f1_11e9_984b_208984591db6row2_col4 {\n",
       "            background-color:  #3f93c2;\n",
       "            color:  #000000;\n",
       "        }    #T_68b2d0d2_53f1_11e9_984b_208984591db6row3_col0 {\n",
       "            background-color:  #d4d4e8;\n",
       "            color:  #000000;\n",
       "        }    #T_68b2d0d2_53f1_11e9_984b_208984591db6row3_col1 {\n",
       "            background-color:  #c5cce3;\n",
       "            color:  #000000;\n",
       "        }    #T_68b2d0d2_53f1_11e9_984b_208984591db6row3_col2 {\n",
       "            background-color:  #adc1dd;\n",
       "            color:  #000000;\n",
       "        }    #T_68b2d0d2_53f1_11e9_984b_208984591db6row3_col3 {\n",
       "            background-color:  #023858;\n",
       "            color:  #f1f1f1;\n",
       "        }    #T_68b2d0d2_53f1_11e9_984b_208984591db6row3_col4 {\n",
       "            background-color:  #a2bcda;\n",
       "            color:  #000000;\n",
       "        }    #T_68b2d0d2_53f1_11e9_984b_208984591db6row4_col0 {\n",
       "            background-color:  #f2ecf5;\n",
       "            color:  #000000;\n",
       "        }    #T_68b2d0d2_53f1_11e9_984b_208984591db6row4_col1 {\n",
       "            background-color:  #c9cee4;\n",
       "            color:  #000000;\n",
       "        }    #T_68b2d0d2_53f1_11e9_984b_208984591db6row4_col2 {\n",
       "            background-color:  #6da6cd;\n",
       "            color:  #000000;\n",
       "        }    #T_68b2d0d2_53f1_11e9_984b_208984591db6row4_col3 {\n",
       "            background-color:  #cccfe5;\n",
       "            color:  #000000;\n",
       "        }    #T_68b2d0d2_53f1_11e9_984b_208984591db6row4_col4 {\n",
       "            background-color:  #023858;\n",
       "            color:  #f1f1f1;\n",
       "        }</style><table id=\"T_68b2d0d2_53f1_11e9_984b_208984591db6\" ><thead>    <tr>        <th class=\"blank level0\" ></th>        <th class=\"col_heading level0 col0\" >seat_comfort_rating</th>        <th class=\"col_heading level0 col1\" >cabin_staff_rating</th>        <th class=\"col_heading level0 col2\" >overall_rating</th>        <th class=\"col_heading level0 col3\" >value_money_rating</th>        <th class=\"col_heading level0 col4\" >recommended</th>    </tr></thead><tbody>\n",
       "                <tr>\n",
       "                        <th id=\"T_68b2d0d2_53f1_11e9_984b_208984591db6level0_row0\" class=\"row_heading level0 row0\" >seat_comfort_rating</th>\n",
       "                        <td id=\"T_68b2d0d2_53f1_11e9_984b_208984591db6row0_col0\" class=\"data row0 col0\" >1</td>\n",
       "                        <td id=\"T_68b2d0d2_53f1_11e9_984b_208984591db6row0_col1\" class=\"data row0 col1\" >0.632507</td>\n",
       "                        <td id=\"T_68b2d0d2_53f1_11e9_984b_208984591db6row0_col2\" class=\"data row0 col2\" >0.728189</td>\n",
       "                        <td id=\"T_68b2d0d2_53f1_11e9_984b_208984591db6row0_col3\" class=\"data row0 col3\" >0.717872</td>\n",
       "                        <td id=\"T_68b2d0d2_53f1_11e9_984b_208984591db6row0_col4\" class=\"data row0 col4\" >0.663565</td>\n",
       "            </tr>\n",
       "            <tr>\n",
       "                        <th id=\"T_68b2d0d2_53f1_11e9_984b_208984591db6level0_row1\" class=\"row_heading level0 row1\" >cabin_staff_rating</th>\n",
       "                        <td id=\"T_68b2d0d2_53f1_11e9_984b_208984591db6row1_col0\" class=\"data row1 col0\" >0.632507</td>\n",
       "                        <td id=\"T_68b2d0d2_53f1_11e9_984b_208984591db6row1_col1\" class=\"data row1 col1\" >1</td>\n",
       "                        <td id=\"T_68b2d0d2_53f1_11e9_984b_208984591db6row1_col2\" class=\"data row1 col2\" >0.783109</td>\n",
       "                        <td id=\"T_68b2d0d2_53f1_11e9_984b_208984591db6row1_col3\" class=\"data row1 col3\" >0.736419</td>\n",
       "                        <td id=\"T_68b2d0d2_53f1_11e9_984b_208984591db6row1_col4\" class=\"data row1 col4\" >0.731703</td>\n",
       "            </tr>\n",
       "            <tr>\n",
       "                        <th id=\"T_68b2d0d2_53f1_11e9_984b_208984591db6level0_row2\" class=\"row_heading level0 row2\" >overall_rating</th>\n",
       "                        <td id=\"T_68b2d0d2_53f1_11e9_984b_208984591db6row2_col0\" class=\"data row2 col0\" >0.728189</td>\n",
       "                        <td id=\"T_68b2d0d2_53f1_11e9_984b_208984591db6row2_col1\" class=\"data row2 col1\" >0.783109</td>\n",
       "                        <td id=\"T_68b2d0d2_53f1_11e9_984b_208984591db6row2_col2\" class=\"data row2 col2\" >1</td>\n",
       "                        <td id=\"T_68b2d0d2_53f1_11e9_984b_208984591db6row2_col3\" class=\"data row2 col3\" >0.823802</td>\n",
       "                        <td id=\"T_68b2d0d2_53f1_11e9_984b_208984591db6row2_col4\" class=\"data row2 col4\" >0.86743</td>\n",
       "            </tr>\n",
       "            <tr>\n",
       "                        <th id=\"T_68b2d0d2_53f1_11e9_984b_208984591db6level0_row3\" class=\"row_heading level0 row3\" >value_money_rating</th>\n",
       "                        <td id=\"T_68b2d0d2_53f1_11e9_984b_208984591db6row3_col0\" class=\"data row3 col0\" >0.717872</td>\n",
       "                        <td id=\"T_68b2d0d2_53f1_11e9_984b_208984591db6row3_col1\" class=\"data row3 col1\" >0.736419</td>\n",
       "                        <td id=\"T_68b2d0d2_53f1_11e9_984b_208984591db6row3_col2\" class=\"data row3 col2\" >0.823802</td>\n",
       "                        <td id=\"T_68b2d0d2_53f1_11e9_984b_208984591db6row3_col3\" class=\"data row3 col3\" >1</td>\n",
       "                        <td id=\"T_68b2d0d2_53f1_11e9_984b_208984591db6row3_col4\" class=\"data row3 col4\" >0.792479</td>\n",
       "            </tr>\n",
       "            <tr>\n",
       "                        <th id=\"T_68b2d0d2_53f1_11e9_984b_208984591db6level0_row4\" class=\"row_heading level0 row4\" >recommended</th>\n",
       "                        <td id=\"T_68b2d0d2_53f1_11e9_984b_208984591db6row4_col0\" class=\"data row4 col0\" >0.663565</td>\n",
       "                        <td id=\"T_68b2d0d2_53f1_11e9_984b_208984591db6row4_col1\" class=\"data row4 col1\" >0.731703</td>\n",
       "                        <td id=\"T_68b2d0d2_53f1_11e9_984b_208984591db6row4_col2\" class=\"data row4 col2\" >0.86743</td>\n",
       "                        <td id=\"T_68b2d0d2_53f1_11e9_984b_208984591db6row4_col3\" class=\"data row4 col3\" >0.792479</td>\n",
       "                        <td id=\"T_68b2d0d2_53f1_11e9_984b_208984591db6row4_col4\" class=\"data row4 col4\" >1</td>\n",
       "            </tr>\n",
       "    </tbody></table>"
      ],
      "text/plain": [
       "<pandas.io.formats.style.Styler at 0xbcf3a90>"
      ]
     },
     "execution_count": 18,
     "metadata": {},
     "output_type": "execute_result"
    }
   ],
   "source": [
    "# see the correlation bewtween the new features\n",
    "airline.corr().style.background_gradient()"
   ]
  },
  {
   "cell_type": "code",
   "execution_count": 19,
   "metadata": {},
   "outputs": [
    {
     "data": {
      "text/plain": [
       "<matplotlib.axes._subplots.AxesSubplot at 0xc5402b0>"
      ]
     },
     "execution_count": 19,
     "metadata": {},
     "output_type": "execute_result"
    },
    {
     "data": {
      "image/png": "[encoded data removed]",
      "text/plain": [
       "<matplotlib.figure.Figure at 0xbf20908>"
      ]
     },
     "metadata": {},
     "output_type": "display_data"
    }
   ],
   "source": [
    "# correlation map using seaborn\n",
    "corr = airline.corr()\n",
    "sns.heatmap(corr, xticklabels=corr.columns, yticklabels=corr.columns, cmap=sns.diverging_palette(200, 10, as_cmap=True))"
   ]
  },
  {
   "cell_type": "code",
   "execution_count": 20,
   "metadata": {
    "collapsed": true
   },
   "outputs": [],
   "source": [
    "# we have missing data for several of these variables so we will need to drop them\n",
    "airline = airline.dropna()"
   ]
  },
  {
   "cell_type": "code",
   "execution_count": 21,
   "metadata": {},
   "outputs": [
    {
     "name": "stdout",
     "output_type": "stream",
     "text": [
      "<class 'pandas.core.frame.DataFrame'>\n",
      "Int64Index: 30671 entries, 0 to 41217\n",
      "Data columns (total 6 columns):\n",
      "content                30671 non-null object\n",
      "seat_comfort_rating    30671 non-null float64\n",
      "cabin_staff_rating     30671 non-null float64\n",
      "overall_rating         30671 non-null float64\n",
      "value_money_rating     30671 non-null float64\n",
      "recommended            30671 non-null int64\n",
      "dtypes: float64(4), int64(1), object(1)\n",
      "memory usage: 1.6+ MB\n"
     ]
    }
   ],
   "source": [
    "# the new data after removing the missing data\n",
    "airline.info()"
   ]
  },
  {
   "cell_type": "code",
   "execution_count": 22,
   "metadata": {},
   "outputs": [
    {
     "data": {
      "text/plain": [
       "recommended                2\n",
       "seat_comfort_rating        6\n",
       "cabin_staff_rating         6\n",
       "value_money_rating         6\n",
       "overall_rating            10\n",
       "content                30650\n",
       "dtype: int64"
      ]
     },
     "execution_count": 22,
     "metadata": {},
     "output_type": "execute_result"
    }
   ],
   "source": [
    "#information about our dataset , see the number of unique values of each feature\n",
    "airline.nunique().sort_values()"
   ]
  },
  {
   "cell_type": "code",
   "execution_count": 23,
   "metadata": {
    "scrolled": true
   },
   "outputs": [
    {
     "data": {
      "text/html": [
       "<div>\n",
       "<style scoped>\n",
       "    .dataframe tbody tr th:only-of-type {\n",
       "        vertical-align: middle;\n",
       "    }\n",
       "\n",
       "    .dataframe tbody tr th {\n",
       "        vertical-align: top;\n",
       "    }\n",
       "\n",
       "    .dataframe thead th {\n",
       "        text-align: right;\n",
       "    }\n",
       "</style>\n",
       "<table border=\"1\" class=\"dataframe\">\n",
       "  <thead>\n",
       "    <tr style=\"text-align: right;\">\n",
       "      <th></th>\n",
       "      <th>content</th>\n",
       "      <th>seat_comfort_rating</th>\n",
       "      <th>cabin_staff_rating</th>\n",
       "      <th>overall_rating</th>\n",
       "      <th>value_money_rating</th>\n",
       "      <th>recommended</th>\n",
       "    </tr>\n",
       "  </thead>\n",
       "  <tbody>\n",
       "    <tr>\n",
       "      <th>0</th>\n",
       "      <td>Outbound flight FRA/PRN A319. 2 hours 10 min f...</td>\n",
       "      <td>4.0</td>\n",
       "      <td>4.0</td>\n",
       "      <td>7.0</td>\n",
       "      <td>4.0</td>\n",
       "      <td>1</td>\n",
       "    </tr>\n",
       "    <tr>\n",
       "      <th>1</th>\n",
       "      <td>Two short hops ZRH-LJU and LJU-VIE. Very fast ...</td>\n",
       "      <td>4.0</td>\n",
       "      <td>5.0</td>\n",
       "      <td>10.0</td>\n",
       "      <td>5.0</td>\n",
       "      <td>1</td>\n",
       "    </tr>\n",
       "    <tr>\n",
       "      <th>2</th>\n",
       "      <td>Flew Zurich-Ljubljana on JP365 newish CRJ900. ...</td>\n",
       "      <td>5.0</td>\n",
       "      <td>5.0</td>\n",
       "      <td>9.0</td>\n",
       "      <td>5.0</td>\n",
       "      <td>1</td>\n",
       "    </tr>\n",
       "    <tr>\n",
       "      <th>3</th>\n",
       "      <td>Adria serves this 100 min flight from Ljubljan...</td>\n",
       "      <td>4.0</td>\n",
       "      <td>4.0</td>\n",
       "      <td>8.0</td>\n",
       "      <td>4.0</td>\n",
       "      <td>1</td>\n",
       "    </tr>\n",
       "    <tr>\n",
       "      <th>4</th>\n",
       "      <td>WAW-SKJ Economy. No free snacks or drinks on t...</td>\n",
       "      <td>4.0</td>\n",
       "      <td>2.0</td>\n",
       "      <td>4.0</td>\n",
       "      <td>2.0</td>\n",
       "      <td>0</td>\n",
       "    </tr>\n",
       "  </tbody>\n",
       "</table>\n",
       "</div>"
      ],
      "text/plain": [
       "                                             content  seat_comfort_rating  \\\n",
       "0  Outbound flight FRA/PRN A319. 2 hours 10 min f...                  4.0   \n",
       "1  Two short hops ZRH-LJU and LJU-VIE. Very fast ...                  4.0   \n",
       "2  Flew Zurich-Ljubljana on JP365 newish CRJ900. ...                  5.0   \n",
       "3  Adria serves this 100 min flight from Ljubljan...                  4.0   \n",
       "4  WAW-SKJ Economy. No free snacks or drinks on t...                  4.0   \n",
       "\n",
       "   cabin_staff_rating  overall_rating  value_money_rating  recommended  \n",
       "0                 4.0             7.0                 4.0            1  \n",
       "1                 5.0            10.0                 5.0            1  \n",
       "2                 5.0             9.0                 5.0            1  \n",
       "3                 4.0             8.0                 4.0            1  \n",
       "4                 2.0             4.0                 2.0            0  "
      ]
     },
     "execution_count": 23,
     "metadata": {},
     "output_type": "execute_result"
    }
   ],
   "source": [
    "#check out the new dataset after cleaning \n",
    "airline.head()"
   ]
  },
  {
   "cell_type": "code",
   "execution_count": 24,
   "metadata": {
    "collapsed": true
   },
   "outputs": [],
   "source": [
    "# function to get the sentiment of each text\n",
    "def sentiment(text):\n",
    "    blob = TextBlob(text)\n",
    "    polarity = blob.sentiment.polarity\n",
    "    return 1 if polarity > 0.1 else 0"
   ]
  },
  {
   "cell_type": "code",
   "execution_count": 25,
   "metadata": {
    "collapsed": true
   },
   "outputs": [],
   "source": [
    "#adding a new column to the dataset, it contains the sentiment of each review\n",
    "airline['sentiment'] = airline.content.apply(sentiment)"
   ]
  },
  {
   "cell_type": "code",
   "execution_count": 26,
   "metadata": {},
   "outputs": [
    {
     "data": {
      "text/plain": [
       "1    18285\n",
       "0    12386\n",
       "Name: sentiment, dtype: int64"
      ]
     },
     "execution_count": 26,
     "metadata": {},
     "output_type": "execute_result"
    }
   ],
   "source": [
    "# number of positive and negative sentiment in the dataset\n",
    "airline.sentiment.value_counts()"
   ]
  },
  {
   "cell_type": "code",
   "execution_count": 27,
   "metadata": {},
   "outputs": [
    {
     "data": {
      "text/html": [
       "<div>\n",
       "<style scoped>\n",
       "    .dataframe tbody tr th:only-of-type {\n",
       "        vertical-align: middle;\n",
       "    }\n",
       "\n",
       "    .dataframe tbody tr th {\n",
       "        vertical-align: top;\n",
       "    }\n",
       "\n",
       "    .dataframe thead th {\n",
       "        text-align: right;\n",
       "    }\n",
       "</style>\n",
       "<table border=\"1\" class=\"dataframe\">\n",
       "  <thead>\n",
       "    <tr style=\"text-align: right;\">\n",
       "      <th></th>\n",
       "      <th>content</th>\n",
       "      <th>seat_comfort_rating</th>\n",
       "      <th>cabin_staff_rating</th>\n",
       "      <th>overall_rating</th>\n",
       "      <th>value_money_rating</th>\n",
       "      <th>recommended</th>\n",
       "      <th>sentiment</th>\n",
       "    </tr>\n",
       "  </thead>\n",
       "  <tbody>\n",
       "    <tr>\n",
       "      <th>0</th>\n",
       "      <td>Outbound flight FRA/PRN A319. 2 hours 10 min f...</td>\n",
       "      <td>4.0</td>\n",
       "      <td>4.0</td>\n",
       "      <td>7.0</td>\n",
       "      <td>4.0</td>\n",
       "      <td>1</td>\n",
       "      <td>1</td>\n",
       "    </tr>\n",
       "    <tr>\n",
       "      <th>1</th>\n",
       "      <td>Two short hops ZRH-LJU and LJU-VIE. Very fast ...</td>\n",
       "      <td>4.0</td>\n",
       "      <td>5.0</td>\n",
       "      <td>10.0</td>\n",
       "      <td>5.0</td>\n",
       "      <td>1</td>\n",
       "      <td>1</td>\n",
       "    </tr>\n",
       "    <tr>\n",
       "      <th>2</th>\n",
       "      <td>Flew Zurich-Ljubljana on JP365 newish CRJ900. ...</td>\n",
       "      <td>5.0</td>\n",
       "      <td>5.0</td>\n",
       "      <td>9.0</td>\n",
       "      <td>5.0</td>\n",
       "      <td>1</td>\n",
       "      <td>1</td>\n",
       "    </tr>\n",
       "    <tr>\n",
       "      <th>3</th>\n",
       "      <td>Adria serves this 100 min flight from Ljubljan...</td>\n",
       "      <td>4.0</td>\n",
       "      <td>4.0</td>\n",
       "      <td>8.0</td>\n",
       "      <td>4.0</td>\n",
       "      <td>1</td>\n",
       "      <td>1</td>\n",
       "    </tr>\n",
       "    <tr>\n",
       "      <th>4</th>\n",
       "      <td>WAW-SKJ Economy. No free snacks or drinks on t...</td>\n",
       "      <td>4.0</td>\n",
       "      <td>2.0</td>\n",
       "      <td>4.0</td>\n",
       "      <td>2.0</td>\n",
       "      <td>0</td>\n",
       "      <td>1</td>\n",
       "    </tr>\n",
       "  </tbody>\n",
       "</table>\n",
       "</div>"
      ],
      "text/plain": [
       "                                             content  seat_comfort_rating  \\\n",
       "0  Outbound flight FRA/PRN A319. 2 hours 10 min f...                  4.0   \n",
       "1  Two short hops ZRH-LJU and LJU-VIE. Very fast ...                  4.0   \n",
       "2  Flew Zurich-Ljubljana on JP365 newish CRJ900. ...                  5.0   \n",
       "3  Adria serves this 100 min flight from Ljubljan...                  4.0   \n",
       "4  WAW-SKJ Economy. No free snacks or drinks on t...                  4.0   \n",
       "\n",
       "   cabin_staff_rating  overall_rating  value_money_rating  recommended  \\\n",
       "0                 4.0             7.0                 4.0            1   \n",
       "1                 5.0            10.0                 5.0            1   \n",
       "2                 5.0             9.0                 5.0            1   \n",
       "3                 4.0             8.0                 4.0            1   \n",
       "4                 2.0             4.0                 2.0            0   \n",
       "\n",
       "   sentiment  \n",
       "0          1  \n",
       "1          1  \n",
       "2          1  \n",
       "3          1  \n",
       "4          1  "
      ]
     },
     "execution_count": 27,
     "metadata": {},
     "output_type": "execute_result"
    }
   ],
   "source": [
    "# taking a look at the dataset after adding the sentiment column\n",
    "airline.head()"
   ]
  },
  {
   "cell_type": "code",
   "execution_count": 28,
   "metadata": {},
   "outputs": [
    {
     "data": {
      "text/plain": [
       "0.62096300211983901"
      ]
     },
     "execution_count": 28,
     "metadata": {},
     "output_type": "execute_result"
    }
   ],
   "source": [
    "# check the correlation between \"sentiment\" and \"recommended\",\n",
    "# not a very strong correlation but later we'll see when use it in the classification\n",
    "\n",
    "airline.sentiment.corr(airline.recommended)"
   ]
  },
  {
   "cell_type": "code",
   "execution_count": 29,
   "metadata": {},
   "outputs": [
    {
     "data": {
      "text/plain": [
       "<matplotlib.text.Text at 0xccd9898>"
      ]
     },
     "execution_count": 29,
     "metadata": {},
     "output_type": "execute_result"
    },
    {
     "data": {
      "image/png": "[encoded data removed]",
      "text/plain": [
       "<matplotlib.figure.Figure at 0xcd26588>"
      ]
     },
     "metadata": {},
     "output_type": "display_data"
    }
   ],
   "source": [
    "#plotting the count of recommended and sentiment to have an idea about them\n",
    "counts_recommended = airline.recommended.value_counts()\n",
    "counts_sentiment = airline.sentiment.value_counts()\n",
    "fig, (ax1, ax2)= plt.subplots(1,2)\n",
    "fig.set_size_inches(15,5)\n",
    "counts_recommended.plot.bar(ax = ax1)\n",
    "ax1.set_title(\"recommended count\")\n",
    "ax1.set_xlabel(\"recommended\")\n",
    "ax1.set_ylabel(\"counts\")\n",
    "counts_sentiment.plot.bar(ax = ax2)\n",
    "ax2.set_title(\"Sentiment count\")\n",
    "ax2.set_xlabel(\"sentiment\")\n",
    "ax2.set_ylabel(\"counts\")"
   ]
  },
  {
   "cell_type": "code",
   "execution_count": 30,
   "metadata": {},
   "outputs": [
    {
     "data": {
      "image/png": "[encoded data removed]",
      "text/plain": [
       "<matplotlib.figure.Figure at 0xcd1e8d0>"
      ]
     },
     "metadata": {},
     "output_type": "display_data"
    }
   ],
   "source": [
    "#rating by recommend or not. This is obviously expected, the overall rating is correlated with the recommendation\n",
    "sns.set(style=\"darkgrid\")\n",
    "g = sns.FacetGrid(airline, col=\"recommended\", margin_titles=True)\n",
    "bins = np.linspace(0, 10, 10)\n",
    "g.map(plt.hist, \"overall_rating\", color=\"steelblue\", bins=bins)\n",
    "axes = g.axes.flatten()\n",
    "axes[0].set_title(\"Not Recommended\")\n",
    "axes[1].set_title(\"Recommended\")\n",
    "axes[0].set_ylabel(\"Count\")\n",
    "for ax in axes:\n",
    "    ax.set_xlabel(\"Overall Rating\")"
   ]
  },
  {
   "cell_type": "code",
   "execution_count": 31,
   "metadata": {},
   "outputs": [
    {
     "data": {
      "image/png": "[encoded data removed]",
      "text/plain": [
       "<matplotlib.figure.Figure at 0xcacd7b8>"
      ]
     },
     "metadata": {},
     "output_type": "display_data"
    }
   ],
   "source": [
    "# rating by value money rated. This is also expected, if the user thinks he had the value of his money he will generally \n",
    "# recommend the airline\n",
    "g = sns.FacetGrid(airline, col=\"recommended\", margin_titles=True)\n",
    "bins = np.linspace(0, 5, 5)\n",
    "g.map(plt.hist, \"value_money_rating\", color=\"steelblue\", bins=bins)\n",
    "axes = g.axes.flatten()\n",
    "axes[0].set_title(\"Not Recommended\")\n",
    "axes[1].set_title(\"Recommended\")\n",
    "axes[0].set_ylabel(\"Count\")\n",
    "for ax in axes:\n",
    "    ax.set_xlabel(\"Value Money Rating\")"
   ]
  },
  {
   "cell_type": "markdown",
   "metadata": {},
   "source": [
    "# Training the Classifiers\n",
    "\n",
    "##### Train/Test Split\n",
    "\n",
    "This test size is 20% of the dataset and the training set is the rest 80% "
   ]
  },
  {
   "cell_type": "code",
   "execution_count": 32,
   "metadata": {},
   "outputs": [
    {
     "name": "stdout",
     "output_type": "stream",
     "text": [
      "training set: 24536\n",
      "test set: 6135\n"
     ]
    }
   ],
   "source": [
    "#Split data into train/test\n",
    "\n",
    "from sklearn.model_selection import train_test_split\n",
    "\n",
    "x_train, x_test, y_train, y_test = train_test_split(airline, airline['recommended'], test_size=0.2)\n",
    "\n",
    "print('training set: '  + str(len(x_train)))\n",
    "print('test set: '+ str(len(x_test)))\n"
   ]
  },
  {
   "cell_type": "markdown",
   "metadata": {},
   "source": [
    "###### Importing necessary packages"
   ]
  },
  {
   "cell_type": "code",
   "execution_count": 35,
   "metadata": {},
   "outputs": [],
   "source": [
    "from sklearn.model_selection import train_test_split\n",
    "from sklearn.linear_model import LogisticRegression\n",
    "from sklearn.neighbors import KNeighborsClassifier\n",
    "from sklearn.svm import LinearSVC\n",
    "from sklearn.tree import DecisionTreeClassifier\n",
    "from sklearn.ensemble import RandomForestClassifier, AdaBoostClassifier,BaggingClassifier\n",
    "from sklearn.naive_bayes import GaussianNB,MultinomialNB\n",
    "from sklearn.metrics import accuracy_score,f1_score\n",
    "from sklearn.metrics import confusion_matrix\n",
    "from sklearn import metrics\n",
    "from sklearn.neural_network import MLPClassifier\n",
    "from sklearn.metrics import classification_report"
   ]
  },
  {
   "cell_type": "markdown",
   "metadata": {},
   "source": [
    "### we will try these classifiers to see how they perform on all the features"
   ]
  },
  {
   "cell_type": "code",
   "execution_count": 36,
   "metadata": {},
   "outputs": [
    {
     "name": "stdout",
     "output_type": "stream",
     "text": [
      "Bagging ------> Accuracy: 0.941483292584\n",
      "Random Forest ------> Accuracy: 0.943439282804\n",
      "Decision Tree ------> Accuracy: 0.940831295844\n",
      "Logistic Regression ------> Accuracy: 0.945884270579\n",
      "SVM ------> Accuracy: 0.945721271394\n",
      "Adaboost ------> Accuracy: 0.948818255909\n",
      "Neural Network ------> Accuracy: 0.948818255909\n",
      "KNN ------> Accuracy: 0.941320293399\n"
     ]
    }
   ],
   "source": [
    "used_features = ['seat_comfort_rating','cabin_staff_rating','overall_rating','value_money_rating','sentiment']\n",
    "\n",
    "Classifiers = [\n",
    "    BaggingClassifier(),\n",
    "    RandomForestClassifier(),\n",
    "    DecisionTreeClassifier(),\n",
    "    LogisticRegression(),\n",
    "    LinearSVC(),\n",
    "    AdaBoostClassifier(),\n",
    "    MLPClassifier(),\n",
    "    KNeighborsClassifier()]\n",
    "\n",
    "names = [\n",
    "    'Bagging',\n",
    "    'Random Forest',\n",
    "    'Decision Tree',\n",
    "    'Logistic Regression',\n",
    "    'SVM',\n",
    "    'Adaboost',\n",
    "    'Neural Network',\n",
    "    'KNN']\n",
    "\n",
    "for classifier, name in zip(Classifiers,names):\n",
    "    model = classifier.fit(x_train[used_features],y_train)\n",
    "    pred = model.predict(x_test[used_features])\n",
    "    accuracy = accuracy_score(pred,y_test)\n",
    "    f1 = f1_score(pred,y_test)\n",
    "    print( name +' ------> Accuracy: ' +str(accuracy)) "
   ]
  },
  {
   "cell_type": "markdown",
   "metadata": {},
   "source": [
    "### as the results are pretty close, we're going to keep just 4 classifiers to carry the rest of our work"
   ]
  },
  {
   "cell_type": "markdown",
   "metadata": {},
   "source": [
    "##### the 4 classifiers we're going to use: Logistic regression ,SVM, Adaboost, Neural Network"
   ]
  },
  {
   "cell_type": "code",
   "execution_count": 37,
   "metadata": {
    "collapsed": true
   },
   "outputs": [],
   "source": [
    "Classifiers = [\n",
    "    LogisticRegression(),\n",
    "    LinearSVC(),\n",
    "    AdaBoostClassifier(),\n",
    "    MLPClassifier()] "
   ]
  },
  {
   "cell_type": "markdown",
   "metadata": {},
   "source": [
    "###### function to train the four classifiers and print the accuracy of each one of them"
   ]
  },
  {
   "cell_type": "code",
   "execution_count": 38,
   "metadata": {
    "collapsed": true
   },
   "outputs": [],
   "source": [
    "def train(used_features):\n",
    "    Accuracy=[]\n",
    "    Model=['Logistic Regression', 'SVM', 'AdaBoost', 'Neural Network']\n",
    "    for classifier,name in zip(Classifiers,Model):\n",
    "        model = classifier.fit(x_train[used_features],y_train)\n",
    "        pred = model.predict(x_test[used_features])\n",
    "        accuracy = accuracy_score(pred,y_test)\n",
    "        f1 = f1_score(pred,y_test)\n",
    "        Accuracy.append(accuracy)\n",
    "        print('Accuracy of '+ name +' is '+str(accuracy * 100)) \n",
    "        print('Confusion Matrix\\n')\n",
    "        print(pd.DataFrame(confusion_matrix(pred, y_test, labels=[1, 0]), index=['true:1', 'true:0'], columns=['pred:1', 'pred:0']))\n",
    "        print('\\n')\n",
    "        print(classification_report(pred, y_test))\n",
    "        print('----------------------------------------------------------')\n",
    "    for i in range(len(Accuracy)):\n",
    "        Accuracy[i] *= 100\n",
    "    return Accuracy,Model"
   ]
  },
  {
   "cell_type": "markdown",
   "metadata": {},
   "source": [
    "###### function to plot the results\n"
   ]
  },
  {
   "cell_type": "code",
   "execution_count": 39,
   "metadata": {
    "collapsed": true
   },
   "outputs": [],
   "source": [
    "def plot(Accuracy,Model):\n",
    "    Index = [1,2,3,4]\n",
    "    plt.rcParams[\"figure.figsize\"] = [10,5]\n",
    "    plt.bar(Index,Accuracy,width= 0.3,linewidth=1,color=['red','blue','orange','purple'])\n",
    "    plt.xticks(Index, Model,rotation=50)\n",
    "    plt.ylabel('Accuracy', fontsize=15)\n",
    "    plt.yticks(np.arange(0,101,10))\n",
    "    plt.xlabel('Model', fontsize=15)\n",
    "    plt.title('Accuracies of Models', fontsize=15)\n",
    "    plt.tick_params(axis='both', which='major', labelsize=15)"
   ]
  },
  {
   "cell_type": "markdown",
   "metadata": {},
   "source": [
    "## First combination:  Using all features"
   ]
  },
  {
   "cell_type": "code",
   "execution_count": 40,
   "metadata": {},
   "outputs": [
    {
     "name": "stdout",
     "output_type": "stream",
     "text": [
      "Accuracy of Logistic Regression is 94.5884270579\n",
      "Confusion Matrix\n",
      "\n",
      "        pred:1  pred:0\n",
      "true:1    3456     182\n",
      "true:0     150    2347\n",
      "\n",
      "\n",
      "              precision    recall  f1-score   support\n",
      "\n",
      "           0       0.93      0.94      0.93      2497\n",
      "           1       0.96      0.95      0.95      3638\n",
      "\n",
      "   micro avg       0.95      0.95      0.95      6135\n",
      "   macro avg       0.94      0.94      0.94      6135\n",
      "weighted avg       0.95      0.95      0.95      6135\n",
      "\n",
      "----------------------------------------------------------\n",
      "Accuracy of SVM is 94.5721271394\n",
      "Confusion Matrix\n",
      "\n",
      "        pred:1  pred:0\n",
      "true:1    3453     180\n",
      "true:0     153    2349\n",
      "\n",
      "\n",
      "              precision    recall  f1-score   support\n",
      "\n",
      "           0       0.93      0.94      0.93      2502\n",
      "           1       0.96      0.95      0.95      3633\n",
      "\n",
      "   micro avg       0.95      0.95      0.95      6135\n",
      "   macro avg       0.94      0.94      0.94      6135\n",
      "weighted avg       0.95      0.95      0.95      6135\n",
      "\n",
      "----------------------------------------------------------\n",
      "Accuracy of AdaBoost is 94.8818255909\n",
      "Confusion Matrix\n",
      "\n",
      "        pred:1  pred:0\n",
      "true:1    3452     160\n",
      "true:0     154    2369\n",
      "\n",
      "\n",
      "              precision    recall  f1-score   support\n",
      "\n",
      "           0       0.94      0.94      0.94      2523\n",
      "           1       0.96      0.96      0.96      3612\n",
      "\n",
      "   micro avg       0.95      0.95      0.95      6135\n",
      "   macro avg       0.95      0.95      0.95      6135\n",
      "weighted avg       0.95      0.95      0.95      6135\n",
      "\n",
      "----------------------------------------------------------\n",
      "Accuracy of Neural Network is 94.7840260799\n",
      "Confusion Matrix\n",
      "\n",
      "        pred:1  pred:0\n",
      "true:1    3442     156\n",
      "true:0     164    2373\n",
      "\n",
      "\n",
      "              precision    recall  f1-score   support\n",
      "\n",
      "           0       0.94      0.94      0.94      2537\n",
      "           1       0.95      0.96      0.96      3598\n",
      "\n",
      "   micro avg       0.95      0.95      0.95      6135\n",
      "   macro avg       0.95      0.95      0.95      6135\n",
      "weighted avg       0.95      0.95      0.95      6135\n",
      "\n",
      "----------------------------------------------------------\n"
     ]
    },
    {
     "data": {
      "image/png": "[encoded data removed]",
      "text/plain": [
       "<matplotlib.figure.Figure at 0xc9eb7b8>"
      ]
     },
     "metadata": {},
     "output_type": "display_data"
    }
   ],
   "source": [
    "used_features = ['seat_comfort_rating','cabin_staff_rating','overall_rating','value_money_rating','sentiment']\n",
    "acc, models = train(used_features=used_features)\n",
    "plot(acc, models)"
   ]
  },
  {
   "cell_type": "markdown",
   "metadata": {},
   "source": [
    "## Second combination: removing \"sentiment\""
   ]
  },
  {
   "cell_type": "code",
   "execution_count": 41,
   "metadata": {},
   "outputs": [
    {
     "name": "stdout",
     "output_type": "stream",
     "text": [
      "Accuracy of Logistic Regression is 94.6862265689\n",
      "Confusion Matrix\n",
      "\n",
      "        pred:1  pred:0\n",
      "true:1    3453     173\n",
      "true:0     153    2356\n",
      "\n",
      "\n",
      "              precision    recall  f1-score   support\n",
      "\n",
      "           0       0.93      0.94      0.94      2509\n",
      "           1       0.96      0.95      0.95      3626\n",
      "\n",
      "   micro avg       0.95      0.95      0.95      6135\n",
      "   macro avg       0.94      0.95      0.95      6135\n",
      "weighted avg       0.95      0.95      0.95      6135\n",
      "\n",
      "----------------------------------------------------------\n",
      "Accuracy of SVM is 94.7025264874\n",
      "Confusion Matrix\n",
      "\n",
      "        pred:1  pred:0\n",
      "true:1    3453     172\n",
      "true:0     153    2357\n",
      "\n",
      "\n",
      "              precision    recall  f1-score   support\n",
      "\n",
      "           0       0.93      0.94      0.94      2510\n",
      "           1       0.96      0.95      0.96      3625\n",
      "\n",
      "   micro avg       0.95      0.95      0.95      6135\n",
      "   macro avg       0.94      0.95      0.95      6135\n",
      "weighted avg       0.95      0.95      0.95      6135\n",
      "\n",
      "----------------------------------------------------------\n",
      "Accuracy of AdaBoost is 94.8818255909\n",
      "Confusion Matrix\n",
      "\n",
      "        pred:1  pred:0\n",
      "true:1    3453     161\n",
      "true:0     153    2368\n",
      "\n",
      "\n",
      "              precision    recall  f1-score   support\n",
      "\n",
      "           0       0.94      0.94      0.94      2521\n",
      "           1       0.96      0.96      0.96      3614\n",
      "\n",
      "   micro avg       0.95      0.95      0.95      6135\n",
      "   macro avg       0.95      0.95      0.95      6135\n",
      "weighted avg       0.95      0.95      0.95      6135\n",
      "\n",
      "----------------------------------------------------------\n",
      "Accuracy of Neural Network is 94.6536267319\n",
      "Confusion Matrix\n",
      "\n",
      "        pred:1  pred:0\n",
      "true:1    3476     198\n",
      "true:0     130    2331\n",
      "\n",
      "\n",
      "              precision    recall  f1-score   support\n",
      "\n",
      "           0       0.92      0.95      0.93      2461\n",
      "           1       0.96      0.95      0.95      3674\n",
      "\n",
      "   micro avg       0.95      0.95      0.95      6135\n",
      "   macro avg       0.94      0.95      0.94      6135\n",
      "weighted avg       0.95      0.95      0.95      6135\n",
      "\n",
      "----------------------------------------------------------\n"
     ]
    },
    {
     "data": {
      "image/png": "[encoded data removed]",
      "text/plain": [
       "<matplotlib.figure.Figure at 0xc9c7278>"
      ]
     },
     "metadata": {},
     "output_type": "display_data"
    }
   ],
   "source": [
    "used_features = ['seat_comfort_rating','cabin_staff_rating','overall_rating','value_money_rating']\n",
    "acc, models = train(used_features=used_features)\n",
    "plot(acc, models)"
   ]
  },
  {
   "cell_type": "markdown",
   "metadata": {},
   "source": [
    "## Third combination: removing \"seat_comfort_rating\"\n"
   ]
  },
  {
   "cell_type": "code",
   "execution_count": 42,
   "metadata": {},
   "outputs": [
    {
     "name": "stdout",
     "output_type": "stream",
     "text": [
      "Accuracy of Logistic Regression is 94.6373268134\n",
      "Confusion Matrix\n",
      "\n",
      "        pred:1  pred:0\n",
      "true:1    3451     174\n",
      "true:0     155    2355\n",
      "\n",
      "\n",
      "              precision    recall  f1-score   support\n",
      "\n",
      "           0       0.93      0.94      0.93      2510\n",
      "           1       0.96      0.95      0.95      3625\n",
      "\n",
      "   micro avg       0.95      0.95      0.95      6135\n",
      "   macro avg       0.94      0.95      0.94      6135\n",
      "weighted avg       0.95      0.95      0.95      6135\n",
      "\n",
      "----------------------------------------------------------\n",
      "Accuracy of SVM is 94.6536267319\n",
      "Confusion Matrix\n",
      "\n",
      "        pred:1  pred:0\n",
      "true:1    3450     172\n",
      "true:0     156    2357\n",
      "\n",
      "\n",
      "              precision    recall  f1-score   support\n",
      "\n",
      "           0       0.93      0.94      0.93      2513\n",
      "           1       0.96      0.95      0.95      3622\n",
      "\n",
      "   micro avg       0.95      0.95      0.95      6135\n",
      "   macro avg       0.94      0.95      0.94      6135\n",
      "weighted avg       0.95      0.95      0.95      6135\n",
      "\n",
      "----------------------------------------------------------\n",
      "Accuracy of AdaBoost is 94.7351263244\n",
      "Confusion Matrix\n",
      "\n",
      "        pred:1  pred:0\n",
      "true:1    3450     167\n",
      "true:0     156    2362\n",
      "\n",
      "\n",
      "              precision    recall  f1-score   support\n",
      "\n",
      "           0       0.93      0.94      0.94      2518\n",
      "           1       0.96      0.95      0.96      3617\n",
      "\n",
      "   micro avg       0.95      0.95      0.95      6135\n",
      "   macro avg       0.95      0.95      0.95      6135\n",
      "weighted avg       0.95      0.95      0.95      6135\n",
      "\n",
      "----------------------------------------------------------\n",
      "Accuracy of Neural Network is 94.7840260799\n",
      "Confusion Matrix\n",
      "\n",
      "        pred:1  pred:0\n",
      "true:1    3426     140\n",
      "true:0     180    2389\n",
      "\n",
      "\n",
      "              precision    recall  f1-score   support\n",
      "\n",
      "           0       0.94      0.93      0.94      2569\n",
      "           1       0.95      0.96      0.96      3566\n",
      "\n",
      "   micro avg       0.95      0.95      0.95      6135\n",
      "   macro avg       0.95      0.95      0.95      6135\n",
      "weighted avg       0.95      0.95      0.95      6135\n",
      "\n",
      "----------------------------------------------------------\n"
     ]
    },
    {
     "data": {
      "image/png": "[encoded data removed]",
      "text/plain": [
       "<matplotlib.figure.Figure at 0xcbe7278>"
      ]
     },
     "metadata": {},
     "output_type": "display_data"
    }
   ],
   "source": [
    "used_features = ['cabin_staff_rating','overall_rating','value_money_rating','sentiment']\n",
    "acc, models = train(used_features=used_features)\n",
    "plot(acc, models)"
   ]
  },
  {
   "cell_type": "markdown",
   "metadata": {},
   "source": [
    "## Fourth combination: removing \"overall_rating\" "
   ]
  },
  {
   "cell_type": "code",
   "execution_count": 43,
   "metadata": {},
   "outputs": [
    {
     "name": "stdout",
     "output_type": "stream",
     "text": [
      "Accuracy of Logistic Regression is 91.9152404238\n",
      "Confusion Matrix\n",
      "\n",
      "        pred:1  pred:0\n",
      "true:1    3397     287\n",
      "true:0     209    2242\n",
      "\n",
      "\n",
      "              precision    recall  f1-score   support\n",
      "\n",
      "           0       0.89      0.91      0.90      2451\n",
      "           1       0.94      0.92      0.93      3684\n",
      "\n",
      "   micro avg       0.92      0.92      0.92      6135\n",
      "   macro avg       0.91      0.92      0.92      6135\n",
      "weighted avg       0.92      0.92      0.92      6135\n",
      "\n",
      "----------------------------------------------------------\n",
      "Accuracy of SVM is 91.7196414018\n",
      "Confusion Matrix\n",
      "\n",
      "        pred:1  pred:0\n",
      "true:1    3384     286\n",
      "true:0     222    2243\n",
      "\n",
      "\n",
      "              precision    recall  f1-score   support\n",
      "\n",
      "           0       0.89      0.91      0.90      2465\n",
      "           1       0.94      0.92      0.93      3670\n",
      "\n",
      "   micro avg       0.92      0.92      0.92      6135\n",
      "   macro avg       0.91      0.92      0.91      6135\n",
      "weighted avg       0.92      0.92      0.92      6135\n",
      "\n",
      "----------------------------------------------------------\n",
      "Accuracy of AdaBoost is 92.4857375713\n",
      "Confusion Matrix\n",
      "\n",
      "        pred:1  pred:0\n",
      "true:1    3416     271\n",
      "true:0     190    2258\n",
      "\n",
      "\n",
      "              precision    recall  f1-score   support\n",
      "\n",
      "           0       0.89      0.92      0.91      2448\n",
      "           1       0.95      0.93      0.94      3687\n",
      "\n",
      "   micro avg       0.92      0.92      0.92      6135\n",
      "   macro avg       0.92      0.92      0.92      6135\n",
      "weighted avg       0.93      0.92      0.93      6135\n",
      "\n",
      "----------------------------------------------------------\n",
      "Accuracy of Neural Network is 92.5020374898\n",
      "Confusion Matrix\n",
      "\n",
      "        pred:1  pred:0\n",
      "true:1    3406     260\n",
      "true:0     200    2269\n",
      "\n",
      "\n",
      "              precision    recall  f1-score   support\n",
      "\n",
      "           0       0.90      0.92      0.91      2469\n",
      "           1       0.94      0.93      0.94      3666\n",
      "\n",
      "   micro avg       0.93      0.93      0.93      6135\n",
      "   macro avg       0.92      0.92      0.92      6135\n",
      "weighted avg       0.93      0.93      0.93      6135\n",
      "\n",
      "----------------------------------------------------------\n"
     ]
    },
    {
     "data": {
      "image/png": "[encoded data removed]",
      "text/plain": [
       "<matplotlib.figure.Figure at 0xf72e198>"
      ]
     },
     "metadata": {},
     "output_type": "display_data"
    }
   ],
   "source": [
    "used_features = ['seat_comfort_rating','cabin_staff_rating','value_money_rating','sentiment']\n",
    "acc, models = train(used_features=used_features)\n",
    "plot(acc, models)"
   ]
  },
  {
   "cell_type": "markdown",
   "metadata": {},
   "source": [
    "## Fifth combination: using only \"overall_rating\""
   ]
  },
  {
   "cell_type": "code",
   "execution_count": 44,
   "metadata": {},
   "outputs": [
    {
     "name": "stdout",
     "output_type": "stream",
     "text": [
      "Accuracy of Logistic Regression is 94.7025264874\n",
      "Confusion Matrix\n",
      "\n",
      "        pred:1  pred:0\n",
      "true:1    3424     143\n",
      "true:0     182    2386\n",
      "\n",
      "\n",
      "              precision    recall  f1-score   support\n",
      "\n",
      "           0       0.94      0.93      0.94      2568\n",
      "           1       0.95      0.96      0.95      3567\n",
      "\n",
      "   micro avg       0.95      0.95      0.95      6135\n",
      "   macro avg       0.95      0.94      0.95      6135\n",
      "weighted avg       0.95      0.95      0.95      6135\n",
      "\n",
      "----------------------------------------------------------\n",
      "Accuracy of SVM is 94.7025264874\n",
      "Confusion Matrix\n",
      "\n",
      "        pred:1  pred:0\n",
      "true:1    3424     143\n",
      "true:0     182    2386\n",
      "\n",
      "\n",
      "              precision    recall  f1-score   support\n",
      "\n",
      "           0       0.94      0.93      0.94      2568\n",
      "           1       0.95      0.96      0.95      3567\n",
      "\n",
      "   micro avg       0.95      0.95      0.95      6135\n",
      "   macro avg       0.95      0.94      0.95      6135\n",
      "weighted avg       0.95      0.95      0.95      6135\n",
      "\n",
      "----------------------------------------------------------\n",
      "Accuracy of AdaBoost is 94.7025264874\n",
      "Confusion Matrix\n",
      "\n",
      "        pred:1  pred:0\n",
      "true:1    3424     143\n",
      "true:0     182    2386\n",
      "\n",
      "\n",
      "              precision    recall  f1-score   support\n",
      "\n",
      "           0       0.94      0.93      0.94      2568\n",
      "           1       0.95      0.96      0.95      3567\n",
      "\n",
      "   micro avg       0.95      0.95      0.95      6135\n",
      "   macro avg       0.95      0.94      0.95      6135\n",
      "weighted avg       0.95      0.95      0.95      6135\n",
      "\n",
      "----------------------------------------------------------\n",
      "Accuracy of Neural Network is 94.7025264874\n",
      "Confusion Matrix\n",
      "\n",
      "        pred:1  pred:0\n",
      "true:1    3424     143\n",
      "true:0     182    2386\n",
      "\n",
      "\n",
      "              precision    recall  f1-score   support\n",
      "\n",
      "           0       0.94      0.93      0.94      2568\n",
      "           1       0.95      0.96      0.95      3567\n",
      "\n",
      "   micro avg       0.95      0.95      0.95      6135\n",
      "   macro avg       0.95      0.94      0.95      6135\n",
      "weighted avg       0.95      0.95      0.95      6135\n",
      "\n",
      "----------------------------------------------------------\n"
     ]
    },
    {
     "data": {
      "image/png": "[encoded data removed]",
      "text/plain": [
       "<matplotlib.figure.Figure at 0xca7bc88>"
      ]
     },
     "metadata": {},
     "output_type": "display_data"
    }
   ],
   "source": [
    "used_features = ['overall_rating']\n",
    "acc, models = train(used_features=used_features)\n",
    "plot(acc, models)"
   ]
  },
  {
   "cell_type": "markdown",
   "metadata": {},
   "source": [
    "## Sixth combination: Using only \"sentiment\""
   ]
  },
  {
   "cell_type": "code",
   "execution_count": 45,
   "metadata": {},
   "outputs": [
    {
     "name": "stdout",
     "output_type": "stream",
     "text": [
      "Accuracy of Logistic Regression is 80.717196414\n",
      "Confusion Matrix\n",
      "\n",
      "        pred:1  pred:0\n",
      "true:1    3022     599\n",
      "true:0     584    1930\n",
      "\n",
      "\n",
      "              precision    recall  f1-score   support\n",
      "\n",
      "           0       0.76      0.77      0.77      2514\n",
      "           1       0.84      0.83      0.84      3621\n",
      "\n",
      "   micro avg       0.81      0.81      0.81      6135\n",
      "   macro avg       0.80      0.80      0.80      6135\n",
      "weighted avg       0.81      0.81      0.81      6135\n",
      "\n",
      "----------------------------------------------------------\n",
      "Accuracy of SVM is 80.717196414\n",
      "Confusion Matrix\n",
      "\n",
      "        pred:1  pred:0\n",
      "true:1    3022     599\n",
      "true:0     584    1930\n",
      "\n",
      "\n",
      "              precision    recall  f1-score   support\n",
      "\n",
      "           0       0.76      0.77      0.77      2514\n",
      "           1       0.84      0.83      0.84      3621\n",
      "\n",
      "   micro avg       0.81      0.81      0.81      6135\n",
      "   macro avg       0.80      0.80      0.80      6135\n",
      "weighted avg       0.81      0.81      0.81      6135\n",
      "\n",
      "----------------------------------------------------------\n",
      "Accuracy of AdaBoost is 80.717196414\n",
      "Confusion Matrix\n",
      "\n",
      "        pred:1  pred:0\n",
      "true:1    3022     599\n",
      "true:0     584    1930\n",
      "\n",
      "\n",
      "              precision    recall  f1-score   support\n",
      "\n",
      "           0       0.76      0.77      0.77      2514\n",
      "           1       0.84      0.83      0.84      3621\n",
      "\n",
      "   micro avg       0.81      0.81      0.81      6135\n",
      "   macro avg       0.80      0.80      0.80      6135\n",
      "weighted avg       0.81      0.81      0.81      6135\n",
      "\n",
      "----------------------------------------------------------\n",
      "Accuracy of Neural Network is 80.717196414\n",
      "Confusion Matrix\n",
      "\n",
      "        pred:1  pred:0\n",
      "true:1    3022     599\n",
      "true:0     584    1930\n",
      "\n",
      "\n",
      "              precision    recall  f1-score   support\n",
      "\n",
      "           0       0.76      0.77      0.77      2514\n",
      "           1       0.84      0.83      0.84      3621\n",
      "\n",
      "   micro avg       0.81      0.81      0.81      6135\n",
      "   macro avg       0.80      0.80      0.80      6135\n",
      "weighted avg       0.81      0.81      0.81      6135\n",
      "\n",
      "----------------------------------------------------------\n"
     ]
    },
    {
     "data": {
      "image/png": "[encoded data removed]",
      "text/plain": [
       "<matplotlib.figure.Figure at 0xcaa9358>"
      ]
     },
     "metadata": {},
     "output_type": "display_data"
    }
   ],
   "source": [
    "used_features = ['sentiment']\n",
    "acc, models = train(used_features=used_features)\n",
    "plot(acc, models)"
   ]
  },
  {
   "cell_type": "markdown",
   "metadata": {},
   "source": [
    "## Seventh combination: Using \"overall_rating\" and \"money_value_rating\""
   ]
  },
  {
   "cell_type": "code",
   "execution_count": 46,
   "metadata": {},
   "outputs": [
    {
     "name": "stdout",
     "output_type": "stream",
     "text": [
      "Accuracy of Logistic Regression is 94.3765281174\n",
      "Confusion Matrix\n",
      "\n",
      "        pred:1  pred:0\n",
      "true:1    3460     199\n",
      "true:0     146    2330\n",
      "\n",
      "\n",
      "              precision    recall  f1-score   support\n",
      "\n",
      "           0       0.92      0.94      0.93      2476\n",
      "           1       0.96      0.95      0.95      3659\n",
      "\n",
      "   micro avg       0.94      0.94      0.94      6135\n",
      "   macro avg       0.94      0.94      0.94      6135\n",
      "weighted avg       0.94      0.94      0.94      6135\n",
      "\n",
      "----------------------------------------------------------\n",
      "Accuracy of SVM is 94.3765281174\n",
      "Confusion Matrix\n",
      "\n",
      "        pred:1  pred:0\n",
      "true:1    3460     199\n",
      "true:0     146    2330\n",
      "\n",
      "\n",
      "              precision    recall  f1-score   support\n",
      "\n",
      "           0       0.92      0.94      0.93      2476\n",
      "           1       0.96      0.95      0.95      3659\n",
      "\n",
      "   micro avg       0.94      0.94      0.94      6135\n",
      "   macro avg       0.94      0.94      0.94      6135\n",
      "weighted avg       0.94      0.94      0.94      6135\n",
      "\n",
      "----------------------------------------------------------\n",
      "Accuracy of AdaBoost is 94.5232273839\n",
      "Confusion Matrix\n",
      "\n",
      "        pred:1  pred:0\n",
      "true:1    3457     187\n",
      "true:0     149    2342\n",
      "\n",
      "\n",
      "              precision    recall  f1-score   support\n",
      "\n",
      "           0       0.93      0.94      0.93      2491\n",
      "           1       0.96      0.95      0.95      3644\n",
      "\n",
      "   micro avg       0.95      0.95      0.95      6135\n",
      "   macro avg       0.94      0.94      0.94      6135\n",
      "weighted avg       0.95      0.95      0.95      6135\n",
      "\n",
      "----------------------------------------------------------\n",
      "Accuracy of Neural Network is 94.5395273024\n",
      "Confusion Matrix\n",
      "\n",
      "        pred:1  pred:0\n",
      "true:1    3462     191\n",
      "true:0     144    2338\n",
      "\n",
      "\n",
      "              precision    recall  f1-score   support\n",
      "\n",
      "           0       0.92      0.94      0.93      2482\n",
      "           1       0.96      0.95      0.95      3653\n",
      "\n",
      "   micro avg       0.95      0.95      0.95      6135\n",
      "   macro avg       0.94      0.94      0.94      6135\n",
      "weighted avg       0.95      0.95      0.95      6135\n",
      "\n",
      "----------------------------------------------------------\n"
     ]
    },
    {
     "data": {
      "image/png": "[encoded data removed]",
      "text/plain": [
       "<matplotlib.figure.Figure at 0xcc8bcf8>"
      ]
     },
     "metadata": {},
     "output_type": "display_data"
    }
   ],
   "source": [
    "used_features = ['overall_rating','value_money_rating']\n",
    "acc, models = train(used_features=used_features)\n",
    "plot(acc, models)"
   ]
  },
  {
   "cell_type": "markdown",
   "metadata": {},
   "source": [
    "## Eighth combination: Using \"overall_rating\" and \"seat_comfort_rating\""
   ]
  },
  {
   "cell_type": "code",
   "execution_count": 47,
   "metadata": {},
   "outputs": [
    {
     "name": "stdout",
     "output_type": "stream",
     "text": [
      "Accuracy of Logistic Regression is 94.5558272209\n",
      "Confusion Matrix\n",
      "\n",
      "        pred:1  pred:0\n",
      "true:1    3429     157\n",
      "true:0     177    2372\n",
      "\n",
      "\n",
      "              precision    recall  f1-score   support\n",
      "\n",
      "           0       0.94      0.93      0.93      2549\n",
      "           1       0.95      0.96      0.95      3586\n",
      "\n",
      "   micro avg       0.95      0.95      0.95      6135\n",
      "   macro avg       0.94      0.94      0.94      6135\n",
      "weighted avg       0.95      0.95      0.95      6135\n",
      "\n",
      "----------------------------------------------------------\n",
      "Accuracy of SVM is 94.5558272209\n",
      "Confusion Matrix\n",
      "\n",
      "        pred:1  pred:0\n",
      "true:1    3429     157\n",
      "true:0     177    2372\n",
      "\n",
      "\n",
      "              precision    recall  f1-score   support\n",
      "\n",
      "           0       0.94      0.93      0.93      2549\n",
      "           1       0.95      0.96      0.95      3586\n",
      "\n",
      "   micro avg       0.95      0.95      0.95      6135\n",
      "   macro avg       0.94      0.94      0.94      6135\n",
      "weighted avg       0.95      0.95      0.95      6135\n",
      "\n",
      "----------------------------------------------------------\n",
      "Accuracy of AdaBoost is 94.5721271394\n",
      "Confusion Matrix\n",
      "\n",
      "        pred:1  pred:0\n",
      "true:1    3420     147\n",
      "true:0     186    2382\n",
      "\n",
      "\n",
      "              precision    recall  f1-score   support\n",
      "\n",
      "           0       0.94      0.93      0.93      2568\n",
      "           1       0.95      0.96      0.95      3567\n",
      "\n",
      "   micro avg       0.95      0.95      0.95      6135\n",
      "   macro avg       0.95      0.94      0.94      6135\n",
      "weighted avg       0.95      0.95      0.95      6135\n",
      "\n",
      "----------------------------------------------------------\n",
      "Accuracy of Neural Network is 94.6210268949\n",
      "Confusion Matrix\n",
      "\n",
      "        pred:1  pred:0\n",
      "true:1    3433     157\n",
      "true:0     173    2372\n",
      "\n",
      "\n",
      "              precision    recall  f1-score   support\n",
      "\n",
      "           0       0.94      0.93      0.93      2545\n",
      "           1       0.95      0.96      0.95      3590\n",
      "\n",
      "   micro avg       0.95      0.95      0.95      6135\n",
      "   macro avg       0.94      0.94      0.94      6135\n",
      "weighted avg       0.95      0.95      0.95      6135\n",
      "\n",
      "----------------------------------------------------------\n"
     ]
    },
    {
     "data": {
      "image/png": "[encoded data removed]",
      "text/plain": [
       "<matplotlib.figure.Figure at 0xcc6e5c0>"
      ]
     },
     "metadata": {},
     "output_type": "display_data"
    }
   ],
   "source": [
    "used_features = ['overall_rating','seat_comfort_rating']\n",
    "acc, models = train(used_features=used_features)\n",
    "plot(acc, models)"
   ]
  },
  {
   "cell_type": "markdown",
   "metadata": {},
   "source": [
    "## The best model is : combination 2 (removing sentiment), with Adaboost, so we will use this to classify a new example"
   ]
  },
  {
   "cell_type": "code",
   "execution_count": 48,
   "metadata": {
    "collapsed": true
   },
   "outputs": [],
   "source": [
    "used_features = ['seat_comfort_rating','cabin_staff_rating','overall_rating','value_money_rating']\n",
    "model = AdaBoostClassifier().fit(x_train[used_features],y_train)"
   ]
  },
  {
   "cell_type": "markdown",
   "metadata": {},
   "source": [
    "# now you can give your ratings in the following cell"
   ]
  },
  {
   "cell_type": "code",
   "execution_count": 50,
   "metadata": {},
   "outputs": [
    {
     "name": "stdout",
     "output_type": "stream",
     "text": [
      "seat comfort rating: 4\n",
      "cabin staff rating: 4\n",
      "overall rating: 7\n",
      "value money rating: 4\n"
     ]
    },
    {
     "data": {
      "text/plain": [
       "1"
      ]
     },
     "execution_count": 50,
     "metadata": {},
     "output_type": "execute_result"
    }
   ],
   "source": [
    "seat_comfort_rating = int(input('seat comfort rating: '))\n",
    "cabin_staff_rating = int(input('cabin staff rating: '))\n",
    "overall_rating = int(input('overall rating: '))\n",
    "value_money_rating = int(input('value money rating: '))\n",
    "\n",
    "d = {'seat_comfort_rating':[seat_comfort_rating],\n",
    "     'cabin_staff_rating': [cabin_staff_rating],\n",
    "     'overall_rating': [overall_rating],\n",
    "     'value_money_rating': [value_money_rating]}\n",
    "df = pd.DataFrame(data=d)\n",
    "df = df[used_features]\n",
    "np.asscalar(model.predict(df))"
   ]
  },
  {
   "cell_type": "markdown",
   "metadata": {},
   "source": [
    "## as you can see the result is 1, which means the user will recommend this airline, lets try with another example"
   ]
  },
  {
   "cell_type": "code",
   "execution_count": 51,
   "metadata": {},
   "outputs": [
    {
     "name": "stdout",
     "output_type": "stream",
     "text": [
      "seat comfort rating: 3\n",
      "cabin staff rating: 3\n",
      "overall rating: 3\n",
      "value money rating: 3\n"
     ]
    },
    {
     "data": {
      "text/plain": [
       "0"
      ]
     },
     "execution_count": 51,
     "metadata": {},
     "output_type": "execute_result"
    }
   ],
   "source": [
    "seat_comfort_rating = int(input('seat comfort rating: '))\n",
    "cabin_staff_rating = int(input('cabin staff rating: '))\n",
    "overall_rating = int(input('overall rating: '))\n",
    "value_money_rating = int(input('value money rating: '))\n",
    "\n",
    "d = {'seat_comfort_rating':[seat_comfort_rating],\n",
    "     'cabin_staff_rating': [cabin_staff_rating],\n",
    "     'overall_rating': [overall_rating],\n",
    "     'value_money_rating': [value_money_rating]}\n",
    "df = pd.DataFrame(data=d)\n",
    "df = df[used_features]\n",
    "np.asscalar(model.predict(df))"
   ]
  },
  {
   "cell_type": "markdown",
   "metadata": {},
   "source": [
    "## as you can see here the result is 0, which means the user will not recommend the airline,if you want to try another example just run the cell again, and enter your ratings in the end you will see the results"
   ]
  }
 ],
 "metadata": {
  "kernelspec": {
   "display_name": "Python [conda env:deep]",
   "language": "python",
   "name": "conda-env-deep-py"
  },
  "language_info": {
   "codemirror_mode": {
    "name": "ipython",
    "version": 3
   },
   "file_extension": ".py",
   "mimetype": "text/x-python",
   "name": "python",
   "nbconvert_exporter": "python",
   "pygments_lexer": "ipython3",
   "version": "3.7.2"
  }
 },
 "nbformat": 4,
 "nbformat_minor": 2
}
